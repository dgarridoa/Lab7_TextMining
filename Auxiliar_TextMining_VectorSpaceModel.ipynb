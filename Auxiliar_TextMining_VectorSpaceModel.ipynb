{
 "cells": [
  {
   "cell_type": "markdown",
   "metadata": {},
   "source": [
    "# Vector Space Model\n",
    "\n",
    "\n",
    "Vector Space Model es un modelo que representa un documento como un vector de términos, donde cada término es una dimensión del vector.\n",
    "\n",
    "- Documentos con diferentes palabras y largos viven en el mismo espacio.\n",
    "- Estas representaciones son además llamadas **Bag of Words** (o bolsa de palabras), donde un documento es representado por un conjunto no ordenado de sus términos.\n",
    "\n",
    "- El valor en cada dimensión is un peso que presenta la relevancia del término $i$ del vocabulario $V$ en el documento $d$.\n",
    "\n",
    "\\begin{equation*}\n",
    "d^{\\rightarrow} = (w_{1}, \\ldots, w_{|V|} )\n",
    "\\end{equation*}\n",
    "\n",
    "- Bag-of-words no representa la semántica de los documentos, palabras que son sinónimos por ejemplo son consideradas como términos diferentes, además el orden de las palabras dentro del documento se pierde.\n",
    "\n",
    "\n",
    "**Term Frequency (TF)**: También llamada Count Vector, el peso asociado a cada término del vocabulario dentro de un documento viene dado por la frecuencia del término dentro del documento ($tf_{i}$). Ejemplo:\n",
    "\n",
    "\n",
    "\n",
    "**Term Frequency-Inverted Document Frequency (TF-IDF)**: Esta transformación consiste en normalizar la frecuencia de cada término  $tf_{i}$ de un documento por $idf_{i} = ln(\\frac{N}{n_{i}})$, donde $n_{i}$ es las veces que el término ha aparecido al menos una vez en el total de documentos y $N$ es el número de documentos, siendo el peso para el término $i$ el siguiente $w_{i}= tf_{i} \\times idf_{i}$.\n",
    "\n",
    "\n",
    "<img src='img/bow_example.jpg'>\n",
    "\n",
    "Notar que si existe un término $j$ que aparece en todos los documentos su peso es 0 pues $idf_{j}=ln(\\frac{N}{n_{j}})=ln(\\frac{N}{N}) = ln(1)=0$.\n"
   ]
  },
  {
   "cell_type": "code",
   "execution_count": null,
   "metadata": {},
   "outputs": [],
   "source": [
    "import numpy as np\n",
    "import pandas as pd\n",
    "import matplotlib.pyplot as plt\n",
    "import operator\n",
    "import itertools\n",
    "import re\n",
    "from numpy.linalg import norm\n",
    "from time import time\n",
    "\n",
    "#Preprocesamiento\n",
    "import spacy\n",
    "from spacy.lang.es.stop_words import STOP_WORDS #importar set de stopwords\n",
    "from nltk.stem import SnowballStemmer #importar stemmer\n",
    "nlp = spacy.load('es_core_news_sm') #python -m spacy download es\n",
    "\n",
    "#Bag-of-words\n",
    "from sklearn.feature_extraction.text import CountVectorizer  \n",
    "from sklearn.feature_extraction.text import TfidfVectorizer\n",
    "\n",
    "#Clasificación\n",
    "import pickle\n",
    "from sklearn.model_selection import train_test_split\n",
    "from sklearn.naive_bayes import MultinomialNB\n",
    "from sklearn.linear_model import LogisticRegression\n",
    "from sklearn.svm import SVC\n",
    "from sklearn.neighbors import KNeighborsClassifier\n",
    "from sklearn.model_selection import GridSearchCV\n",
    "from sklearn.model_selection import RandomizedSearchCV\n",
    "from sklearn.pipeline import Pipeline\n",
    "from sklearn.metrics import confusion_matrix, f1_score, classification_report"
   ]
  },
  {
   "cell_type": "markdown",
   "metadata": {},
   "source": [
    "## 1. Preprocesamiento\n",
    "\n",
    "\n",
    "El objetivo del preprocesamiento en text-mining es reducir el vocabulario, eliminando aquellas palabras irrelevantes y homologando palabras con un significado similar.\n",
    " \n",
    " Algunas técnicas que podemos aplicar para reducir el vocabulario:\n",
    " 1. **Stop-words**: palabras que aportan poca información, por ejemplo: artículos, preposiciones, conectores. \n",
    " 2. **Stemming**: Llevar las palabra a su raíz gramatical. \n",
    " 3. **Lemmatization**: Llevar las palabras a su lema. \n",
    " 4. **Filtrar palabras de baja frecuencia**, por ejemplo menor a 10.\n",
    " 5. **Filtrar palabras con alta frecuencia** (stopwords contextuales), por ejemplo aquellas palabras que aparecen en todos los documento. En este caso una transformación TF-IDF genera una columna de ceros, esto implica nula o poca heterogeneidad por ende eliminar.\n",
    " 6. **Part of Speech Tagging (POST)**: etiquetado gramatical. Se suele utilizar en selección de atributos, por ejemplo dejando solo los sustantivos, pues estos son los que tienen la mayor parte de la información en una oración.\n",
    " 7. Usar **técnicas de selección de atributos**, por ejemplo, mutual information, chi-square, etc.\n",
    " \n",
    " \n",
    " Buenas prácticas de procesamiento:\n",
    "\n",
    "1. Eliminar caracteres no alfa-numéricos: $@\\_\\#\\%\\$/(?$\n",
    "2. Corrección de Ortografía. Las palabras con mala ortografía suelen tener baja frecuencia.\n",
    "3. Eliminar números, urls, correos (depende del contexto).\n",
    "4. Identificar palabras claves de ser necesario, por ejemplo, \"Juegos Olímpicos\" debiese ser considerado como un token."
   ]
  },
  {
   "cell_type": "markdown",
   "metadata": {},
   "source": [
    "### Base de datos\n",
    "La base de datos consiste de 5 conjuntos de noticias extraídas de la radio biobio. \n",
    "Cada conjunto de noticias contiene 200 documentos (noticias) y tiene asociado una categoría en {nacional, internacional, economía, sociedad, opinion}.\n",
    "\n",
    "**Creditos**: \n",
    "\n",
    "- Pablo Badilla Torrealba \n",
    "- https://github.com/dccuchile/CC6205/tree/master/tutorials"
   ]
  },
  {
   "cell_type": "code",
   "execution_count": 21,
   "metadata": {},
   "outputs": [],
   "source": [
    "df = pd.read_csv('news_biobio.csv', index_col=0)"
   ]
  },
  {
   "cell_type": "code",
   "execution_count": 29,
   "metadata": {},
   "outputs": [],
   "source": [
    "def tokenizer(doc, sep=None, stopwords_remove =False, lemmatization=False, stemming = False, vocabulary=None):\n",
    "    '''\n",
    "    Por defecto divide la sentencia por el carácter espacio.\n",
    "    Ej: 'Data Mining is the best course'->['Data',  'Mining', 'is', 'the', 'best', 'course']\n",
    "    \n",
    "    Input: \n",
    "    1. doc: str, documento.\n",
    "    2. sep: str, carácter para dividir el documento en tokens, por defecto es el espacio.\n",
    "    3. stopwords_remove: bool, si es True remueve los stopwords del documento.\n",
    "    4. lemmatization: bool, si es True lleva las palabras a su lema.\n",
    "    5. stemming: bool, si es True lleva las palabas a su raíz.\n",
    "    6. vocabuary: list, si un vocabulario es dado filtra las palabras que no estan presentes en el.\n",
    "    \n",
    "    Output: \n",
    "    list, lista de tokens.\n",
    "    \n",
    "    Nota: aplicar stemming y lemmatization al mismo tiempo no es correcto.\n",
    "    '''\n",
    "    doc = re.sub(r'[^\\w\\s]','', doc) #elimina los símbolos de puntuación\n",
    "    doc = re.sub(r'[a-zA-Z]+[0-9]+', '', doc) #elimina los caracteres que contienen letras y números\n",
    "    doc = re.sub(r'[0-9]+', ' ', doc) #elimina los caracteres numéricos\n",
    "   \n",
    "    tokens = doc.split(sep) #tokenización\n",
    "    tokens = [word.lower() for word in tokens] #pasar todas las palabras a minúsculas\n",
    "    \n",
    "    \n",
    "    \n",
    "    if stopwords_remove ==True: #remover stopwords y palabras con menos de tres caracteres\n",
    "        tokens = [word for word in tokens if word not in STOP_WORDS and len(word)>2]\n",
    "    \n",
    "    if lemmatization==True:\n",
    "        tokens = [nlp(word)[0].lemma_ for word in tokens]\n",
    "        \n",
    "    if stemming == True:\n",
    "        stemmer = SnowballStemmer('spanish')\n",
    "        tokens = [stemmer.stem(word) for word in tokens]\n",
    "    \n",
    "    if vocabulary is not None:\n",
    "        tokens = [word for word in tokens if word in vocabulary]\n",
    "    \n",
    "    return tokens\n"
   ]
  },
  {
   "cell_type": "code",
   "execution_count": 30,
   "metadata": {},
   "outputs": [
    {
     "name": "stdout",
     "output_type": "stream",
     "text": [
      "Texto original:\n",
      " Habla director de Compin Bío Bío que se autoaprobó licencia: afirma que no se percató que era suya \n",
      "\n",
      "Texto tokenizado:\n",
      " ['habla', 'director', 'de', 'compin', 'bío', 'bío', 'que', 'se', 'autoaprobó', 'licencia', 'afirma', 'que', 'no', 'se', 'percató', 'que', 'era', 'suya'] \n",
      "\n",
      "Texto tokenizado sin stopwords:\n",
      " ['director', 'compin', 'bío', 'bío', 'autoaprobó', 'licencia', 'afirma', 'percató'] \n",
      "\n",
      "Texto tokenizado con lematización:\n",
      " ['hablar', 'director', 'de', 'compin', 'bío', 'bío', 'que', 'se', 'autoaprobó', 'licenciar', 'afirmar', 'que', 'no', 'se', 'percatar', 'que', 'ser', 'suyo'] \n",
      "\n",
      "Texto tokenizado con stemming:\n",
      " ['habl', 'director', 'de', 'compin', 'bio', 'bio', 'que', 'se', 'autoaprob', 'licenci', 'afirm', 'que', 'no', 'se', 'percat', 'que', 'era', 'suy'] \n",
      "\n"
     ]
    }
   ],
   "source": [
    "text = df['title'].iloc[2]\n",
    "print('Texto original:\\n', text, '\\n')\n",
    "print('Texto tokenizado:\\n', tokenizer(text), '\\n')\n",
    "print('Texto tokenizado sin stopwords:\\n', tokenizer(text, stopwords_remove=True), '\\n')\n",
    "print('Texto tokenizado con lematización:\\n', tokenizer(text, lemmatization=True), '\\n')\n",
    "print('Texto tokenizado con stemming:\\n', tokenizer(text, stemming=True), '\\n')"
   ]
  },
  {
   "cell_type": "code",
   "execution_count": 31,
   "metadata": {},
   "outputs": [
    {
     "data": {
      "text/plain": [
       "<5x63 sparse matrix of type '<class 'numpy.int64'>'\n",
       "\twith 74 stored elements in Compressed Sparse Row format>"
      ]
     },
     "execution_count": 31,
     "metadata": {},
     "output_type": "execute_result"
    }
   ],
   "source": [
    "#Creamos los objetos que permiten llevar el corpus a un modelo bag-of-words\n",
    "tf_vectorizer = CountVectorizer(analyzer='word', tokenizer=tokenizer)\n",
    "tfidf_vectorizer = TfidfVectorizer(analyzer='word', tokenizer=tokenizer)\n",
    "\n",
    "# Extraemos 5 noticias y se la entregamos al vectorizador para que las transforme a vectores BoW.\n",
    "tf_sample = tf_vectorizer.fit_transform(df.sample(5, random_state=0).title)\n",
    "tfidf_sample = tfidf_vectorizer.fit_transform(df.sample(5, random_state=0).title)\n",
    "\n",
    "# Python guarda la matriz en un matriz de tipo sparse, debido a que existen varios palabras con ocurrencia 0\n",
    "tf_sample "
   ]
  },
  {
   "cell_type": "code",
   "execution_count": 404,
   "metadata": {},
   "outputs": [
    {
     "data": {
      "text/html": [
       "<div>\n",
       "<style scoped>\n",
       "    .dataframe tbody tr th:only-of-type {\n",
       "        vertical-align: middle;\n",
       "    }\n",
       "\n",
       "    .dataframe tbody tr th {\n",
       "        vertical-align: top;\n",
       "    }\n",
       "\n",
       "    .dataframe thead th {\n",
       "        text-align: right;\n",
       "    }\n",
       "</style>\n",
       "<table border=\"1\" class=\"dataframe\">\n",
       "  <thead>\n",
       "    <tr style=\"text-align: right;\">\n",
       "      <th></th>\n",
       "      <th>a</th>\n",
       "      <th>al</th>\n",
       "      <th>allamand</th>\n",
       "      <th>alza</th>\n",
       "      <th>avión</th>\n",
       "      <th>bungee</th>\n",
       "      <th>candidaturas</th>\n",
       "      <th>cayó</th>\n",
       "      <th>caída</th>\n",
       "      <th>cortarse</th>\n",
       "      <th>...</th>\n",
       "      <th>su</th>\n",
       "      <th>superintendente</th>\n",
       "      <th>susto</th>\n",
       "      <th>tempore</th>\n",
       "      <th>transparencia</th>\n",
       "      <th>tras</th>\n",
       "      <th>un</th>\n",
       "      <th>vida</th>\n",
       "      <th>vivió</th>\n",
       "      <th>y</th>\n",
       "    </tr>\n",
       "  </thead>\n",
       "  <tbody>\n",
       "    <tr>\n",
       "      <th>0</th>\n",
       "      <td>0</td>\n",
       "      <td>0</td>\n",
       "      <td>0</td>\n",
       "      <td>1</td>\n",
       "      <td>0</td>\n",
       "      <td>0</td>\n",
       "      <td>0</td>\n",
       "      <td>0</td>\n",
       "      <td>0</td>\n",
       "      <td>0</td>\n",
       "      <td>...</td>\n",
       "      <td>0</td>\n",
       "      <td>1</td>\n",
       "      <td>0</td>\n",
       "      <td>0</td>\n",
       "      <td>1</td>\n",
       "      <td>0</td>\n",
       "      <td>0</td>\n",
       "      <td>0</td>\n",
       "      <td>0</td>\n",
       "      <td>1</td>\n",
       "    </tr>\n",
       "    <tr>\n",
       "      <th>1</th>\n",
       "      <td>1</td>\n",
       "      <td>0</td>\n",
       "      <td>1</td>\n",
       "      <td>0</td>\n",
       "      <td>0</td>\n",
       "      <td>0</td>\n",
       "      <td>1</td>\n",
       "      <td>0</td>\n",
       "      <td>0</td>\n",
       "      <td>0</td>\n",
       "      <td>...</td>\n",
       "      <td>0</td>\n",
       "      <td>0</td>\n",
       "      <td>0</td>\n",
       "      <td>0</td>\n",
       "      <td>0</td>\n",
       "      <td>0</td>\n",
       "      <td>0</td>\n",
       "      <td>0</td>\n",
       "      <td>0</td>\n",
       "      <td>1</td>\n",
       "    </tr>\n",
       "    <tr>\n",
       "      <th>2</th>\n",
       "      <td>0</td>\n",
       "      <td>1</td>\n",
       "      <td>0</td>\n",
       "      <td>0</td>\n",
       "      <td>1</td>\n",
       "      <td>0</td>\n",
       "      <td>0</td>\n",
       "      <td>0</td>\n",
       "      <td>1</td>\n",
       "      <td>0</td>\n",
       "      <td>...</td>\n",
       "      <td>0</td>\n",
       "      <td>0</td>\n",
       "      <td>0</td>\n",
       "      <td>0</td>\n",
       "      <td>0</td>\n",
       "      <td>0</td>\n",
       "      <td>0</td>\n",
       "      <td>0</td>\n",
       "      <td>0</td>\n",
       "      <td>1</td>\n",
       "    </tr>\n",
       "    <tr>\n",
       "      <th>3</th>\n",
       "      <td>1</td>\n",
       "      <td>0</td>\n",
       "      <td>0</td>\n",
       "      <td>0</td>\n",
       "      <td>0</td>\n",
       "      <td>0</td>\n",
       "      <td>0</td>\n",
       "      <td>0</td>\n",
       "      <td>0</td>\n",
       "      <td>0</td>\n",
       "      <td>...</td>\n",
       "      <td>0</td>\n",
       "      <td>0</td>\n",
       "      <td>0</td>\n",
       "      <td>1</td>\n",
       "      <td>0</td>\n",
       "      <td>0</td>\n",
       "      <td>0</td>\n",
       "      <td>0</td>\n",
       "      <td>0</td>\n",
       "      <td>0</td>\n",
       "    </tr>\n",
       "    <tr>\n",
       "      <th>4</th>\n",
       "      <td>0</td>\n",
       "      <td>0</td>\n",
       "      <td>0</td>\n",
       "      <td>0</td>\n",
       "      <td>0</td>\n",
       "      <td>1</td>\n",
       "      <td>0</td>\n",
       "      <td>1</td>\n",
       "      <td>0</td>\n",
       "      <td>1</td>\n",
       "      <td>...</td>\n",
       "      <td>1</td>\n",
       "      <td>0</td>\n",
       "      <td>1</td>\n",
       "      <td>0</td>\n",
       "      <td>0</td>\n",
       "      <td>1</td>\n",
       "      <td>1</td>\n",
       "      <td>1</td>\n",
       "      <td>1</td>\n",
       "      <td>0</td>\n",
       "    </tr>\n",
       "  </tbody>\n",
       "</table>\n",
       "<p>5 rows × 63 columns</p>\n",
       "</div>"
      ],
      "text/plain": [
       "   a  al  allamand  alza  avión  bungee  candidaturas  cayó  caída  cortarse  \\\n",
       "0  0   0         0     1      0       0             0     0      0         0   \n",
       "1  1   0         1     0      0       0             1     0      0         0   \n",
       "2  0   1         0     0      1       0             0     0      1         0   \n",
       "3  1   0         0     0      0       0             0     0      0         0   \n",
       "4  0   0         0     0      0       1             0     1      0         1   \n",
       "\n",
       "   ...  su  superintendente  susto  tempore  transparencia  tras  un  vida  \\\n",
       "0  ...   0                1      0        0              1     0   0     0   \n",
       "1  ...   0                0      0        0              0     0   0     0   \n",
       "2  ...   0                0      0        0              0     0   0     0   \n",
       "3  ...   0                0      0        1              0     0   0     0   \n",
       "4  ...   1                0      1        0              0     1   1     1   \n",
       "\n",
       "   vivió  y  \n",
       "0      0  1  \n",
       "1      0  1  \n",
       "2      0  1  \n",
       "3      0  0  \n",
       "4      1  0  \n",
       "\n",
       "[5 rows x 63 columns]"
      ]
     },
     "execution_count": 404,
     "metadata": {},
     "output_type": "execute_result"
    }
   ],
   "source": [
    "#visualización de la matriz tf\n",
    "tf_sample = pd.DataFrame(tf_sample.todense(), columns=tf_vectorizer.get_feature_names()) \n",
    "tf_sample"
   ]
  },
  {
   "cell_type": "code",
   "execution_count": 405,
   "metadata": {},
   "outputs": [
    {
     "data": {
      "text/html": [
       "<div>\n",
       "<style scoped>\n",
       "    .dataframe tbody tr th:only-of-type {\n",
       "        vertical-align: middle;\n",
       "    }\n",
       "\n",
       "    .dataframe tbody tr th {\n",
       "        vertical-align: top;\n",
       "    }\n",
       "\n",
       "    .dataframe thead th {\n",
       "        text-align: right;\n",
       "    }\n",
       "</style>\n",
       "<table border=\"1\" class=\"dataframe\">\n",
       "  <thead>\n",
       "    <tr style=\"text-align: right;\">\n",
       "      <th></th>\n",
       "      <th>a</th>\n",
       "      <th>al</th>\n",
       "      <th>allamand</th>\n",
       "      <th>alza</th>\n",
       "      <th>avión</th>\n",
       "      <th>bungee</th>\n",
       "      <th>candidaturas</th>\n",
       "      <th>cayó</th>\n",
       "      <th>caída</th>\n",
       "      <th>cortarse</th>\n",
       "      <th>...</th>\n",
       "      <th>su</th>\n",
       "      <th>superintendente</th>\n",
       "      <th>susto</th>\n",
       "      <th>tempore</th>\n",
       "      <th>transparencia</th>\n",
       "      <th>tras</th>\n",
       "      <th>un</th>\n",
       "      <th>vida</th>\n",
       "      <th>vivió</th>\n",
       "      <th>y</th>\n",
       "    </tr>\n",
       "  </thead>\n",
       "  <tbody>\n",
       "    <tr>\n",
       "      <th>0</th>\n",
       "      <td>0.000000</td>\n",
       "      <td>0.000000</td>\n",
       "      <td>0.000000</td>\n",
       "      <td>0.281066</td>\n",
       "      <td>0.000000</td>\n",
       "      <td>0.000000</td>\n",
       "      <td>0.000000</td>\n",
       "      <td>0.000000</td>\n",
       "      <td>0.000000</td>\n",
       "      <td>0.000000</td>\n",
       "      <td>...</td>\n",
       "      <td>0.000000</td>\n",
       "      <td>0.281066</td>\n",
       "      <td>0.000000</td>\n",
       "      <td>0.000000</td>\n",
       "      <td>0.281066</td>\n",
       "      <td>0.000000</td>\n",
       "      <td>0.000000</td>\n",
       "      <td>0.000000</td>\n",
       "      <td>0.000000</td>\n",
       "      <td>0.188233</td>\n",
       "    </tr>\n",
       "    <tr>\n",
       "      <th>1</th>\n",
       "      <td>0.209893</td>\n",
       "      <td>0.000000</td>\n",
       "      <td>0.260157</td>\n",
       "      <td>0.000000</td>\n",
       "      <td>0.000000</td>\n",
       "      <td>0.000000</td>\n",
       "      <td>0.260157</td>\n",
       "      <td>0.000000</td>\n",
       "      <td>0.000000</td>\n",
       "      <td>0.000000</td>\n",
       "      <td>...</td>\n",
       "      <td>0.000000</td>\n",
       "      <td>0.000000</td>\n",
       "      <td>0.000000</td>\n",
       "      <td>0.000000</td>\n",
       "      <td>0.000000</td>\n",
       "      <td>0.000000</td>\n",
       "      <td>0.000000</td>\n",
       "      <td>0.000000</td>\n",
       "      <td>0.000000</td>\n",
       "      <td>0.174230</td>\n",
       "    </tr>\n",
       "    <tr>\n",
       "      <th>2</th>\n",
       "      <td>0.000000</td>\n",
       "      <td>0.319846</td>\n",
       "      <td>0.000000</td>\n",
       "      <td>0.000000</td>\n",
       "      <td>0.319846</td>\n",
       "      <td>0.000000</td>\n",
       "      <td>0.000000</td>\n",
       "      <td>0.000000</td>\n",
       "      <td>0.319846</td>\n",
       "      <td>0.000000</td>\n",
       "      <td>...</td>\n",
       "      <td>0.000000</td>\n",
       "      <td>0.000000</td>\n",
       "      <td>0.000000</td>\n",
       "      <td>0.000000</td>\n",
       "      <td>0.000000</td>\n",
       "      <td>0.000000</td>\n",
       "      <td>0.000000</td>\n",
       "      <td>0.000000</td>\n",
       "      <td>0.000000</td>\n",
       "      <td>0.214205</td>\n",
       "    </tr>\n",
       "    <tr>\n",
       "      <th>3</th>\n",
       "      <td>0.233121</td>\n",
       "      <td>0.000000</td>\n",
       "      <td>0.000000</td>\n",
       "      <td>0.000000</td>\n",
       "      <td>0.000000</td>\n",
       "      <td>0.000000</td>\n",
       "      <td>0.000000</td>\n",
       "      <td>0.000000</td>\n",
       "      <td>0.000000</td>\n",
       "      <td>0.000000</td>\n",
       "      <td>...</td>\n",
       "      <td>0.000000</td>\n",
       "      <td>0.000000</td>\n",
       "      <td>0.000000</td>\n",
       "      <td>0.288947</td>\n",
       "      <td>0.000000</td>\n",
       "      <td>0.000000</td>\n",
       "      <td>0.000000</td>\n",
       "      <td>0.000000</td>\n",
       "      <td>0.000000</td>\n",
       "      <td>0.000000</td>\n",
       "    </tr>\n",
       "    <tr>\n",
       "      <th>4</th>\n",
       "      <td>0.000000</td>\n",
       "      <td>0.000000</td>\n",
       "      <td>0.000000</td>\n",
       "      <td>0.000000</td>\n",
       "      <td>0.000000</td>\n",
       "      <td>0.243193</td>\n",
       "      <td>0.000000</td>\n",
       "      <td>0.243193</td>\n",
       "      <td>0.000000</td>\n",
       "      <td>0.243193</td>\n",
       "      <td>...</td>\n",
       "      <td>0.243193</td>\n",
       "      <td>0.000000</td>\n",
       "      <td>0.243193</td>\n",
       "      <td>0.000000</td>\n",
       "      <td>0.000000</td>\n",
       "      <td>0.243193</td>\n",
       "      <td>0.243193</td>\n",
       "      <td>0.243193</td>\n",
       "      <td>0.243193</td>\n",
       "      <td>0.000000</td>\n",
       "    </tr>\n",
       "  </tbody>\n",
       "</table>\n",
       "<p>5 rows × 63 columns</p>\n",
       "</div>"
      ],
      "text/plain": [
       "          a        al  allamand      alza     avión    bungee  candidaturas  \\\n",
       "0  0.000000  0.000000  0.000000  0.281066  0.000000  0.000000      0.000000   \n",
       "1  0.209893  0.000000  0.260157  0.000000  0.000000  0.000000      0.260157   \n",
       "2  0.000000  0.319846  0.000000  0.000000  0.319846  0.000000      0.000000   \n",
       "3  0.233121  0.000000  0.000000  0.000000  0.000000  0.000000      0.000000   \n",
       "4  0.000000  0.000000  0.000000  0.000000  0.000000  0.243193      0.000000   \n",
       "\n",
       "       cayó     caída  cortarse  ...        su  superintendente     susto  \\\n",
       "0  0.000000  0.000000  0.000000  ...  0.000000         0.281066  0.000000   \n",
       "1  0.000000  0.000000  0.000000  ...  0.000000         0.000000  0.000000   \n",
       "2  0.000000  0.319846  0.000000  ...  0.000000         0.000000  0.000000   \n",
       "3  0.000000  0.000000  0.000000  ...  0.000000         0.000000  0.000000   \n",
       "4  0.243193  0.000000  0.243193  ...  0.243193         0.000000  0.243193   \n",
       "\n",
       "    tempore  transparencia      tras        un      vida     vivió         y  \n",
       "0  0.000000       0.281066  0.000000  0.000000  0.000000  0.000000  0.188233  \n",
       "1  0.000000       0.000000  0.000000  0.000000  0.000000  0.000000  0.174230  \n",
       "2  0.000000       0.000000  0.000000  0.000000  0.000000  0.000000  0.214205  \n",
       "3  0.288947       0.000000  0.000000  0.000000  0.000000  0.000000  0.000000  \n",
       "4  0.000000       0.000000  0.243193  0.243193  0.243193  0.243193  0.000000  \n",
       "\n",
       "[5 rows x 63 columns]"
      ]
     },
     "execution_count": 405,
     "metadata": {},
     "output_type": "execute_result"
    }
   ],
   "source": [
    "#visualización de la matriz tf-idf\n",
    "tfidf_sample = pd.DataFrame(tfidf_sample.todense(), columns=tfidf_vectorizer.get_feature_names()) \n",
    "tfidf_sample"
   ]
  },
  {
   "cell_type": "markdown",
   "metadata": {},
   "source": [
    "## 2. Clasificación"
   ]
  },
  {
   "cell_type": "code",
   "execution_count": 40,
   "metadata": {},
   "outputs": [],
   "source": [
    "def plot_confusion_matrix(cm, classes, normalize=False, title='Confusion matrix', cmap=plt.cm.Blues):\n",
    "    \"\"\"\n",
    "    This function prints and plots the confusion matrix.\n",
    "    Normalization can be applied by setting `normalize=True`.\n",
    "    \"\"\"\n",
    "    plt.figure(figsize=(8,8))\n",
    "    plt.title(title)\n",
    "    tick_marks = np.arange(len(classes))\n",
    "    plt.xticks(tick_marks, classes, rotation=45)\n",
    "    plt.yticks(tick_marks, classes)\n",
    "\n",
    "    if normalize:\n",
    "        cm = cm.astype('float') / cm.sum(axis=1)[:, np.newaxis]\n",
    "        cm = np.round(cm, decimals=3)\n",
    "\n",
    "        print(\"Normalized confusion matrix\")\n",
    "    else:\n",
    "        print('Confusion matrix, without normalization')\n",
    "\n",
    "\n",
    "    thresh = cm.max() / 2.\n",
    "    for i, j in itertools.product(range(cm.shape[0]), range(cm.shape[1])):\n",
    "        plt.text(j, i, cm[i, j],\n",
    "                 horizontalalignment=\"center\",\n",
    "                 color=\"white\" if cm[i, j] > thresh else \"black\")\n",
    "    plt.imshow(cm, interpolation='nearest', cmap=cmap)\n",
    "\n",
    "    plt.colorbar()\n",
    "\n",
    "    plt.tight_layout()\n",
    "    plt.ylabel('True label')\n",
    "    plt.xlabel('Predicted label')\n",
    "    plt.show()"
   ]
  },
  {
   "cell_type": "code",
   "execution_count": 7,
   "metadata": {},
   "outputs": [],
   "source": [
    "#Definimos el conjunto de entrenamiento y test\n",
    "X_train, X_test, y_train, y_test = train_test_split(df.content, df.category, test_size=0.2, random_state=0, stratify= df.category)"
   ]
  },
  {
   "cell_type": "code",
   "execution_count": 8,
   "metadata": {},
   "outputs": [],
   "source": [
    "#Creamos objetos para llevar el corpus a bag-of-words\n",
    "args = {\"stopwords_remove\": True, 'stemming': True}\n",
    "tf_vectorizer = CountVectorizer(analyzer='word', tokenizer=lambda text: tokenizer(text, **args),\n",
    "                               max_df = 0.8, min_df = 5)\n",
    "tfidf_vectorizer = TfidfVectorizer(analyzer='word', tokenizer=lambda text: tokenizer(text, **args),\n",
    "                                  max_df = 0.8, min_df = 5) "
   ]
  },
  {
   "cell_type": "markdown",
   "metadata": {},
   "source": [
    "El código anterior realizará el siguiente procesamiento al corpus:\n",
    "1. Elimina stopwords.\n",
    "2. Aplica stemming.\n",
    "3. Elimina palabras que aparacen en más del 80% de los documentos.\n",
    "4. Elimina palabras que aparecen en menos de 5 documentos."
   ]
  },
  {
   "cell_type": "markdown",
   "metadata": {},
   "source": [
    "### 2.1 Naive bayes"
   ]
  },
  {
   "cell_type": "code",
   "execution_count": 631,
   "metadata": {},
   "outputs": [],
   "source": [
    "clf_nb = MultinomialNB() #objeto clasificador\n",
    "tf_clf_nb = Pipeline([('vect', tf_vectorizer), ('clf', clf_nb)])#objeto pipeline"
   ]
  },
  {
   "cell_type": "code",
   "execution_count": 632,
   "metadata": {},
   "outputs": [
    {
     "data": {
      "text/plain": [
       "Pipeline(memory=None,\n",
       "         steps=[('vect',\n",
       "                 CountVectorizer(analyzer='word', binary=False,\n",
       "                                 decode_error='strict',\n",
       "                                 dtype=<class 'numpy.int64'>, encoding='utf-8',\n",
       "                                 input='content', lowercase=True, max_df=0.8,\n",
       "                                 max_features=None, min_df=5,\n",
       "                                 ngram_range=(1, 1), preprocessor=None,\n",
       "                                 stop_words=None, strip_accents=None,\n",
       "                                 token_pattern='(?u)\\\\b\\\\w\\\\w+\\\\b',\n",
       "                                 tokenizer=<function <lambda> at 0x000002061B6B0158>,\n",
       "                                 vocabulary=None)),\n",
       "                ('clf',\n",
       "                 MultinomialNB(alpha=1.0, class_prior=None, fit_prior=True))],\n",
       "         verbose=False)"
      ]
     },
     "execution_count": 632,
     "metadata": {},
     "output_type": "execute_result"
    }
   ],
   "source": [
    "tf_clf_nb.fit(X_train, y_train)"
   ]
  },
  {
   "cell_type": "code",
   "execution_count": 633,
   "metadata": {},
   "outputs": [
    {
     "name": "stdout",
     "output_type": "stream",
     "text": [
      "Tamaño del vocabulario: 3511\n"
     ]
    }
   ],
   "source": [
    "print('Tamaño del vocabulario:', len(tf_clf_nb['vect'].vocabulary_))"
   ]
  },
  {
   "cell_type": "code",
   "execution_count": 634,
   "metadata": {},
   "outputs": [
    {
     "name": "stdout",
     "output_type": "stream",
     "text": [
      "               precision    recall  f1-score   support\n",
      "\n",
      "     Economia       0.86      0.95      0.90        40\n",
      "Internacional       0.92      0.82      0.87        40\n",
      "     Nacional       0.84      0.93      0.88        40\n",
      "      Opinion       0.91      0.78      0.84        40\n",
      "     Sociedad       0.90      0.95      0.93        40\n",
      "\n",
      "     accuracy                           0.89       200\n",
      "    macro avg       0.89      0.89      0.88       200\n",
      " weighted avg       0.89      0.89      0.88       200\n",
      "\n",
      "f1-score 0.883760488895277 \n",
      "\n",
      "Normalized confusion matrix\n"
     ]
    },
    {
     "data": {
      "image/png": "[encoded data removed]",
      "text/plain": [
       "<Figure size 576x576 with 2 Axes>"
      ]
     },
     "metadata": {
      "needs_background": "light"
     },
     "output_type": "display_data"
    }
   ],
   "source": [
    "y_predicted = tf_clf_nb.predict(X_test)\n",
    "cm = confusion_matrix(y_test, y_predicted)\n",
    "class_report = classification_report(y_test, y_predicted) \n",
    "print(class_report)\n",
    "f1 = f1_score(y_test, y_predicted, average='macro') \n",
    "print('f1-score', f1, '\\n')\n",
    "plot_confusion_matrix(cm, [*clf_nb.classes_], normalize=True) "
   ]
  },
  {
   "cell_type": "markdown",
   "metadata": {},
   "source": [
    "#### Ejemplo de como guardar un modelo"
   ]
  },
  {
   "cell_type": "code",
   "execution_count": 635,
   "metadata": {},
   "outputs": [],
   "source": [
    "#Guardar vocabulario\n",
    "pickle.dump(tf_clf_nb['vect'].vocabulary_, open(\"vocabulary.pkl\",\"wb\"))\n",
    "\n",
    "#Cargar vocabulario\n",
    "vocabulary = pickle.load(open(\"vocabulary.pkl\", \"rb\"))\n",
    "\n",
    "loaded_vec = CountVectorizer(analyzer='word', tokenizer=lambda text: tokenizer(text, **args),\n",
    "                             decode_error=\"replace\", vocabulary=vocabulary)\n",
    "   \n",
    "#Guardar clasificador\n",
    "with open('nb_model.pkl', 'wb') as f:\n",
    "    pickle.dump(tf_clf_nb['clf'], f)\n",
    "\n",
    "#Cargar clasficador\n",
    "with open('nb_model.pkl', 'rb') as f:\n",
    "    clf_nb = pickle.load(f)"
   ]
  },
  {
   "cell_type": "code",
   "execution_count": 636,
   "metadata": {},
   "outputs": [
    {
     "data": {
      "text/plain": [
       "['Alrededor de 40 mil hogares de Puente Alto, Pirque y San José de Maipo sufren corte de energía',\n",
       " 'Nacional']"
      ]
     },
     "execution_count": 636,
     "metadata": {},
     "output_type": "execute_result"
    }
   ],
   "source": [
    "[df['title'][1], df['category'][1]]"
   ]
  },
  {
   "cell_type": "code",
   "execution_count": 637,
   "metadata": {},
   "outputs": [
    {
     "data": {
      "text/plain": [
       "array(['Nacional'], dtype='<U13')"
      ]
     },
     "execution_count": 637,
     "metadata": {},
     "output_type": "execute_result"
    }
   ],
   "source": [
    "#Realizar una prediccioón\n",
    "clf_nb.predict(loaded_vec.fit_transform(['Alrededor de 40 mil hogares de Puente Alto, Pirque y San José de Maipo sufren corte de energía']))"
   ]
  },
  {
   "cell_type": "markdown",
   "metadata": {},
   "source": [
    "### 2.2 Regresión logística"
   ]
  },
  {
   "cell_type": "code",
   "execution_count": 638,
   "metadata": {},
   "outputs": [],
   "source": [
    "#Creamos los objetos necesarios para el flujo de entrenamiento\n",
    "lf_lg = LogisticRegression(multi_class='multinomial', solver='newton-cg') #objeto clasificador\n",
    "tfidf_clf_lg = Pipeline([('vect', tfidf_vectorizer), ('clf', clf_lg)])"
   ]
  },
  {
   "cell_type": "code",
   "execution_count": 639,
   "metadata": {},
   "outputs": [
    {
     "data": {
      "text/plain": [
       "Pipeline(memory=None,\n",
       "         steps=[('vect',\n",
       "                 TfidfVectorizer(analyzer='word', binary=False,\n",
       "                                 decode_error='strict',\n",
       "                                 dtype=<class 'numpy.float64'>,\n",
       "                                 encoding='utf-8', input='content',\n",
       "                                 lowercase=True, max_df=0.8, max_features=None,\n",
       "                                 min_df=5, ngram_range=(1, 1), norm='l2',\n",
       "                                 preprocessor=None, smooth_idf=True,\n",
       "                                 stop_words=None, strip_accents=None,\n",
       "                                 sublinear_tf=False,\n",
       "                                 token_pattern='(...\n",
       "                                 tokenizer=<function <lambda> at 0x000002061B6B01E0>,\n",
       "                                 use_idf=True, vocabulary=None)),\n",
       "                ('clf',\n",
       "                 LogisticRegression(C=1.0, class_weight=None, dual=False,\n",
       "                                    fit_intercept=True, intercept_scaling=1,\n",
       "                                    l1_ratio=None, max_iter=100,\n",
       "                                    multi_class='multinomial', n_jobs=None,\n",
       "                                    penalty='l2', random_state=None,\n",
       "                                    solver='newton-cg', tol=0.0001, verbose=0,\n",
       "                                    warm_start=False))],\n",
       "         verbose=False)"
      ]
     },
     "execution_count": 639,
     "metadata": {},
     "output_type": "execute_result"
    }
   ],
   "source": [
    "#entrenamiento\n",
    "tfidf_clf_lg.fit(X_train, y_train)"
   ]
  },
  {
   "cell_type": "code",
   "execution_count": 645,
   "metadata": {},
   "outputs": [
    {
     "name": "stdout",
     "output_type": "stream",
     "text": [
      "               precision    recall  f1-score   support\n",
      "\n",
      "     Economia       0.86      0.90      0.88        40\n",
      "Internacional       0.94      0.80      0.86        40\n",
      "     Nacional       0.82      0.90      0.86        40\n",
      "      Opinion       0.89      0.78      0.83        40\n",
      "     Sociedad       0.84      0.95      0.89        40\n",
      "\n",
      "     accuracy                           0.86       200\n",
      "    macro avg       0.87      0.86      0.86       200\n",
      " weighted avg       0.87      0.86      0.86       200\n",
      "\n",
      "f1-score 0.8641681632442035 \n",
      "\n",
      "Normalized confusion matrix\n"
     ]
    },
    {
     "data": {
      "image/png": "[encoded data removed]",
      "text/plain": [
       "<Figure size 576x576 with 2 Axes>"
      ]
     },
     "metadata": {
      "needs_background": "light"
     },
     "output_type": "display_data"
    }
   ],
   "source": [
    "#test\n",
    "y_predicted = tfidf_clf_lg.predict(X_test)\n",
    "cm = confusion_matrix(y_test, y_predicted)\n",
    "class_report = classification_report(y_test, y_predicted) \n",
    "print(class_report)\n",
    "f1 = f1_score(y_test, y_predicted, average='macro') \n",
    "print('f1-score', f1, '\\n')\n",
    "plot_confusion_matrix(cm, [*clf_lg.classes_], normalize=True) "
   ]
  },
  {
   "cell_type": "code",
   "execution_count": 641,
   "metadata": {},
   "outputs": [],
   "source": [
    "##Creamos los objetos necesarios para el flujo de entrenamiento\n",
    "\n",
    "clf_svm = SVC() #objeto clasificador\n",
    "parameters = {'C': range( 1, 10, 1 ), 'kernel': ['linear', 'poly', 'rbf']} #grilla de hiperparámetros\n",
    "\n",
    "#A través de cross-validation determinar los mejores hiperparámetros escogidos al azar de la grilla\n",
    "clf_svm_rcv = RandomizedSearchCV(estimator=clf_svm, param_distributions = parameters, n_iter=10, cv=5, \n",
    "                                scoring = 'accuracy', random_state=0, iid =False, n_jobs=-1)\n",
    "tfidf_clf_svm = Pipeline([('vect', tfidf_vectorizer), ('clf', clf_svm_rcv)])"
   ]
  },
  {
   "cell_type": "code",
   "execution_count": 642,
   "metadata": {},
   "outputs": [
    {
     "data": {
      "text/plain": [
       "Pipeline(memory=None,\n",
       "         steps=[('vect',\n",
       "                 TfidfVectorizer(analyzer='word', binary=False,\n",
       "                                 decode_error='strict',\n",
       "                                 dtype=<class 'numpy.float64'>,\n",
       "                                 encoding='utf-8', input='content',\n",
       "                                 lowercase=True, max_df=0.8, max_features=None,\n",
       "                                 min_df=5, ngram_range=(1, 1), norm='l2',\n",
       "                                 preprocessor=None, smooth_idf=True,\n",
       "                                 stop_words=None, strip_accents=None,\n",
       "                                 sublinear_tf=False,\n",
       "                                 token_pattern='(...\n",
       "                                                  degree=3,\n",
       "                                                  gamma='auto_deprecated',\n",
       "                                                  kernel='rbf', max_iter=-1,\n",
       "                                                  probability=False,\n",
       "                                                  random_state=None,\n",
       "                                                  shrinking=True, tol=0.001,\n",
       "                                                  verbose=False),\n",
       "                                    iid=False, n_iter=10, n_jobs=-1,\n",
       "                                    param_distributions={'C': range(1, 10),\n",
       "                                                         'kernel': ['linear',\n",
       "                                                                    'poly',\n",
       "                                                                    'rbf']},\n",
       "                                    pre_dispatch='2*n_jobs', random_state=0,\n",
       "                                    refit=True, return_train_score=False,\n",
       "                                    scoring='accuracy', verbose=0))],\n",
       "         verbose=False)"
      ]
     },
     "execution_count": 642,
     "metadata": {},
     "output_type": "execute_result"
    }
   ],
   "source": [
    "#entrenamiento\n",
    "tfidf_clf_svm.fit(X_train, y_train)"
   ]
  },
  {
   "cell_type": "code",
   "execution_count": 643,
   "metadata": {},
   "outputs": [
    {
     "data": {
      "text/plain": [
       "{'kernel': 'linear', 'C': 9}"
      ]
     },
     "execution_count": 643,
     "metadata": {},
     "output_type": "execute_result"
    }
   ],
   "source": [
    "#los mejores hipeparámetros\n",
    "tfidf_clf_svm['clf'].best_params_ "
   ]
  },
  {
   "cell_type": "code",
   "execution_count": 461,
   "metadata": {},
   "outputs": [
    {
     "name": "stdout",
     "output_type": "stream",
     "text": [
      "               precision    recall  f1-score   support\n",
      "\n",
      "     Economia       0.86      0.88      0.87        41\n",
      "Internacional       0.93      0.84      0.88        49\n",
      "     Nacional       0.77      0.88      0.82        26\n",
      "      Opinion       0.92      0.90      0.91        40\n",
      "     Sociedad       0.84      0.86      0.85        44\n",
      "\n",
      "     accuracy                           0.87       200\n",
      "    macro avg       0.86      0.87      0.87       200\n",
      " weighted avg       0.87      0.87      0.87       200\n",
      "\n",
      "f1-score 0.8671887740774249 \n",
      "\n",
      "Normalized confusion matrix\n"
     ]
    },
    {
     "data": {
      "image/png": "[encoded data removed]",
      "text/plain": [
       "<Figure size 576x576 with 2 Axes>"
      ]
     },
     "metadata": {
      "needs_background": "light"
     },
     "output_type": "display_data"
    }
   ],
   "source": [
    "#test\n",
    "y_predicted = tfidf_clf_svm.predict(X_test)\n",
    "cm = confusion_matrix(y_test, y_predicted)\n",
    "class_report = classification_report(y_test, y_predicted) \n",
    "print(class_report)\n",
    "f1 = f1_score(y_test, y_predicted, average='macro') \n",
    "print('f1-score', f1, '\\n')\n",
    "plot_confusion_matrix(cm, [*tfidf_clf_svm.classes_], normalize=True) "
   ]
  },
  {
   "cell_type": "markdown",
   "metadata": {},
   "source": [
    "### ¿Cuál sería el performance de los clasificadores si utilizamos como documentos los títulos de la noticia en vez del contenido?"
   ]
  },
  {
   "cell_type": "code",
   "execution_count": 37,
   "metadata": {},
   "outputs": [],
   "source": [
    "#Definimos el conjunto de entrenamiento y test\n",
    "X_train, X_test, y_train, y_test = train_test_split(df.title, df.category, test_size=0.2, random_state=0, stratify= df.category)"
   ]
  },
  {
   "cell_type": "code",
   "execution_count": 38,
   "metadata": {},
   "outputs": [],
   "source": [
    "#Creamos objetos para llevar el corpus a bag-of-words\n",
    "args = {\"stopwords_remove\": True, 'stemming': True}\n",
    "tf_vectorizer = CountVectorizer(analyzer='word', tokenizer=lambda text: tokenizer(text, **args))\n",
    "tfidf_vectorizer = TfidfVectorizer(analyzer='word', tokenizer=lambda text: tokenizer(text, **args)) "
   ]
  },
  {
   "cell_type": "markdown",
   "metadata": {},
   "source": [
    "### 1. NB"
   ]
  },
  {
   "cell_type": "code",
   "execution_count": 41,
   "metadata": {},
   "outputs": [
    {
     "name": "stdout",
     "output_type": "stream",
     "text": [
      "               precision    recall  f1-score   support\n",
      "\n",
      "     Economia       0.76      0.80      0.78        40\n",
      "Internacional       0.73      0.82      0.78        40\n",
      "     Nacional       0.62      0.80      0.70        40\n",
      "      Opinion       0.67      0.40      0.50        40\n",
      "     Sociedad       0.65      0.60      0.62        40\n",
      "\n",
      "     accuracy                           0.69       200\n",
      "    macro avg       0.69      0.68      0.68       200\n",
      " weighted avg       0.69      0.69      0.68       200\n",
      "\n",
      "f1-score 0.6751974380806021 \n",
      "\n",
      "Normalized confusion matrix\n"
     ]
    },
    {
     "data": {
      "image/png": "[encoded data removed]",
      "text/plain": [
       "<Figure size 576x576 with 2 Axes>"
      ]
     },
     "metadata": {
      "needs_background": "light"
     },
     "output_type": "display_data"
    }
   ],
   "source": [
    "clf_nb = MultinomialNB() #objeto clasificador\n",
    "tf_clf_nb = Pipeline([('vect', tf_vectorizer), ('clf', clf_nb)])#objeto pipeline\n",
    "tf_clf_nb.fit(X_train, y_train)\n",
    "y_predicted = tf_clf_nb.predict(X_test)\n",
    "cm = confusion_matrix(y_test, y_predicted)\n",
    "class_report = classification_report(y_test, y_predicted) \n",
    "print(class_report)\n",
    "f1 = f1_score(y_test, y_predicted, average='macro') \n",
    "print('f1-score', f1, '\\n')\n",
    "plot_confusion_matrix(cm, [*clf_nb.classes_], normalize=True) "
   ]
  },
  {
   "cell_type": "markdown",
   "metadata": {},
   "source": [
    "### 2. LR"
   ]
  },
  {
   "cell_type": "code",
   "execution_count": 43,
   "metadata": {},
   "outputs": [
    {
     "name": "stdout",
     "output_type": "stream",
     "text": [
      "               precision    recall  f1-score   support\n",
      "\n",
      "     Economia       0.82      0.80      0.81        40\n",
      "Internacional       0.82      0.82      0.82        40\n",
      "     Nacional       0.60      0.85      0.70        40\n",
      "      Opinion       0.74      0.50      0.60        40\n",
      "     Sociedad       0.68      0.62      0.65        40\n",
      "\n",
      "     accuracy                           0.72       200\n",
      "    macro avg       0.73      0.72      0.72       200\n",
      " weighted avg       0.73      0.72      0.72       200\n",
      "\n",
      "f1-score 0.7165046169674633 \n",
      "\n",
      "Normalized confusion matrix\n"
     ]
    },
    {
     "data": {
      "image/png": "[encoded data removed]",
      "text/plain": [
       "<Figure size 576x576 with 2 Axes>"
      ]
     },
     "metadata": {
      "needs_background": "light"
     },
     "output_type": "display_data"
    }
   ],
   "source": [
    "clf_lg = LogisticRegression(multi_class='multinomial', solver='newton-cg') \n",
    "tfidf_clf_lg = Pipeline([('vect', tfidf_vectorizer), ('clf', clf_lg)])\n",
    "tfidf_clf_lg.fit(X_train, y_train)\n",
    "y_predicted = tfidf_clf_lg.predict(X_test)\n",
    "cm = confusion_matrix(y_test, y_predicted)\n",
    "class_report = classification_report(y_test, y_predicted) \n",
    "print(class_report)\n",
    "f1 = f1_score(y_test, y_predicted, average='macro') \n",
    "print('f1-score', f1, '\\n')\n",
    "plot_confusion_matrix(cm, [*clf_lg.classes_], normalize=True) "
   ]
  },
  {
   "cell_type": "markdown",
   "metadata": {},
   "source": [
    "### 3. SVM"
   ]
  },
  {
   "cell_type": "code",
   "execution_count": 44,
   "metadata": {},
   "outputs": [
    {
     "name": "stdout",
     "output_type": "stream",
     "text": [
      "{'kernel': 'linear', 'C': 9}\n",
      "               precision    recall  f1-score   support\n",
      "\n",
      "     Economia       0.76      0.72      0.74        40\n",
      "Internacional       0.84      0.80      0.82        40\n",
      "     Nacional       0.60      0.78      0.67        40\n",
      "      Opinion       0.58      0.55      0.56        40\n",
      "     Sociedad       0.68      0.57      0.62        40\n",
      "\n",
      "     accuracy                           0.69       200\n",
      "    macro avg       0.69      0.68      0.68       200\n",
      " weighted avg       0.69      0.69      0.68       200\n",
      "\n",
      "f1-score 0.6847479586610021 \n",
      "\n",
      "Normalized confusion matrix\n"
     ]
    },
    {
     "data": {
      "image/png": "[encoded data removed]",
      "text/plain": [
       "<Figure size 576x576 with 2 Axes>"
      ]
     },
     "metadata": {
      "needs_background": "light"
     },
     "output_type": "display_data"
    }
   ],
   "source": [
    "clf_svm = SVC() \n",
    "parameters = {'C': range( 1, 10, 1 ), 'kernel': ['linear', 'poly', 'rbf']} \n",
    "clf_svm_rcv = RandomizedSearchCV(estimator=clf_svm, param_distributions = parameters, n_iter=10, cv=5, \n",
    "                                scoring = 'accuracy', random_state=0, iid =False, n_jobs=-1)\n",
    "tfidf_clf_svm = Pipeline([('vect', tfidf_vectorizer), ('clf', clf_svm_rcv)])\n",
    "\n",
    "tfidf_clf_svm.fit(X_train, y_train)\n",
    "print(tfidf_clf_svm['clf'].best_params_) \n",
    "\n",
    "y_predicted = tfidf_clf_svm.predict(X_test)\n",
    "cm = confusion_matrix(y_test, y_predicted)\n",
    "class_report = classification_report(y_test, y_predicted) \n",
    "print(class_report)\n",
    "f1 = f1_score(y_test, y_predicted, average='macro') \n",
    "print('f1-score', f1, '\\n')\n",
    "plot_confusion_matrix(cm, [*tfidf_clf_svm.classes_], normalize=True) "
   ]
  }
 ],
 "metadata": {
  "kernelspec": {
   "display_name": "Python 3",
   "language": "python",
   "name": "python3"
  },
  "language_info": {
   "codemirror_mode": {
    "name": "ipython",
    "version": 3
   },
   "file_extension": ".py",
   "mimetype": "text/x-python",
   "name": "python",
   "nbconvert_exporter": "python",
   "pygments_lexer": "ipython3",
   "version": "3.7.3"
  },
  "latex_envs": {
   "LaTeX_envs_menu_present": true,
   "autoclose": false,
   "autocomplete": true,
   "bibliofile": "biblio.bib",
   "cite_by": "apalike",
   "current_citInitial": 1,
   "eqLabelWithNumbers": true,
   "eqNumInitial": 1,
   "hotkeys": {
    "equation": "Ctrl-E",
    "itemize": "Ctrl-I"
   },
   "labels_anchors": false,
   "latex_user_defs": false,
   "report_style_numbering": false,
   "user_envs_cfg": false
  }
 },
 "nbformat": 4,
 "nbformat_minor": 2
}
