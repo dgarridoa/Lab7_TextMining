{
 "cells": [
  {
   "cell_type": "markdown",
   "metadata": {},
   "source": [
    "# Objetivos\n",
    "\n",
    "### 1. Aprender como representar un documento a un vector.\n",
    "\n",
    "\n",
    "### 2. Conocer algunas aplicaciones de textmining tales como:\n",
    "\n",
    "    2.1 Categorización de noticias.\n",
    "    \n",
    "    2.2 Recuperación de información.\n",
    "    \n",
    "    2.3 Descubrimiento de tópicos."
   ]
  },
  {
   "cell_type": "markdown",
   "metadata": {},
   "source": [
    "# Índice\n",
    "\n",
    "Introduccion\n",
    "Vector Space Model\n",
    "    Preprocesamiento\n",
    "    Clasficación\n",
    "Information Retrieval\n",
    "\n",
    "\n",
    "\n"
   ]
  },
  {
   "cell_type": "markdown",
   "metadata": {},
   "source": [
    "# Introducción\n",
    "\n",
    "#### ¿Por qué los datos no estructurados son tan importantes?\n",
    "\n",
    "Las empresas están tomando decisiones solo con el 20% de la información a la que tienen acceso, ya que el 80% de su información es no estructurada y no se puede utilizar completamente. Las compañías han tratado de darle sentido a los datos no estructurados por años, pero solo un 78\\% afirma que tienen poca o nula información de sus datos no estructurados.\n",
    "\n",
    "http://fredrikstenbeck.com/unstructured-data-important/\n",
    "\n",
    "Fuentes de datos no estructurados en las empresas:\n",
    "1. Medios de comunicación social. Ej: mención de una compañía o un producto en redes sociales.\n",
    "2. Fuentes internas. Ej: Presentaciones, material de marketing y ventas, informes, correo electrónico, etc.\n",
    "3. Contenido generado por el cliente. Ej: Comentarios en línea, historial de navegación, correos electrónicos a un equipo de soporte e incluso llamadas telefónicas al servicio al cliente.\n",
    "\n",
    "#### ¿Cómo trabajamos con datos no estructurados?\n",
    "\n",
    "**Embedding**: Llevar datos a una representación númerica. Los modelos trabajan con representaciones númericas!.\n",
    "Además, con vectores tenemos nociones de distancia y podemos calcular similitud (o disimilitud) entre vectores.\n",
    "\n",
    "En *text mining* existen dos tipos de *Embedding*, basados en frecuencia y en predicción.\n",
    "\n",
    "Algunas *keywords*:\n",
    "\n",
    "1. **Documento (D)**: se refiere a una observación de tipo texto. Ej: comentario, relato, email, etc.\n",
    "2. **Corpus (C)**: colección de documentos, corresponde al conjunto de datos.\n",
    "3. **Vocabulario (V)**: corresponde a un conjunto de términos (tokens únicos normalizados) dentro del corpus que sobrevivieron a un procesamiento.\n",
    "4. **Tokenization**: dividir el texto en entidades significativa llamadas tokens, si cada token es una palabra se habla de unigrams, si cada token son pares de palabras se habla de bigrams, tres palabras son trigrams, así hasta n-grams. En términos más computines es pasar de un string a una lista de strings. \n",
    "Ejemplo de unigrams:\n",
    "\n",
    "*'Buenos días estudiantes buenos' = ['Buenos', 'diás', 'estudiantes', 'buenos']*"
   ]
  },
  {
   "cell_type": "code",
   "execution_count": 655,
   "metadata": {},
   "outputs": [],
   "source": [
    "import numpy as np\n",
    "import pandas as pd\n",
    "import matplotlib.pyplot as plt\n",
    "import operator\n",
    "import itertools\n",
    "import re\n",
    "from numpy.linalg import norm\n",
    "from time import time\n",
    "\n",
    "#Preprocesamiento\n",
    "import spacy\n",
    "from spacy.lang.es.stop_words import STOP_WORDS #importar set de stopwords\n",
    "from nltk.stem import SnowballStemmer #importar stemmer\n",
    "nlp = spacy.load('es_core_news_sm') #python -m spacy download es\n",
    "\n",
    "#Bag-of-words\n",
    "from sklearn.feature_extraction.text import CountVectorizer  \n",
    "from sklearn.feature_extraction.text import TfidfVectorizer\n",
    "\n",
    "#Clasificación\n",
    "import pickle\n",
    "from sklearn.model_selection import train_test_split\n",
    "from sklearn.naive_bayes import MultinomialNB\n",
    "from sklearn.linear_model import LogisticRegression\n",
    "from sklearn.svm import SVC\n",
    "from sklearn.neighbors import KNeighborsClassifier\n",
    "from sklearn.model_selection import RandomizedSearchCV\n",
    "from sklearn.pipeline import Pipeline\n",
    "from sklearn.metrics import confusion_matrix, f1_score, classification_report\n",
    "\n",
    "#Word embeddings\n",
    "from sklearn.decomposition import PCA\n",
    "from gensim.models.fasttext import FastText\n",
    "from gensim.models.keyedvectors import KeyedVectors #clase para importar los embedding\n",
    "import pyemd #implementación rápida de EMD, dependencia de wmd de gensim\n",
    "\n",
    "\n",
    "#Topic modeling\n",
    "\n",
    "from gensim.corpora import Dictionary, MmCorpus\n",
    "from gensim.models.ldamodel import LdaModel\n",
    "import pyLDAvis\n",
    "import pyLDAvis.gensim"
   ]
  },
  {
   "cell_type": "markdown",
   "metadata": {},
   "source": [
    "# Vector Space Model\n",
    "\n",
    "\n",
    "Vector Space Model es un modelo que representa un documento como un vector de términos, donde cada término es una dimensión del vector.\n",
    "\n",
    "- Documentos con diferentes palabras y largos viven en el mismo espacio.\n",
    "- Estas representaciones son además llamadas **Bag of Words** (o bolsa de palabras), donde un documento es representado por un conjunto no ordenado de sus términos.\n",
    "\n",
    "- El valor en cada dimensión is un peso que presenta la relevancia del término $i$ del vocabulario $V$ en el documento $d$.\n",
    "\\begin{equation*}\n",
    "d^{\\rightarrow} = (w_{1}, \\ldots, w_{|V|} )\n",
    "\\end{equation*}\n",
    "\n",
    "- Bag-of-words no representa la semántica de los documentos, palabras que son sinónimos por ejemplo son consideradas como términos diferentes, además el orden de las palabras dentro del documento se pierde.\n",
    "\n",
    "\n",
    "**Term Frequency (TF)**: También llamada Count Vector, el peso asociado a cada término del vocabulario dentro de un documento viene dado por la frecuencia del término dentro del documento ($tf_{i}$). Ejemplo:\n",
    "\n",
    "Tablita\n",
    "\n",
    "\n",
    "**Term Frequency-Inverted Document Frequency (TF-IDF)**: Esta transformación consiste en normalizar la frecuencia de cada término  $tf_{i}$ de un documento por $idf_{i} = ln(\\frac{N}{n_{i}})$, donde $n_{i}$ es las veces que el término ha aparecido al menos una vez en el total de documentos y $N$ es el número de documentos.  \n",
    "    \n",
    "\\begin{equation*}\n",
    "w_{i}= tf_{i}  idf_{i}\n",
    "\\end{equation*}\n",
    "Notar que si existe un término $j$ que aparece en todos los documentos su peso es 0 pues $idf_{j}=ln(\\frac{N}{n_{j}})=ln(\\frac{N}{N}) = ln(1)=0$.\n"
   ]
  },
  {
   "cell_type": "markdown",
   "metadata": {},
   "source": [
    "## 1. Preprocesamiento\n",
    "\n",
    "\n",
    "El objetivo del preprocesamiento en text-mining es reducir el vocabulario, eliminando aquellas palabras irrelevantes y homologando palabras con un significado similar.\n",
    " \n",
    " Algunas técnicas que podemos aplicar para reducir el vocabulario:\n",
    " 1. **Stop-words**: palabras que aportan poca información, por ejemplo: artículos, preposiciones, conectores. \n",
    " 2. **Stemming**: Llevar las palabra a su raíz gramatical. \n",
    " 3. **Lemmatization**: Llevar las palabras a su lema. \n",
    " 4. **Filtrar palabras de baja frecuencia**, por ejemplo menor a 10.\n",
    " 5. **Filtrar palabras con alta frecuencia** (stopwords contextuales), por ejemplo aquellas palabras que aparecen en todos los documento. En este caso una transformación TF-IDF genera una columna de ceros, esto implica nula o poca heterogeneidad por ende eliminar.\n",
    " 6. **Part of Speech Tagging (POST)**: etiquetado gramatical. Se suele utilizar en selección de atributos, por ejemplo dejando solo los sustantivos, pues estos son los que tienen la mayor parte de la información en una oración.\n",
    " 7. Usar **técnicas de selección de atributos**, por ejemplo, mutual information, chi-square, etc.\n",
    " \n",
    " \n",
    " Buenas prácticas de procesamiento:\n",
    "\n",
    "1. Eliminar caracteres no alfa-numéricos: $@\\_\\#\\%\\$/(?$\n",
    "2. Corrección de Ortografía. Las palabras con mala ortografía suelen tener baja frecuencia.\n",
    "3. Eliminar números, urls, correos (depende del contexto).\n",
    "4. Identificar palabras claves de ser necesario, por ejemplo, \"Juegos Olímpicos\" debiese ser considerado como un token."
   ]
  },
  {
   "cell_type": "markdown",
   "metadata": {},
   "source": [
    "### Base de datos\n",
    "La base de datos consiste de 5 conjuntos de noticias extraídas de la radio biobio. \n",
    "Cada conjunto de noticias contiene 200 documentos (noticias) y tiene asociado una categoría en {nacional, internacional, economía, sociedad, opinion}."
   ]
  },
  {
   "cell_type": "code",
   "execution_count": 396,
   "metadata": {},
   "outputs": [],
   "source": [
    "nacional = pd.read_json(\"https://raw.githubusercontent.com/dccuchile/CC6205/master/tutorials/datasets/biobio_nacional.json\", encoding ='utf-8')\n",
    "internacional = pd.read_json(\"https://raw.githubusercontent.com/dccuchile/CC6205/master/tutorials/datasets/biobio_internacional.json\", encoding ='utf-8')\n",
    "economia = pd.read_json(\"https://raw.githubusercontent.com/dccuchile/CC6205/master/tutorials/datasets/biobio_economia.json\", encoding ='utf-8')\n",
    "sociedad = pd.read_json(\"https://raw.githubusercontent.com/dccuchile/CC6205/master/tutorials/datasets/biobio_sociedad.json\", encoding ='utf-8')\n",
    "opinion = pd.read_json(\"https://raw.githubusercontent.com/dccuchile/CC6205/master/tutorials/datasets/biobio_opinion.json\", encoding ='utf-8')\n",
    "\n",
    "df = [nacional, internacional, economia, sociedad, opinion]\n",
    "df = pd.concat(df)\n",
    "df.head()\n",
    "df.reset_index(inplace=True, drop=True)"
   ]
  },
  {
   "cell_type": "code",
   "execution_count": 558,
   "metadata": {},
   "outputs": [],
   "source": [
    "def tokenizer(doc, sep=None, stopwords_remove =False, lemmatization=False, stemming = False, vocabulary=None):\n",
    "    '''\n",
    "    Por defecto divide la sentencia por el carácter espacio.\n",
    "    Ej: 'Data Mining is the best course'->['Data',  'Mining', 'is', 'the', 'best', 'course']\n",
    "    \n",
    "    Input: \n",
    "    1. doc: str, documento.\n",
    "    2. sep: str, carácter para dividir el documento en tokens, por defecto es el espacio.\n",
    "    3. stopwords_remove: bool, si es True remueve los stopwords del documento.\n",
    "    4. lemmatization: bool, si es True lleva las palabras a su lema.\n",
    "    5. stemming: bool, si es True lleva las palabas a su raíz.\n",
    "    6. vocabuary: list, si un vocabulario es dado filtra las palabras que no estan presentes en el.\n",
    "    \n",
    "    Output: \n",
    "    list, lista de tokens.\n",
    "    \n",
    "    Nota: aplicar stemming y lemmatization al mismo tiempo no es correcto.\n",
    "    '''\n",
    "    doc = re.sub(r'[^\\w\\s]','', doc) #elimina los símbolos de puntuación\n",
    "    doc = re.sub(r'[a-zA-Z]+[0-9]+', '', doc) #elimina los caracteres que contienen letras y números\n",
    "    doc = re.sub(r'[0-9]+', ' ', doc) #elimina los caracteres numéricos\n",
    "   \n",
    "    tokens = doc.split(sep) #tokenización\n",
    "    tokens = [word.lower() for word in tokens] #pasar todas las palabras a minúsculas\n",
    "    \n",
    "    \n",
    "    \n",
    "    if stopwords_remove ==True: #remover stopwords y palabras con menos de tres caracteres\n",
    "        tokens = [word for word in tokens if word not in STOP_WORDS and len(word)>2]\n",
    "    \n",
    "    if lemmatization==True:\n",
    "        tokens = [nlp(word)[0].lemma_ for word in tokens]\n",
    "        \n",
    "    if stemming == True:\n",
    "        stemmer = SnowballStemmer('spanish')\n",
    "        tokens = [stemmer.stem(word) for word in tokens]\n",
    "    \n",
    "    if vocabulary is not None:\n",
    "        tokens = [word for word in tokens if word in vocabulary]\n",
    "    \n",
    "    return tokens\n"
   ]
  },
  {
   "cell_type": "markdown",
   "metadata": {},
   "source": [
    "Historieta de donde se extrajó el texto:\n",
    "\n",
    "https://cloud.google.com/products/ai/ml-comic-1/?fbclid=IwAR1ZgDUl1Gr1TVGZvzV65Eyiaca3eEaxBdn5L515Z8V98Rstud2vQqS6qaQ"
   ]
  },
  {
   "cell_type": "code",
   "execution_count": 397,
   "metadata": {},
   "outputs": [
    {
     "data": {
      "text/plain": [
       "{'actualmente',\n",
       " 'acuerdo',\n",
       " 'adelante',\n",
       " 'ademas',\n",
       " 'además',\n",
       " 'adrede',\n",
       " 'afirmó',\n",
       " 'agregó',\n",
       " 'ahi',\n",
       " 'ahora',\n",
       " 'ahí',\n",
       " 'al',\n",
       " 'algo',\n",
       " 'alguna',\n",
       " 'algunas',\n",
       " 'alguno',\n",
       " 'algunos',\n",
       " 'algún',\n",
       " 'alli',\n",
       " 'allí',\n",
       " 'alrededor',\n",
       " 'ambos',\n",
       " 'ampleamos',\n",
       " 'antano',\n",
       " 'antaño',\n",
       " 'ante',\n",
       " 'anterior',\n",
       " 'antes',\n",
       " 'apenas',\n",
       " 'aproximadamente',\n",
       " 'aquel',\n",
       " 'aquella',\n",
       " 'aquellas',\n",
       " 'aquello',\n",
       " 'aquellos',\n",
       " 'aqui',\n",
       " 'aquél',\n",
       " 'aquélla',\n",
       " 'aquéllas',\n",
       " 'aquéllos',\n",
       " 'aquí',\n",
       " 'arriba',\n",
       " 'arribaabajo',\n",
       " 'aseguró',\n",
       " 'asi',\n",
       " 'así',\n",
       " 'atras',\n",
       " 'aun',\n",
       " 'aunque',\n",
       " 'ayer',\n",
       " 'añadió',\n",
       " 'aún',\n",
       " 'bajo',\n",
       " 'bastante',\n",
       " 'bien',\n",
       " 'breve',\n",
       " 'buen',\n",
       " 'buena',\n",
       " 'buenas',\n",
       " 'bueno',\n",
       " 'buenos',\n",
       " 'cada',\n",
       " 'casi',\n",
       " 'cerca',\n",
       " 'cierta',\n",
       " 'ciertas',\n",
       " 'cierto',\n",
       " 'ciertos',\n",
       " 'cinco',\n",
       " 'claro',\n",
       " 'comentó',\n",
       " 'como',\n",
       " 'con',\n",
       " 'conmigo',\n",
       " 'conocer',\n",
       " 'conseguimos',\n",
       " 'conseguir',\n",
       " 'considera',\n",
       " 'consideró',\n",
       " 'consigo',\n",
       " 'consigue',\n",
       " 'consiguen',\n",
       " 'consigues',\n",
       " 'contigo',\n",
       " 'contra',\n",
       " 'cosas',\n",
       " 'creo',\n",
       " 'cual',\n",
       " 'cuales',\n",
       " 'cualquier',\n",
       " 'cuando',\n",
       " 'cuanta',\n",
       " 'cuantas',\n",
       " 'cuanto',\n",
       " 'cuantos',\n",
       " 'cuatro',\n",
       " 'cuenta',\n",
       " 'cuál',\n",
       " 'cuáles',\n",
       " 'cuándo',\n",
       " 'cuánta',\n",
       " 'cuántas',\n",
       " 'cuánto',\n",
       " 'cuántos',\n",
       " 'cómo',\n",
       " 'da',\n",
       " 'dado',\n",
       " 'dan',\n",
       " 'dar',\n",
       " 'de',\n",
       " 'debajo',\n",
       " 'debe',\n",
       " 'deben',\n",
       " 'debido',\n",
       " 'decir',\n",
       " 'dejó',\n",
       " 'del',\n",
       " 'delante',\n",
       " 'demasiado',\n",
       " 'demás',\n",
       " 'dentro',\n",
       " 'deprisa',\n",
       " 'desde',\n",
       " 'despacio',\n",
       " 'despues',\n",
       " 'después',\n",
       " 'detras',\n",
       " 'detrás',\n",
       " 'dia',\n",
       " 'dias',\n",
       " 'dice',\n",
       " 'dicen',\n",
       " 'dicho',\n",
       " 'dieron',\n",
       " 'diferente',\n",
       " 'diferentes',\n",
       " 'dijeron',\n",
       " 'dijo',\n",
       " 'dio',\n",
       " 'donde',\n",
       " 'dos',\n",
       " 'durante',\n",
       " 'día',\n",
       " 'días',\n",
       " 'dónde',\n",
       " 'ejemplo',\n",
       " 'el',\n",
       " 'ella',\n",
       " 'ellas',\n",
       " 'ello',\n",
       " 'ellos',\n",
       " 'embargo',\n",
       " 'empleais',\n",
       " 'emplean',\n",
       " 'emplear',\n",
       " 'empleas',\n",
       " 'empleo',\n",
       " 'en',\n",
       " 'encima',\n",
       " 'encuentra',\n",
       " 'enfrente',\n",
       " 'enseguida',\n",
       " 'entonces',\n",
       " 'entre',\n",
       " 'era',\n",
       " 'eramos',\n",
       " 'eran',\n",
       " 'eras',\n",
       " 'eres',\n",
       " 'es',\n",
       " 'esa',\n",
       " 'esas',\n",
       " 'ese',\n",
       " 'eso',\n",
       " 'esos',\n",
       " 'esta',\n",
       " 'estaba',\n",
       " 'estaban',\n",
       " 'estado',\n",
       " 'estados',\n",
       " 'estais',\n",
       " 'estamos',\n",
       " 'estan',\n",
       " 'estar',\n",
       " 'estará',\n",
       " 'estas',\n",
       " 'este',\n",
       " 'esto',\n",
       " 'estos',\n",
       " 'estoy',\n",
       " 'estuvo',\n",
       " 'está',\n",
       " 'están',\n",
       " 'ex',\n",
       " 'excepto',\n",
       " 'existe',\n",
       " 'existen',\n",
       " 'explicó',\n",
       " 'expresó',\n",
       " 'fin',\n",
       " 'final',\n",
       " 'fue',\n",
       " 'fuera',\n",
       " 'fueron',\n",
       " 'fui',\n",
       " 'fuimos',\n",
       " 'general',\n",
       " 'gran',\n",
       " 'grandes',\n",
       " 'gueno',\n",
       " 'ha',\n",
       " 'haber',\n",
       " 'habia',\n",
       " 'habla',\n",
       " 'hablan',\n",
       " 'habrá',\n",
       " 'había',\n",
       " 'habían',\n",
       " 'hace',\n",
       " 'haceis',\n",
       " 'hacemos',\n",
       " 'hacen',\n",
       " 'hacer',\n",
       " 'hacerlo',\n",
       " 'haces',\n",
       " 'hacia',\n",
       " 'haciendo',\n",
       " 'hago',\n",
       " 'han',\n",
       " 'hasta',\n",
       " 'hay',\n",
       " 'haya',\n",
       " 'he',\n",
       " 'hecho',\n",
       " 'hemos',\n",
       " 'hicieron',\n",
       " 'hizo',\n",
       " 'horas',\n",
       " 'hoy',\n",
       " 'hubo',\n",
       " 'igual',\n",
       " 'incluso',\n",
       " 'indicó',\n",
       " 'informo',\n",
       " 'informó',\n",
       " 'intenta',\n",
       " 'intentais',\n",
       " 'intentamos',\n",
       " 'intentan',\n",
       " 'intentar',\n",
       " 'intentas',\n",
       " 'intento',\n",
       " 'ir',\n",
       " 'junto',\n",
       " 'la',\n",
       " 'lado',\n",
       " 'largo',\n",
       " 'las',\n",
       " 'le',\n",
       " 'lejos',\n",
       " 'les',\n",
       " 'llegó',\n",
       " 'lleva',\n",
       " 'llevar',\n",
       " 'lo',\n",
       " 'los',\n",
       " 'luego',\n",
       " 'lugar',\n",
       " 'mal',\n",
       " 'manera',\n",
       " 'manifestó',\n",
       " 'mas',\n",
       " 'mayor',\n",
       " 'me',\n",
       " 'mediante',\n",
       " 'medio',\n",
       " 'mejor',\n",
       " 'mencionó',\n",
       " 'menos',\n",
       " 'menudo',\n",
       " 'mi',\n",
       " 'mia',\n",
       " 'mias',\n",
       " 'mientras',\n",
       " 'mio',\n",
       " 'mios',\n",
       " 'mis',\n",
       " 'misma',\n",
       " 'mismas',\n",
       " 'mismo',\n",
       " 'mismos',\n",
       " 'modo',\n",
       " 'momento',\n",
       " 'mucha',\n",
       " 'muchas',\n",
       " 'mucho',\n",
       " 'muchos',\n",
       " 'muy',\n",
       " 'más',\n",
       " 'mí',\n",
       " 'mía',\n",
       " 'mías',\n",
       " 'mío',\n",
       " 'míos',\n",
       " 'nada',\n",
       " 'nadie',\n",
       " 'ni',\n",
       " 'ninguna',\n",
       " 'ningunas',\n",
       " 'ninguno',\n",
       " 'ningunos',\n",
       " 'ningún',\n",
       " 'no',\n",
       " 'nos',\n",
       " 'nosotras',\n",
       " 'nosotros',\n",
       " 'nuestra',\n",
       " 'nuestras',\n",
       " 'nuestro',\n",
       " 'nuestros',\n",
       " 'nueva',\n",
       " 'nuevas',\n",
       " 'nuevo',\n",
       " 'nuevos',\n",
       " 'nunca',\n",
       " 'ocho',\n",
       " 'os',\n",
       " 'otra',\n",
       " 'otras',\n",
       " 'otro',\n",
       " 'otros',\n",
       " 'pais',\n",
       " 'para',\n",
       " 'parece',\n",
       " 'parte',\n",
       " 'partir',\n",
       " 'pasada',\n",
       " 'pasado',\n",
       " 'paìs',\n",
       " 'peor',\n",
       " 'pero',\n",
       " 'pesar',\n",
       " 'poca',\n",
       " 'pocas',\n",
       " 'poco',\n",
       " 'pocos',\n",
       " 'podeis',\n",
       " 'podemos',\n",
       " 'poder',\n",
       " 'podria',\n",
       " 'podriais',\n",
       " 'podriamos',\n",
       " 'podrian',\n",
       " 'podrias',\n",
       " 'podrá',\n",
       " 'podrán',\n",
       " 'podría',\n",
       " 'podrían',\n",
       " 'poner',\n",
       " 'por',\n",
       " 'porque',\n",
       " 'posible',\n",
       " 'primer',\n",
       " 'primera',\n",
       " 'primero',\n",
       " 'primeros',\n",
       " 'principalmente',\n",
       " 'pronto',\n",
       " 'propia',\n",
       " 'propias',\n",
       " 'propio',\n",
       " 'propios',\n",
       " 'proximo',\n",
       " 'próximo',\n",
       " 'próximos',\n",
       " 'pudo',\n",
       " 'pueda',\n",
       " 'puede',\n",
       " 'pueden',\n",
       " 'puedo',\n",
       " 'pues',\n",
       " 'qeu',\n",
       " 'que',\n",
       " 'quedó',\n",
       " 'queremos',\n",
       " 'quien',\n",
       " 'quienes',\n",
       " 'quiere',\n",
       " 'quiza',\n",
       " 'quizas',\n",
       " 'quizá',\n",
       " 'quizás',\n",
       " 'quién',\n",
       " 'quiénes',\n",
       " 'qué',\n",
       " 'raras',\n",
       " 'realizado',\n",
       " 'realizar',\n",
       " 'realizó',\n",
       " 'repente',\n",
       " 'respecto',\n",
       " 'sabe',\n",
       " 'sabeis',\n",
       " 'sabemos',\n",
       " 'saben',\n",
       " 'saber',\n",
       " 'sabes',\n",
       " 'salvo',\n",
       " 'se',\n",
       " 'sea',\n",
       " 'sean',\n",
       " 'segun',\n",
       " 'segunda',\n",
       " 'segundo',\n",
       " 'según',\n",
       " 'seis',\n",
       " 'ser',\n",
       " 'sera',\n",
       " 'será',\n",
       " 'serán',\n",
       " 'sería',\n",
       " 'señaló',\n",
       " 'si',\n",
       " 'sido',\n",
       " 'siempre',\n",
       " 'siendo',\n",
       " 'siete',\n",
       " 'sigue',\n",
       " 'siguiente',\n",
       " 'sin',\n",
       " 'sino',\n",
       " 'sobre',\n",
       " 'sois',\n",
       " 'sola',\n",
       " 'solamente',\n",
       " 'solas',\n",
       " 'solo',\n",
       " 'solos',\n",
       " 'somos',\n",
       " 'son',\n",
       " 'soy',\n",
       " 'soyos',\n",
       " 'su',\n",
       " 'supuesto',\n",
       " 'sus',\n",
       " 'suya',\n",
       " 'suyas',\n",
       " 'suyo',\n",
       " 'sé',\n",
       " 'sí',\n",
       " 'sólo',\n",
       " 'tal',\n",
       " 'tambien',\n",
       " 'también',\n",
       " 'tampoco',\n",
       " 'tan',\n",
       " 'tanto',\n",
       " 'tarde',\n",
       " 'te',\n",
       " 'temprano',\n",
       " 'tendrá',\n",
       " 'tendrán',\n",
       " 'teneis',\n",
       " 'tenemos',\n",
       " 'tener',\n",
       " 'tenga',\n",
       " 'tengo',\n",
       " 'tenido',\n",
       " 'tenía',\n",
       " 'tercera',\n",
       " 'ti',\n",
       " 'tiempo',\n",
       " 'tiene',\n",
       " 'tienen',\n",
       " 'toda',\n",
       " 'todas',\n",
       " 'todavia',\n",
       " 'todavía',\n",
       " 'todo',\n",
       " 'todos',\n",
       " 'total',\n",
       " 'trabaja',\n",
       " 'trabajais',\n",
       " 'trabajamos',\n",
       " 'trabajan',\n",
       " 'trabajar',\n",
       " 'trabajas',\n",
       " 'trabajo',\n",
       " 'tras',\n",
       " 'trata',\n",
       " 'través',\n",
       " 'tres',\n",
       " 'tu',\n",
       " 'tus',\n",
       " 'tuvo',\n",
       " 'tuya',\n",
       " 'tuyas',\n",
       " 'tuyo',\n",
       " 'tuyos',\n",
       " 'tú',\n",
       " 'ultimo',\n",
       " 'un',\n",
       " 'una',\n",
       " 'unas',\n",
       " 'uno',\n",
       " 'unos',\n",
       " 'usa',\n",
       " 'usais',\n",
       " 'usamos',\n",
       " 'usan',\n",
       " 'usar',\n",
       " 'usas',\n",
       " 'uso',\n",
       " 'usted',\n",
       " 'ustedes',\n",
       " 'va',\n",
       " 'vais',\n",
       " 'valor',\n",
       " 'vamos',\n",
       " 'van',\n",
       " 'varias',\n",
       " 'varios',\n",
       " 'vaya',\n",
       " 'veces',\n",
       " 'ver',\n",
       " 'verdad',\n",
       " 'verdadera',\n",
       " 'verdadero',\n",
       " 'vez',\n",
       " 'vosotras',\n",
       " 'vosotros',\n",
       " 'voy',\n",
       " 'vuestra',\n",
       " 'vuestras',\n",
       " 'vuestro',\n",
       " 'vuestros',\n",
       " 'ya',\n",
       " 'yo',\n",
       " 'él',\n",
       " 'ésa',\n",
       " 'ésas',\n",
       " 'ése',\n",
       " 'ésos',\n",
       " 'ésta',\n",
       " 'éstas',\n",
       " 'éste',\n",
       " 'éstos',\n",
       " 'última',\n",
       " 'últimas',\n",
       " 'último',\n",
       " 'últimos'}"
      ]
     },
     "execution_count": 397,
     "metadata": {},
     "output_type": "execute_result"
    }
   ],
   "source": [
    "#conjunto de topwords en español, a este conjunto se le puede añadir o eliminar palabras a conveniencia\n",
    "STOP_WORDS"
   ]
  },
  {
   "cell_type": "code",
   "execution_count": 646,
   "metadata": {},
   "outputs": [
    {
     "name": "stdout",
     "output_type": "stream",
     "text": [
      "Texto original:\n",
      " Habla director de Compin Bío Bío que se autoaprobó licencia: afirma que no se percató que era suya \n",
      "\n",
      "Texto tokenizado:\n",
      " ['habla', 'director', 'de', 'compin', 'bío', 'bío', 'que', 'se', 'autoaprobó', 'licencia', 'afirma', 'que', 'no', 'se', 'percató', 'que', 'era', 'suya'] \n",
      "\n",
      "Texto tokenizado sin stopwords:\n",
      " ['director', 'compin', 'bío', 'bío', 'autoaprobó', 'licencia', 'afirma', 'percató'] \n",
      "\n",
      "Texto tokenizado con lematización:\n",
      " ['hablar', 'director', 'de', 'compin', 'bío', 'bío', 'que', 'se', 'autoaprobó', 'licenciar', 'afirmar', 'que', 'no', 'se', 'percatar', 'que', 'ser', 'suyo'] \n",
      "\n",
      "Texto tokenizado con stemming:\n",
      " ['habl', 'director', 'de', 'compin', 'bio', 'bio', 'que', 'se', 'autoaprob', 'licenci', 'afirm', 'que', 'no', 'se', 'percat', 'que', 'era', 'suy'] \n",
      "\n"
     ]
    }
   ],
   "source": [
    "text = df['title'].iloc[2]\n",
    "print('Texto original:\\n', text, '\\n')\n",
    "print('Texto tokenizado:\\n', tokenizer(text), '\\n')\n",
    "print('Texto tokenizado sin stopwords:\\n', tokenizer(text, stopwords_remove=True), '\\n')\n",
    "print('Texto tokenizado con lematización:\\n', tokenizer(text, lemmatization=True), '\\n')\n",
    "print('Texto tokenizado con stemming:\\n', tokenizer(text, stemming=True), '\\n')"
   ]
  },
  {
   "cell_type": "code",
   "execution_count": 400,
   "metadata": {},
   "outputs": [
    {
     "data": {
      "text/html": [
       "<div>\n",
       "<style scoped>\n",
       "    .dataframe tbody tr th:only-of-type {\n",
       "        vertical-align: middle;\n",
       "    }\n",
       "\n",
       "    .dataframe tbody tr th {\n",
       "        vertical-align: top;\n",
       "    }\n",
       "\n",
       "    .dataframe thead th {\n",
       "        text-align: right;\n",
       "    }\n",
       "</style>\n",
       "<table border=\"1\" class=\"dataframe\">\n",
       "  <thead>\n",
       "    <tr style=\"text-align: right;\">\n",
       "      <th></th>\n",
       "      <th>title</th>\n",
       "      <th>content</th>\n",
       "    </tr>\n",
       "  </thead>\n",
       "  <tbody>\n",
       "    <tr>\n",
       "      <th>615</th>\n",
       "      <td>¿Qué significa ’Sco pa tu manaa\", la última fr...</td>\n",
       "      <td></td>\n",
       "    </tr>\n",
       "    <tr>\n",
       "      <th>616</th>\n",
       "      <td>4 consejos para estar más despierto durante la...</td>\n",
       "      <td></td>\n",
       "    </tr>\n",
       "    <tr>\n",
       "      <th>629</th>\n",
       "      <td>¿Es verdad que las mujeres necesitan más calef...</td>\n",
       "      <td></td>\n",
       "    </tr>\n",
       "    <tr>\n",
       "      <th>685</th>\n",
       "      <td>Pareja bajó 113 kilos entre los dos para cumpl...</td>\n",
       "      <td></td>\n",
       "    </tr>\n",
       "    <tr>\n",
       "      <th>715</th>\n",
       "      <td>¿Se maneja sola? Aclaran misterio tras viraliz...</td>\n",
       "      <td></td>\n",
       "    </tr>\n",
       "  </tbody>\n",
       "</table>\n",
       "</div>"
      ],
      "text/plain": [
       "                                                 title content\n",
       "615  ¿Qué significa ’Sco pa tu manaa\", la última fr...        \n",
       "616  4 consejos para estar más despierto durante la...        \n",
       "629  ¿Es verdad que las mujeres necesitan más calef...        \n",
       "685  Pareja bajó 113 kilos entre los dos para cumpl...        \n",
       "715  ¿Se maneja sola? Aclaran misterio tras viraliz...        "
      ]
     },
     "execution_count": 400,
     "metadata": {},
     "output_type": "execute_result"
    }
   ],
   "source": [
    "#5 documentos con contenido vacío, reemplazar por el  titulo\n",
    "df[df['content']==''][['title','content']]"
   ]
  },
  {
   "cell_type": "code",
   "execution_count": 401,
   "metadata": {},
   "outputs": [],
   "source": [
    "#reemplazar contenido por el titulo\n",
    "df.loc[df[df['content']==''].index.tolist(), 'content'] = df[df['content']=='']['title'].tolist()"
   ]
  },
  {
   "cell_type": "code",
   "execution_count": 402,
   "metadata": {},
   "outputs": [
    {
     "data": {
      "text/plain": [
       "<5x63 sparse matrix of type '<class 'numpy.int64'>'\n",
       "\twith 74 stored elements in Compressed Sparse Row format>"
      ]
     },
     "execution_count": 402,
     "metadata": {},
     "output_type": "execute_result"
    }
   ],
   "source": [
    "#Creamos los objetos que permiten llevar el corpus a un modelo bag-of-words\n",
    "tf_vectorizer = CountVectorizer(analyzer='word', tokenizer=tokenizer)\n",
    "tfidf_vectorizer = TfidfVectorizer(analyzer='word', tokenizer=tokenizer)\n",
    "\n",
    "# Extraemos 5 noticias y se la entregamos al vectorizador para que las transforme a vectores BoW.\n",
    "tf_sample = tf_vectorizer.fit_transform(df.sample(5, random_state=0).title)\n",
    "tfidf_sample = tfidf_vectorizer.fit_transform(df.sample(5, random_state=0).title)\n",
    "\n",
    "# Python guarda la matriz en un matriz de tipo sparse, debido a que existen varios palabras con ocurrencia 0\n",
    "tf_sample "
   ]
  },
  {
   "cell_type": "code",
   "execution_count": 403,
   "metadata": {
    "scrolled": true
   },
   "outputs": [
    {
     "data": {
      "text/plain": [
       "{'ex': 20,\n",
       " 'superintendente': 54,\n",
       " 'de': 13,\n",
       " 'salud': 50,\n",
       " 'y': 62,\n",
       " 'alza': 3,\n",
       " 'en': 17,\n",
       " 'planes': 43,\n",
       " 'isapres': 27,\n",
       " 'falta': 21,\n",
       " 'transparencia': 57,\n",
       " 'general': 23,\n",
       " 'del': 14,\n",
       " 'sistema': 52,\n",
       " 'allamand': 2,\n",
       " 'crítica': 11,\n",
       " 'piñera': 42,\n",
       " 'por': 44,\n",
       " 'candidaturas': 6,\n",
       " 'no': 36,\n",
       " 'creo': 10,\n",
       " 'que': 48,\n",
       " 'me': 31,\n",
       " 'lo': 30,\n",
       " 'esté': 19,\n",
       " 'diciendo': 15,\n",
       " 'particularmente': 41,\n",
       " 'a': 0,\n",
       " 'mí': 35,\n",
       " 'reportan': 49,\n",
       " 'al': 1,\n",
       " 'menos': 32,\n",
       " 'muertos': 34,\n",
       " 'heridos': 24,\n",
       " 'caída': 8,\n",
       " 'avión': 4,\n",
       " 'pakistán': 39,\n",
       " 'larraín': 29,\n",
       " 'presidencia': 45,\n",
       " 'pro': 46,\n",
       " 'tempore': 56,\n",
       " 'pacífico': 38,\n",
       " 'es': 18,\n",
       " 'oportunidad': 37,\n",
       " 'para': 40,\n",
       " 'integración': 26,\n",
       " 'financiera': 22,\n",
       " 'hombre': 25,\n",
       " 'vivió': 61,\n",
       " 'el': 16,\n",
       " 'susto': 55,\n",
       " 'su': 53,\n",
       " 'vida': 60,\n",
       " 'tras': 58,\n",
       " 'cortarse': 9,\n",
       " 'la': 28,\n",
       " 'cuerda': 12,\n",
       " 'un': 59,\n",
       " 'bungee': 5,\n",
       " 'cayó': 7,\n",
       " 'metros': 33,\n",
       " 'sin': 51,\n",
       " 'protección': 47}"
      ]
     },
     "execution_count": 403,
     "metadata": {},
     "output_type": "execute_result"
    }
   ],
   "source": [
    "tf_vectorizer.vocabulary_"
   ]
  },
  {
   "cell_type": "code",
   "execution_count": 404,
   "metadata": {},
   "outputs": [
    {
     "data": {
      "text/html": [
       "<div>\n",
       "<style scoped>\n",
       "    .dataframe tbody tr th:only-of-type {\n",
       "        vertical-align: middle;\n",
       "    }\n",
       "\n",
       "    .dataframe tbody tr th {\n",
       "        vertical-align: top;\n",
       "    }\n",
       "\n",
       "    .dataframe thead th {\n",
       "        text-align: right;\n",
       "    }\n",
       "</style>\n",
       "<table border=\"1\" class=\"dataframe\">\n",
       "  <thead>\n",
       "    <tr style=\"text-align: right;\">\n",
       "      <th></th>\n",
       "      <th>a</th>\n",
       "      <th>al</th>\n",
       "      <th>allamand</th>\n",
       "      <th>alza</th>\n",
       "      <th>avión</th>\n",
       "      <th>bungee</th>\n",
       "      <th>candidaturas</th>\n",
       "      <th>cayó</th>\n",
       "      <th>caída</th>\n",
       "      <th>cortarse</th>\n",
       "      <th>...</th>\n",
       "      <th>su</th>\n",
       "      <th>superintendente</th>\n",
       "      <th>susto</th>\n",
       "      <th>tempore</th>\n",
       "      <th>transparencia</th>\n",
       "      <th>tras</th>\n",
       "      <th>un</th>\n",
       "      <th>vida</th>\n",
       "      <th>vivió</th>\n",
       "      <th>y</th>\n",
       "    </tr>\n",
       "  </thead>\n",
       "  <tbody>\n",
       "    <tr>\n",
       "      <th>0</th>\n",
       "      <td>0</td>\n",
       "      <td>0</td>\n",
       "      <td>0</td>\n",
       "      <td>1</td>\n",
       "      <td>0</td>\n",
       "      <td>0</td>\n",
       "      <td>0</td>\n",
       "      <td>0</td>\n",
       "      <td>0</td>\n",
       "      <td>0</td>\n",
       "      <td>...</td>\n",
       "      <td>0</td>\n",
       "      <td>1</td>\n",
       "      <td>0</td>\n",
       "      <td>0</td>\n",
       "      <td>1</td>\n",
       "      <td>0</td>\n",
       "      <td>0</td>\n",
       "      <td>0</td>\n",
       "      <td>0</td>\n",
       "      <td>1</td>\n",
       "    </tr>\n",
       "    <tr>\n",
       "      <th>1</th>\n",
       "      <td>1</td>\n",
       "      <td>0</td>\n",
       "      <td>1</td>\n",
       "      <td>0</td>\n",
       "      <td>0</td>\n",
       "      <td>0</td>\n",
       "      <td>1</td>\n",
       "      <td>0</td>\n",
       "      <td>0</td>\n",
       "      <td>0</td>\n",
       "      <td>...</td>\n",
       "      <td>0</td>\n",
       "      <td>0</td>\n",
       "      <td>0</td>\n",
       "      <td>0</td>\n",
       "      <td>0</td>\n",
       "      <td>0</td>\n",
       "      <td>0</td>\n",
       "      <td>0</td>\n",
       "      <td>0</td>\n",
       "      <td>1</td>\n",
       "    </tr>\n",
       "    <tr>\n",
       "      <th>2</th>\n",
       "      <td>0</td>\n",
       "      <td>1</td>\n",
       "      <td>0</td>\n",
       "      <td>0</td>\n",
       "      <td>1</td>\n",
       "      <td>0</td>\n",
       "      <td>0</td>\n",
       "      <td>0</td>\n",
       "      <td>1</td>\n",
       "      <td>0</td>\n",
       "      <td>...</td>\n",
       "      <td>0</td>\n",
       "      <td>0</td>\n",
       "      <td>0</td>\n",
       "      <td>0</td>\n",
       "      <td>0</td>\n",
       "      <td>0</td>\n",
       "      <td>0</td>\n",
       "      <td>0</td>\n",
       "      <td>0</td>\n",
       "      <td>1</td>\n",
       "    </tr>\n",
       "    <tr>\n",
       "      <th>3</th>\n",
       "      <td>1</td>\n",
       "      <td>0</td>\n",
       "      <td>0</td>\n",
       "      <td>0</td>\n",
       "      <td>0</td>\n",
       "      <td>0</td>\n",
       "      <td>0</td>\n",
       "      <td>0</td>\n",
       "      <td>0</td>\n",
       "      <td>0</td>\n",
       "      <td>...</td>\n",
       "      <td>0</td>\n",
       "      <td>0</td>\n",
       "      <td>0</td>\n",
       "      <td>1</td>\n",
       "      <td>0</td>\n",
       "      <td>0</td>\n",
       "      <td>0</td>\n",
       "      <td>0</td>\n",
       "      <td>0</td>\n",
       "      <td>0</td>\n",
       "    </tr>\n",
       "    <tr>\n",
       "      <th>4</th>\n",
       "      <td>0</td>\n",
       "      <td>0</td>\n",
       "      <td>0</td>\n",
       "      <td>0</td>\n",
       "      <td>0</td>\n",
       "      <td>1</td>\n",
       "      <td>0</td>\n",
       "      <td>1</td>\n",
       "      <td>0</td>\n",
       "      <td>1</td>\n",
       "      <td>...</td>\n",
       "      <td>1</td>\n",
       "      <td>0</td>\n",
       "      <td>1</td>\n",
       "      <td>0</td>\n",
       "      <td>0</td>\n",
       "      <td>1</td>\n",
       "      <td>1</td>\n",
       "      <td>1</td>\n",
       "      <td>1</td>\n",
       "      <td>0</td>\n",
       "    </tr>\n",
       "  </tbody>\n",
       "</table>\n",
       "<p>5 rows × 63 columns</p>\n",
       "</div>"
      ],
      "text/plain": [
       "   a  al  allamand  alza  avión  bungee  candidaturas  cayó  caída  cortarse  \\\n",
       "0  0   0         0     1      0       0             0     0      0         0   \n",
       "1  1   0         1     0      0       0             1     0      0         0   \n",
       "2  0   1         0     0      1       0             0     0      1         0   \n",
       "3  1   0         0     0      0       0             0     0      0         0   \n",
       "4  0   0         0     0      0       1             0     1      0         1   \n",
       "\n",
       "   ...  su  superintendente  susto  tempore  transparencia  tras  un  vida  \\\n",
       "0  ...   0                1      0        0              1     0   0     0   \n",
       "1  ...   0                0      0        0              0     0   0     0   \n",
       "2  ...   0                0      0        0              0     0   0     0   \n",
       "3  ...   0                0      0        1              0     0   0     0   \n",
       "4  ...   1                0      1        0              0     1   1     1   \n",
       "\n",
       "   vivió  y  \n",
       "0      0  1  \n",
       "1      0  1  \n",
       "2      0  1  \n",
       "3      0  0  \n",
       "4      1  0  \n",
       "\n",
       "[5 rows x 63 columns]"
      ]
     },
     "execution_count": 404,
     "metadata": {},
     "output_type": "execute_result"
    }
   ],
   "source": [
    "#visualización de la matriz tf\n",
    "tf_sample = pd.DataFrame(tf_sample.todense(), columns=tf_vectorizer.get_feature_names()) \n",
    "tf_sample"
   ]
  },
  {
   "cell_type": "code",
   "execution_count": 405,
   "metadata": {},
   "outputs": [
    {
     "data": {
      "text/html": [
       "<div>\n",
       "<style scoped>\n",
       "    .dataframe tbody tr th:only-of-type {\n",
       "        vertical-align: middle;\n",
       "    }\n",
       "\n",
       "    .dataframe tbody tr th {\n",
       "        vertical-align: top;\n",
       "    }\n",
       "\n",
       "    .dataframe thead th {\n",
       "        text-align: right;\n",
       "    }\n",
       "</style>\n",
       "<table border=\"1\" class=\"dataframe\">\n",
       "  <thead>\n",
       "    <tr style=\"text-align: right;\">\n",
       "      <th></th>\n",
       "      <th>a</th>\n",
       "      <th>al</th>\n",
       "      <th>allamand</th>\n",
       "      <th>alza</th>\n",
       "      <th>avión</th>\n",
       "      <th>bungee</th>\n",
       "      <th>candidaturas</th>\n",
       "      <th>cayó</th>\n",
       "      <th>caída</th>\n",
       "      <th>cortarse</th>\n",
       "      <th>...</th>\n",
       "      <th>su</th>\n",
       "      <th>superintendente</th>\n",
       "      <th>susto</th>\n",
       "      <th>tempore</th>\n",
       "      <th>transparencia</th>\n",
       "      <th>tras</th>\n",
       "      <th>un</th>\n",
       "      <th>vida</th>\n",
       "      <th>vivió</th>\n",
       "      <th>y</th>\n",
       "    </tr>\n",
       "  </thead>\n",
       "  <tbody>\n",
       "    <tr>\n",
       "      <th>0</th>\n",
       "      <td>0.000000</td>\n",
       "      <td>0.000000</td>\n",
       "      <td>0.000000</td>\n",
       "      <td>0.281066</td>\n",
       "      <td>0.000000</td>\n",
       "      <td>0.000000</td>\n",
       "      <td>0.000000</td>\n",
       "      <td>0.000000</td>\n",
       "      <td>0.000000</td>\n",
       "      <td>0.000000</td>\n",
       "      <td>...</td>\n",
       "      <td>0.000000</td>\n",
       "      <td>0.281066</td>\n",
       "      <td>0.000000</td>\n",
       "      <td>0.000000</td>\n",
       "      <td>0.281066</td>\n",
       "      <td>0.000000</td>\n",
       "      <td>0.000000</td>\n",
       "      <td>0.000000</td>\n",
       "      <td>0.000000</td>\n",
       "      <td>0.188233</td>\n",
       "    </tr>\n",
       "    <tr>\n",
       "      <th>1</th>\n",
       "      <td>0.209893</td>\n",
       "      <td>0.000000</td>\n",
       "      <td>0.260157</td>\n",
       "      <td>0.000000</td>\n",
       "      <td>0.000000</td>\n",
       "      <td>0.000000</td>\n",
       "      <td>0.260157</td>\n",
       "      <td>0.000000</td>\n",
       "      <td>0.000000</td>\n",
       "      <td>0.000000</td>\n",
       "      <td>...</td>\n",
       "      <td>0.000000</td>\n",
       "      <td>0.000000</td>\n",
       "      <td>0.000000</td>\n",
       "      <td>0.000000</td>\n",
       "      <td>0.000000</td>\n",
       "      <td>0.000000</td>\n",
       "      <td>0.000000</td>\n",
       "      <td>0.000000</td>\n",
       "      <td>0.000000</td>\n",
       "      <td>0.174230</td>\n",
       "    </tr>\n",
       "    <tr>\n",
       "      <th>2</th>\n",
       "      <td>0.000000</td>\n",
       "      <td>0.319846</td>\n",
       "      <td>0.000000</td>\n",
       "      <td>0.000000</td>\n",
       "      <td>0.319846</td>\n",
       "      <td>0.000000</td>\n",
       "      <td>0.000000</td>\n",
       "      <td>0.000000</td>\n",
       "      <td>0.319846</td>\n",
       "      <td>0.000000</td>\n",
       "      <td>...</td>\n",
       "      <td>0.000000</td>\n",
       "      <td>0.000000</td>\n",
       "      <td>0.000000</td>\n",
       "      <td>0.000000</td>\n",
       "      <td>0.000000</td>\n",
       "      <td>0.000000</td>\n",
       "      <td>0.000000</td>\n",
       "      <td>0.000000</td>\n",
       "      <td>0.000000</td>\n",
       "      <td>0.214205</td>\n",
       "    </tr>\n",
       "    <tr>\n",
       "      <th>3</th>\n",
       "      <td>0.233121</td>\n",
       "      <td>0.000000</td>\n",
       "      <td>0.000000</td>\n",
       "      <td>0.000000</td>\n",
       "      <td>0.000000</td>\n",
       "      <td>0.000000</td>\n",
       "      <td>0.000000</td>\n",
       "      <td>0.000000</td>\n",
       "      <td>0.000000</td>\n",
       "      <td>0.000000</td>\n",
       "      <td>...</td>\n",
       "      <td>0.000000</td>\n",
       "      <td>0.000000</td>\n",
       "      <td>0.000000</td>\n",
       "      <td>0.288947</td>\n",
       "      <td>0.000000</td>\n",
       "      <td>0.000000</td>\n",
       "      <td>0.000000</td>\n",
       "      <td>0.000000</td>\n",
       "      <td>0.000000</td>\n",
       "      <td>0.000000</td>\n",
       "    </tr>\n",
       "    <tr>\n",
       "      <th>4</th>\n",
       "      <td>0.000000</td>\n",
       "      <td>0.000000</td>\n",
       "      <td>0.000000</td>\n",
       "      <td>0.000000</td>\n",
       "      <td>0.000000</td>\n",
       "      <td>0.243193</td>\n",
       "      <td>0.000000</td>\n",
       "      <td>0.243193</td>\n",
       "      <td>0.000000</td>\n",
       "      <td>0.243193</td>\n",
       "      <td>...</td>\n",
       "      <td>0.243193</td>\n",
       "      <td>0.000000</td>\n",
       "      <td>0.243193</td>\n",
       "      <td>0.000000</td>\n",
       "      <td>0.000000</td>\n",
       "      <td>0.243193</td>\n",
       "      <td>0.243193</td>\n",
       "      <td>0.243193</td>\n",
       "      <td>0.243193</td>\n",
       "      <td>0.000000</td>\n",
       "    </tr>\n",
       "  </tbody>\n",
       "</table>\n",
       "<p>5 rows × 63 columns</p>\n",
       "</div>"
      ],
      "text/plain": [
       "          a        al  allamand      alza     avión    bungee  candidaturas  \\\n",
       "0  0.000000  0.000000  0.000000  0.281066  0.000000  0.000000      0.000000   \n",
       "1  0.209893  0.000000  0.260157  0.000000  0.000000  0.000000      0.260157   \n",
       "2  0.000000  0.319846  0.000000  0.000000  0.319846  0.000000      0.000000   \n",
       "3  0.233121  0.000000  0.000000  0.000000  0.000000  0.000000      0.000000   \n",
       "4  0.000000  0.000000  0.000000  0.000000  0.000000  0.243193      0.000000   \n",
       "\n",
       "       cayó     caída  cortarse  ...        su  superintendente     susto  \\\n",
       "0  0.000000  0.000000  0.000000  ...  0.000000         0.281066  0.000000   \n",
       "1  0.000000  0.000000  0.000000  ...  0.000000         0.000000  0.000000   \n",
       "2  0.000000  0.319846  0.000000  ...  0.000000         0.000000  0.000000   \n",
       "3  0.000000  0.000000  0.000000  ...  0.000000         0.000000  0.000000   \n",
       "4  0.243193  0.000000  0.243193  ...  0.243193         0.000000  0.243193   \n",
       "\n",
       "    tempore  transparencia      tras        un      vida     vivió         y  \n",
       "0  0.000000       0.281066  0.000000  0.000000  0.000000  0.000000  0.188233  \n",
       "1  0.000000       0.000000  0.000000  0.000000  0.000000  0.000000  0.174230  \n",
       "2  0.000000       0.000000  0.000000  0.000000  0.000000  0.000000  0.214205  \n",
       "3  0.288947       0.000000  0.000000  0.000000  0.000000  0.000000  0.000000  \n",
       "4  0.000000       0.000000  0.243193  0.243193  0.243193  0.243193  0.000000  \n",
       "\n",
       "[5 rows x 63 columns]"
      ]
     },
     "execution_count": 405,
     "metadata": {},
     "output_type": "execute_result"
    }
   ],
   "source": [
    "#visualización de la matriz tf-idf\n",
    "tfidf_sample = pd.DataFrame(tfidf_sample.todense(), columns=tfidf_vectorizer.get_feature_names()) \n",
    "tfidf_sample"
   ]
  },
  {
   "cell_type": "markdown",
   "metadata": {},
   "source": [
    "## 2. Clasificación"
   ]
  },
  {
   "cell_type": "code",
   "execution_count": 406,
   "metadata": {},
   "outputs": [],
   "source": [
    "def plot_confusion_matrix(cm, classes, normalize=False, title='Confusion matrix', cmap=plt.cm.Blues):\n",
    "    \"\"\"\n",
    "    This function prints and plots the confusion matrix.\n",
    "    Normalization can be applied by setting `normalize=True`.\n",
    "    \"\"\"\n",
    "    plt.figure(figsize=(8,8))\n",
    "    plt.title(title)\n",
    "    tick_marks = np.arange(len(classes))\n",
    "    plt.xticks(tick_marks, classes, rotation=45)\n",
    "    plt.yticks(tick_marks, classes)\n",
    "\n",
    "    if normalize:\n",
    "        cm = cm.astype('float') / cm.sum(axis=1)[:, np.newaxis]\n",
    "        cm = np.round(cm, decimals=3)\n",
    "\n",
    "        print(\"Normalized confusion matrix\")\n",
    "    else:\n",
    "        print('Confusion matrix, without normalization')\n",
    "\n",
    "\n",
    "    thresh = cm.max() / 2.\n",
    "    for i, j in itertools.product(range(cm.shape[0]), range(cm.shape[1])):\n",
    "        plt.text(j, i, cm[i, j],\n",
    "                 horizontalalignment=\"center\",\n",
    "                 color=\"white\" if cm[i, j] > thresh else \"black\")\n",
    "    plt.imshow(cm, interpolation='nearest', cmap=cmap)\n",
    "\n",
    "    plt.colorbar()\n",
    "\n",
    "    plt.tight_layout()\n",
    "    plt.ylabel('True label')\n",
    "    plt.xlabel('Predicted label')\n",
    "    plt.show()"
   ]
  },
  {
   "cell_type": "code",
   "execution_count": 627,
   "metadata": {},
   "outputs": [],
   "source": [
    "#Definimos el conjunto de entrenamiento y test\n",
    "X_train, X_test, y_train, y_test = train_test_split(df.content, df.category, test_size=0.2, \n",
    "                                                    random_state=0, stratify= df.category)"
   ]
  },
  {
   "cell_type": "code",
   "execution_count": 630,
   "metadata": {},
   "outputs": [],
   "source": [
    "#Creamos objetos para llevar el corpus a bag-of-words\n",
    "args = {\"stopwords_remove\": True, 'stemming': True}\n",
    "tf_vectorizer = CountVectorizer(analyzer='word', tokenizer=lambda text: tokenizer(text, **args),\n",
    "                               max_df = 0.8, min_df = 5)\n",
    "tfidf_vectorizer = TfidfVectorizer(analyzer='word', tokenizer=lambda text: tokenizer(text, **args),\n",
    "                                  max_df = 0.8, min_df = 5) "
   ]
  },
  {
   "cell_type": "markdown",
   "metadata": {},
   "source": [
    "El códigp anterior realizará el siguiente procesamiento al corpus:\n",
    "1. Elimina stopwords.\n",
    "2. Aplica stemming.\n",
    "3. Elimina palabras que aparacen en más del 80% de los documentos.\n",
    "4. Elimina palabras que aparecen en menos de 5 documentos."
   ]
  },
  {
   "cell_type": "markdown",
   "metadata": {},
   "source": [
    "### 2.1 Naive bayes"
   ]
  },
  {
   "cell_type": "code",
   "execution_count": 631,
   "metadata": {},
   "outputs": [],
   "source": [
    "clf_nb = MultinomialNB() #objeto clasificador\n",
    "tf_clf_nb = Pipeline([('vect', tf_vectorizer), ('clf', clf_nb)])#objeto pipeline"
   ]
  },
  {
   "cell_type": "code",
   "execution_count": 632,
   "metadata": {},
   "outputs": [
    {
     "data": {
      "text/plain": [
       "Pipeline(memory=None,\n",
       "         steps=[('vect',\n",
       "                 CountVectorizer(analyzer='word', binary=False,\n",
       "                                 decode_error='strict',\n",
       "                                 dtype=<class 'numpy.int64'>, encoding='utf-8',\n",
       "                                 input='content', lowercase=True, max_df=0.8,\n",
       "                                 max_features=None, min_df=5,\n",
       "                                 ngram_range=(1, 1), preprocessor=None,\n",
       "                                 stop_words=None, strip_accents=None,\n",
       "                                 token_pattern='(?u)\\\\b\\\\w\\\\w+\\\\b',\n",
       "                                 tokenizer=<function <lambda> at 0x000002061B6B0158>,\n",
       "                                 vocabulary=None)),\n",
       "                ('clf',\n",
       "                 MultinomialNB(alpha=1.0, class_prior=None, fit_prior=True))],\n",
       "         verbose=False)"
      ]
     },
     "execution_count": 632,
     "metadata": {},
     "output_type": "execute_result"
    }
   ],
   "source": [
    "#entrenamiento\n",
    "tf_clf_nb.fit(X_train, y_train)"
   ]
  },
  {
   "cell_type": "code",
   "execution_count": 633,
   "metadata": {},
   "outputs": [
    {
     "name": "stdout",
     "output_type": "stream",
     "text": [
      "Tamaño del vocabulario: 3511\n"
     ]
    }
   ],
   "source": [
    "print('Tamaño del vocabulario:', len(tf_clf_nb['vect'].vocabulary_))"
   ]
  },
  {
   "cell_type": "code",
   "execution_count": 634,
   "metadata": {},
   "outputs": [
    {
     "name": "stdout",
     "output_type": "stream",
     "text": [
      "               precision    recall  f1-score   support\n",
      "\n",
      "     Economia       0.86      0.95      0.90        40\n",
      "Internacional       0.92      0.82      0.87        40\n",
      "     Nacional       0.84      0.93      0.88        40\n",
      "      Opinion       0.91      0.78      0.84        40\n",
      "     Sociedad       0.90      0.95      0.93        40\n",
      "\n",
      "     accuracy                           0.89       200\n",
      "    macro avg       0.89      0.89      0.88       200\n",
      " weighted avg       0.89      0.89      0.88       200\n",
      "\n",
      "f1-score 0.883760488895277 \n",
      "\n",
      "Normalized confusion matrix\n"
     ]
    },
    {
     "data": {
      "image/png": "[encoded data removed]",
      "text/plain": [
       "<Figure size 576x576 with 2 Axes>"
      ]
     },
     "metadata": {
      "needs_background": "light"
     },
     "output_type": "display_data"
    }
   ],
   "source": [
    "#test\n",
    "y_predicted = tf_clf_nb.predict(X_test)\n",
    "cm = confusion_matrix(y_test, y_predicted)\n",
    "class_report = classification_report(y_test, y_predicted) \n",
    "print(class_report)\n",
    "f1 = f1_score(y_test, y_predicted, average='macro') \n",
    "print('f1-score', f1, '\\n')\n",
    "plot_confusion_matrix(cm, [*clf_nb.classes_], normalize=True) "
   ]
  },
  {
   "cell_type": "code",
   "execution_count": 635,
   "metadata": {},
   "outputs": [],
   "source": [
    "#Guardar vocabulario\n",
    "\n",
    "pickle.dump(tf_clf_nb['vect'].vocabulary_, open(\"vocabulary.pkl\",\"wb\"))\n",
    "\n",
    "#Cargar vocabulario\n",
    "vocabulary = pickle.load(open(\"vocabulary.pkl\", \"rb\"))\n",
    "\n",
    "loaded_vec = CountVectorizer(analyzer='word', tokenizer=lambda text: tokenizer(text, **args),\n",
    "                             decode_error=\"replace\", vocabulary=vocabulary)\n",
    "   \n",
    "#Guardar clasificador\n",
    "with open('nb_model.pkl', 'wb') as f:\n",
    "    pickle.dump(tf_clf_nb['clf'], f)\n",
    "\n",
    "#Cargar clasficador\n",
    "with open('nb_model.pkl', 'rb') as f:\n",
    "    clf_nb = pickle.load(f)"
   ]
  },
  {
   "cell_type": "code",
   "execution_count": 636,
   "metadata": {},
   "outputs": [
    {
     "data": {
      "text/plain": [
       "['Alrededor de 40 mil hogares de Puente Alto, Pirque y San José de Maipo sufren corte de energía',\n",
       " 'Nacional']"
      ]
     },
     "execution_count": 636,
     "metadata": {},
     "output_type": "execute_result"
    }
   ],
   "source": [
    "[df['title'][1], df['category'][1]]"
   ]
  },
  {
   "cell_type": "code",
   "execution_count": 637,
   "metadata": {},
   "outputs": [
    {
     "data": {
      "text/plain": [
       "array(['Nacional'], dtype='<U13')"
      ]
     },
     "execution_count": 637,
     "metadata": {},
     "output_type": "execute_result"
    }
   ],
   "source": [
    "#Realizar una prediccioón\n",
    "clf_nb.predict(loaded_vec.fit_transform(['Alrededor de 40 mil hogares de Puente Alto, Pirque y San José de Maipo sufren corte de energía']))"
   ]
  },
  {
   "cell_type": "markdown",
   "metadata": {},
   "source": [
    "### 2.2 Regresión logística"
   ]
  },
  {
   "cell_type": "code",
   "execution_count": 638,
   "metadata": {},
   "outputs": [],
   "source": [
    "#Creamos los objetos necesarios para el flujo de entrenamiento\n",
    "lf_lg = LogisticRegression(multi_class='multinomial', solver='newton-cg') #objeto clasificador\n",
    "tfidf_clf_lg = Pipeline([('vect', tfidf_vectorizer), ('clf', clf_lg)])"
   ]
  },
  {
   "cell_type": "code",
   "execution_count": 639,
   "metadata": {},
   "outputs": [
    {
     "data": {
      "text/plain": [
       "Pipeline(memory=None,\n",
       "         steps=[('vect',\n",
       "                 TfidfVectorizer(analyzer='word', binary=False,\n",
       "                                 decode_error='strict',\n",
       "                                 dtype=<class 'numpy.float64'>,\n",
       "                                 encoding='utf-8', input='content',\n",
       "                                 lowercase=True, max_df=0.8, max_features=None,\n",
       "                                 min_df=5, ngram_range=(1, 1), norm='l2',\n",
       "                                 preprocessor=None, smooth_idf=True,\n",
       "                                 stop_words=None, strip_accents=None,\n",
       "                                 sublinear_tf=False,\n",
       "                                 token_pattern='(...\n",
       "                                 tokenizer=<function <lambda> at 0x000002061B6B01E0>,\n",
       "                                 use_idf=True, vocabulary=None)),\n",
       "                ('clf',\n",
       "                 LogisticRegression(C=1.0, class_weight=None, dual=False,\n",
       "                                    fit_intercept=True, intercept_scaling=1,\n",
       "                                    l1_ratio=None, max_iter=100,\n",
       "                                    multi_class='multinomial', n_jobs=None,\n",
       "                                    penalty='l2', random_state=None,\n",
       "                                    solver='newton-cg', tol=0.0001, verbose=0,\n",
       "                                    warm_start=False))],\n",
       "         verbose=False)"
      ]
     },
     "execution_count": 639,
     "metadata": {},
     "output_type": "execute_result"
    }
   ],
   "source": [
    "#entrenamiento\n",
    "tfidf_clf_lg.fit(X_train, y_train)"
   ]
  },
  {
   "cell_type": "code",
   "execution_count": 645,
   "metadata": {},
   "outputs": [
    {
     "name": "stdout",
     "output_type": "stream",
     "text": [
      "               precision    recall  f1-score   support\n",
      "\n",
      "     Economia       0.86      0.90      0.88        40\n",
      "Internacional       0.94      0.80      0.86        40\n",
      "     Nacional       0.82      0.90      0.86        40\n",
      "      Opinion       0.89      0.78      0.83        40\n",
      "     Sociedad       0.84      0.95      0.89        40\n",
      "\n",
      "     accuracy                           0.86       200\n",
      "    macro avg       0.87      0.86      0.86       200\n",
      " weighted avg       0.87      0.86      0.86       200\n",
      "\n",
      "f1-score 0.8641681632442035 \n",
      "\n",
      "Normalized confusion matrix\n"
     ]
    },
    {
     "data": {
      "image/png": "[encoded data removed]",
      "text/plain": [
       "<Figure size 576x576 with 2 Axes>"
      ]
     },
     "metadata": {
      "needs_background": "light"
     },
     "output_type": "display_data"
    }
   ],
   "source": [
    "#test\n",
    "y_predicted = tfidf_clf_lg.predict(X_test)\n",
    "cm = confusion_matrix(y_test, y_predicted)\n",
    "class_report = classification_report(y_test, y_predicted) \n",
    "print(class_report)\n",
    "f1 = f1_score(y_test, y_predicted, average='macro') \n",
    "print('f1-score', f1, '\\n')\n",
    "plot_confusion_matrix(cm, [*clf_lg.classes_], normalize=True) "
   ]
  },
  {
   "cell_type": "code",
   "execution_count": 641,
   "metadata": {},
   "outputs": [],
   "source": [
    "##Creamos los objetos necesarios para el flujo de entrenamiento\n",
    "\n",
    "clf_svm = SVC() #objeto clasificador\n",
    "parameters = {'C': range( 1, 10, 1 ), 'kernel': ['linear', 'poly', 'rbf']} #grilla de hiperparámetros\n",
    "\n",
    "#A través de cross-validation determinar los mejores hiperparámetros escogidos al azar de la grilla\n",
    "clf_svm_rcv = RandomizedSearchCV(estimator=clf_svm, param_distributions = parameters, n_iter=10, cv=5, \n",
    "                                scoring = 'accuracy', random_state=0, iid =False, n_jobs=-1)\n",
    "tfidf_clf_svm = Pipeline([('vect', tfidf_vectorizer), ('clf', clf_svm_rcv)])"
   ]
  },
  {
   "cell_type": "code",
   "execution_count": 642,
   "metadata": {},
   "outputs": [
    {
     "data": {
      "text/plain": [
       "Pipeline(memory=None,\n",
       "         steps=[('vect',\n",
       "                 TfidfVectorizer(analyzer='word', binary=False,\n",
       "                                 decode_error='strict',\n",
       "                                 dtype=<class 'numpy.float64'>,\n",
       "                                 encoding='utf-8', input='content',\n",
       "                                 lowercase=True, max_df=0.8, max_features=None,\n",
       "                                 min_df=5, ngram_range=(1, 1), norm='l2',\n",
       "                                 preprocessor=None, smooth_idf=True,\n",
       "                                 stop_words=None, strip_accents=None,\n",
       "                                 sublinear_tf=False,\n",
       "                                 token_pattern='(...\n",
       "                                                  degree=3,\n",
       "                                                  gamma='auto_deprecated',\n",
       "                                                  kernel='rbf', max_iter=-1,\n",
       "                                                  probability=False,\n",
       "                                                  random_state=None,\n",
       "                                                  shrinking=True, tol=0.001,\n",
       "                                                  verbose=False),\n",
       "                                    iid=False, n_iter=10, n_jobs=-1,\n",
       "                                    param_distributions={'C': range(1, 10),\n",
       "                                                         'kernel': ['linear',\n",
       "                                                                    'poly',\n",
       "                                                                    'rbf']},\n",
       "                                    pre_dispatch='2*n_jobs', random_state=0,\n",
       "                                    refit=True, return_train_score=False,\n",
       "                                    scoring='accuracy', verbose=0))],\n",
       "         verbose=False)"
      ]
     },
     "execution_count": 642,
     "metadata": {},
     "output_type": "execute_result"
    }
   ],
   "source": [
    "#entrenamiento\n",
    "tfidf_clf_svm.fit(X_train, y_train)"
   ]
  },
  {
   "cell_type": "code",
   "execution_count": 643,
   "metadata": {},
   "outputs": [
    {
     "data": {
      "text/plain": [
       "{'kernel': 'linear', 'C': 9}"
      ]
     },
     "execution_count": 643,
     "metadata": {},
     "output_type": "execute_result"
    }
   ],
   "source": [
    "#los mejores hipeparámetros\n",
    "tfidf_clf_svm['clf'].best_params_ "
   ]
  },
  {
   "cell_type": "code",
   "execution_count": 461,
   "metadata": {},
   "outputs": [
    {
     "name": "stdout",
     "output_type": "stream",
     "text": [
      "               precision    recall  f1-score   support\n",
      "\n",
      "     Economia       0.86      0.88      0.87        41\n",
      "Internacional       0.93      0.84      0.88        49\n",
      "     Nacional       0.77      0.88      0.82        26\n",
      "      Opinion       0.92      0.90      0.91        40\n",
      "     Sociedad       0.84      0.86      0.85        44\n",
      "\n",
      "     accuracy                           0.87       200\n",
      "    macro avg       0.86      0.87      0.87       200\n",
      " weighted avg       0.87      0.87      0.87       200\n",
      "\n",
      "f1-score 0.8671887740774249 \n",
      "\n",
      "Normalized confusion matrix\n"
     ]
    },
    {
     "data": {
      "image/png": "[encoded data removed]",
      "text/plain": [
       "<Figure size 576x576 with 2 Axes>"
      ]
     },
     "metadata": {
      "needs_background": "light"
     },
     "output_type": "display_data"
    }
   ],
   "source": [
    "#test\n",
    "y_predicted = tfidf_clf_svm.predict(X_test)\n",
    "cm = confusion_matrix(y_test, y_predicted)\n",
    "class_report = classification_report(y_test, y_predicted) \n",
    "print(class_report)\n",
    "f1 = f1_score(y_test, y_predicted, average='macro') \n",
    "print('f1-score', f1, '\\n')\n",
    "plot_confusion_matrix(cm, [*tfidf_clf_svm.classes_], normalize=True) "
   ]
  },
  {
   "cell_type": "markdown",
   "metadata": {},
   "source": [
    "# Information Retrieval"
   ]
  },
  {
   "cell_type": "markdown",
   "metadata": {},
   "source": [
    "**Information Retrieval**: ciencia de búscar información en una colección de fuentes de información.\n",
    "\n",
    "En este caso estamos interesados en búscar documentos similares dado un documento de búsqueda, para esto, primero necesitamos entender cómo podemos comparar de documentos.\n",
    "\n",
    "\n",
    "## 1. Algunas medidas de distancia y similitud\n",
    "\n",
    "1. Medidas de distanca como la norma $L_{1}$ (Manhattan) y $L_{2}$ (Euclidean):\n",
    "    \\begin{equation*}\n",
    "    L_{1}(x,y)=\\sum_{i=1}^{M}|x_{i}-y_{i}|, \\; L_{2}(x,y)=\\sqrt{\\sum_{i=1}^{M}|x_{i}-y_{i}|^{2}}\n",
    "    \\end{equation*}\n",
    "\n",
    "2. Generalización de las medidas anteriores es la Minkowski:\n",
    "    \\begin{equation*}\n",
    "     L_{p}(x,y)=(\\sum_{i=1}^{M}|x_{i}-y_{i}|^{p})^{\\frac{1}{p}}\n",
    "    \\end{equation*}\n",
    "\n",
    "3. Similitud coseno:\n",
    "\n",
    "\\begin{equation*}\n",
    "cos(x,y) = \\frac{x\\cdot y}{\\| x\\|\\| y\\|}\n",
    "\\end{equation*}\n",
    "\n",
    "4. Similitud euclideana:\n",
    "\\begin{equation*}\n",
    "s_{L_{2}} = \\frac{1}{1+L_{2}(x,y)}\n",
    "\\end{equation*}\n",
    "\n",
    "\n",
    "En el caso de las medidas de distancia mientras mayor es la distancia entre dos vectores mayor es la disimilitud y en el caso de que la distancia es 0 se dice que los vectores son idénticos, por otro lado en las medidas de similitud como la coseno va entre [-1, 1], donde 1 significa que dos vectores son idénticos, -1 que son opuestos."
   ]
  },
  {
   "cell_type": "code",
   "execution_count": 226,
   "metadata": {},
   "outputs": [],
   "source": [
    "#similitud entre vectores\n",
    "def l1_distance(x,y):\n",
    "    return np.abs(x-y).sum()\n",
    "                  \n",
    "def l2_distance(x,y):\n",
    "    return norm(x-y)\n",
    "\n",
    "def cos(x,y):\n",
    "    return np.dot(x,y)/(norm(x)*norm(y))\n",
    "\n",
    "def l2_similarity(x,y):\n",
    "    return 1/(1+l2_distance(x,y))\n",
    "\n",
    "\n",
    "def l1_matrix(x):\n",
    "    d = np.sum(np.abs(x[:, np.newaxis, :] - x[np.newaxis, :, :]), axis = -1)\n",
    "    return d\n",
    "                  \n",
    "def l2_matrix(x):\n",
    "    d = np.sqrt(np.sum((x[:, np.newaxis, :] - x[np.newaxis, :, :])**2, axis = -1))\n",
    "    return d\n",
    "\n",
    "def cos_matrix(x):\n",
    "    num = np.sum(x[:, np.newaxis, :]*x[np.newaxis, :, :], axis=-1)\n",
    "    den1 = np.linalg.norm(x, axis=1)\n",
    "    den2 = np.linalg.norm(x, axis=1)\n",
    "    den = den1[:, np.newaxis]*den2[np.newaxis, :]\n",
    "    d = num/den\n",
    "    return d\n",
    "\n",
    "def l2_similarity_matrix(x):\n",
    "    return 1/(1+l2_matrix(x))"
   ]
  },
  {
   "cell_type": "markdown",
   "metadata": {},
   "source": [
    "## 2. Bag-of-words\n",
    "\n",
    "Con el modelo bag-of-words obtenemos representaciones vectoriales de los documentos que podemos utilizar para calcular similitud (o disimilitud) entre documentos.\n",
    "\n",
    "Desventajas:\n",
    "1. Vectores sparse, dos vectores de documentos son casi ortogonales, por lo que la similitud puede ser baja.\n",
    "2. No captura distancias entre palabras, palabras que son sinónimos ocupan un token diferente. Un ejemplo del caso anterior es cuando tenemos dos documentos que no tienen palabras en común, pero dicen lo mismo, solo que uno ocupa sinónimos de todas las palabras del otro, los vectores serían ortogonales y la similitud coseno es 0.\n"
   ]
  },
  {
   "cell_type": "code",
   "execution_count": 227,
   "metadata": {},
   "outputs": [
    {
     "name": "stdout",
     "output_type": "stream",
     "text": [
      "Tamaño del vocabulario: 3623\n"
     ]
    },
    {
     "data": {
      "text/plain": [
       "<1000x3623 sparse matrix of type '<class 'numpy.float64'>'\n",
       "\twith 8146 stored elements in Compressed Sparse Row format>"
      ]
     },
     "execution_count": 227,
     "metadata": {},
     "output_type": "execute_result"
    }
   ],
   "source": [
    "#Creamos los objetos que permiten llevar el corpus a un modelo bag-of-words\n",
    "args = {\"stopwords_remove\": True, 'stemming':True}\n",
    "tf_vectorizer = CountVectorizer(analyzer='word', tokenizer=lambda text: tokenizer(text, **args))\n",
    "#Creamos la matriz tf sobre el corpus de los títulos de las noticias\n",
    "tf_vectorizer.fit_transform(df.title)\n",
    "print('Tamaño del vocabulario:', len(tf_vectorizer.vocabulary_))\n",
    "\n",
    "#Creamos los objetos que permiten llevar el corpus a un modelo bag-of-words\n",
    "args = {\"stopwords_remove\": True, 'stemming':True}\n",
    "tfidf_vectorizer = TfidfVectorizer(analyzer='word', tokenizer=lambda text: tokenizer(text, **args))\n",
    "#Creamos la matriz tf-idf sobre el corpus de los títulos de las noticias\n",
    "tfidf_vectorizer.fit_transform(df.title)"
   ]
  },
  {
   "cell_type": "code",
   "execution_count": 231,
   "metadata": {},
   "outputs": [
    {
     "name": "stdout",
     "output_type": "stream",
     "text": [
      "Empresarios admiten que inmigración ha provocado impacto en los salarios y en cifras de desempleo \n",
      "\n",
      "Desocupación en el Bío Bío baja a 6,7%: administración pública y salud generaron nuevos empleos \n",
      "\n",
      "Desempleo se mantiene por sobre el 7% \n",
      "\n",
      "Habla director de Compin Bío Bío que se autoaprobó licencia: afirma que no se percató que era suya \n",
      "\n",
      "Hombre de 65 años inventó aviso de bomba en un avión por insólita razón: quería cita con una azafata \n",
      "\n",
      "Profesor desvinculado tras pedir leer a Lemebel será indemnizado: No puedo volver a Independencia \n",
      "\n"
     ]
    }
   ],
   "source": [
    "#Documentos a estudiar\n",
    "\n",
    "doc1 = df[df['category']=='Economia']['title'].iloc[1]\n",
    "doc2 = df[df['category']=='Economia']['title'].iloc[2]\n",
    "doc3 = df[df['category']=='Economia']['title'].iloc[20]\n",
    "doc4 = df[df['category']=='Nacional']['title'].iloc[2]\n",
    "doc5 = df[df['category']=='Sociedad']['title'].iloc[192]\n",
    "doc6 = df[df['category']=='Opinion']['title'].iloc[4]\n",
    "docs_list = [doc1, doc2, doc3, doc4, doc5, doc6]\n",
    "print(doc1, '\\n')\n",
    "print(doc2, '\\n')\n",
    "print(doc3, '\\n')\n",
    "print(doc4, '\\n')\n",
    "print(doc5, '\\n')\n",
    "print(doc6, '\\n')"
   ]
  },
  {
   "cell_type": "code",
   "execution_count": 235,
   "metadata": {},
   "outputs": [
    {
     "data": {
      "text/plain": [
       "(6, 3623)"
      ]
     },
     "execution_count": 235,
     "metadata": {},
     "output_type": "execute_result"
    }
   ],
   "source": [
    "#Obtener vector de los documentos\n",
    "tf = tf_vectorizer.transform(docs_list)\n",
    "tf.shape #6 documentos y 3623 columnas (tamaño del vocabulario)"
   ]
  },
  {
   "cell_type": "code",
   "execution_count": 236,
   "metadata": {},
   "outputs": [
    {
     "data": {
      "text/html": [
       "<div>\n",
       "<style scoped>\n",
       "    .dataframe tbody tr th:only-of-type {\n",
       "        vertical-align: middle;\n",
       "    }\n",
       "\n",
       "    .dataframe tbody tr th {\n",
       "        vertical-align: top;\n",
       "    }\n",
       "\n",
       "    .dataframe thead th {\n",
       "        text-align: right;\n",
       "    }\n",
       "</style>\n",
       "<table border=\"1\" class=\"dataframe\">\n",
       "  <thead>\n",
       "    <tr style=\"text-align: right;\">\n",
       "      <th></th>\n",
       "      <th>0</th>\n",
       "      <th>1</th>\n",
       "      <th>2</th>\n",
       "      <th>3</th>\n",
       "      <th>4</th>\n",
       "      <th>5</th>\n",
       "    </tr>\n",
       "  </thead>\n",
       "  <tbody>\n",
       "    <tr>\n",
       "      <th>0</th>\n",
       "      <td>1.00</td>\n",
       "      <td>0.000000</td>\n",
       "      <td>0.25</td>\n",
       "      <td>0.000000</td>\n",
       "      <td>0.0</td>\n",
       "      <td>0.0</td>\n",
       "    </tr>\n",
       "    <tr>\n",
       "      <th>1</th>\n",
       "      <td>0.00</td>\n",
       "      <td>1.000000</td>\n",
       "      <td>0.00</td>\n",
       "      <td>0.365148</td>\n",
       "      <td>0.0</td>\n",
       "      <td>0.0</td>\n",
       "    </tr>\n",
       "    <tr>\n",
       "      <th>2</th>\n",
       "      <td>0.25</td>\n",
       "      <td>0.000000</td>\n",
       "      <td>1.00</td>\n",
       "      <td>0.000000</td>\n",
       "      <td>0.0</td>\n",
       "      <td>0.0</td>\n",
       "    </tr>\n",
       "    <tr>\n",
       "      <th>3</th>\n",
       "      <td>0.00</td>\n",
       "      <td>0.365148</td>\n",
       "      <td>0.00</td>\n",
       "      <td>1.000000</td>\n",
       "      <td>0.0</td>\n",
       "      <td>0.0</td>\n",
       "    </tr>\n",
       "    <tr>\n",
       "      <th>4</th>\n",
       "      <td>0.00</td>\n",
       "      <td>0.000000</td>\n",
       "      <td>0.00</td>\n",
       "      <td>0.000000</td>\n",
       "      <td>1.0</td>\n",
       "      <td>0.0</td>\n",
       "    </tr>\n",
       "    <tr>\n",
       "      <th>5</th>\n",
       "      <td>0.00</td>\n",
       "      <td>0.000000</td>\n",
       "      <td>0.00</td>\n",
       "      <td>0.000000</td>\n",
       "      <td>0.0</td>\n",
       "      <td>1.0</td>\n",
       "    </tr>\n",
       "  </tbody>\n",
       "</table>\n",
       "</div>"
      ],
      "text/plain": [
       "      0         1     2         3    4    5\n",
       "0  1.00  0.000000  0.25  0.000000  0.0  0.0\n",
       "1  0.00  1.000000  0.00  0.365148  0.0  0.0\n",
       "2  0.25  0.000000  1.00  0.000000  0.0  0.0\n",
       "3  0.00  0.365148  0.00  1.000000  0.0  0.0\n",
       "4  0.00  0.000000  0.00  0.000000  1.0  0.0\n",
       "5  0.00  0.000000  0.00  0.000000  0.0  1.0"
      ]
     },
     "execution_count": 236,
     "metadata": {},
     "output_type": "execute_result"
    }
   ],
   "source": [
    "#matriz de similitud coseno entre documentos\n",
    "pd.DataFrame(cos_matrix(tf.toarray()))"
   ]
  },
  {
   "cell_type": "code",
   "execution_count": 237,
   "metadata": {},
   "outputs": [
    {
     "data": {
      "text/html": [
       "<div>\n",
       "<style scoped>\n",
       "    .dataframe tbody tr th:only-of-type {\n",
       "        vertical-align: middle;\n",
       "    }\n",
       "\n",
       "    .dataframe tbody tr th {\n",
       "        vertical-align: top;\n",
       "    }\n",
       "\n",
       "    .dataframe thead th {\n",
       "        text-align: right;\n",
       "    }\n",
       "</style>\n",
       "<table border=\"1\" class=\"dataframe\">\n",
       "  <thead>\n",
       "    <tr style=\"text-align: right;\">\n",
       "      <th></th>\n",
       "      <th>0</th>\n",
       "      <th>1</th>\n",
       "      <th>2</th>\n",
       "      <th>3</th>\n",
       "      <th>4</th>\n",
       "      <th>5</th>\n",
       "    </tr>\n",
       "  </thead>\n",
       "  <tbody>\n",
       "    <tr>\n",
       "      <th>0</th>\n",
       "      <td>1.000000</td>\n",
       "      <td>0.182744</td>\n",
       "      <td>0.261204</td>\n",
       "      <td>0.190744</td>\n",
       "      <td>0.186605</td>\n",
       "      <td>0.200000</td>\n",
       "    </tr>\n",
       "    <tr>\n",
       "      <th>1</th>\n",
       "      <td>0.182744</td>\n",
       "      <td>1.000000</td>\n",
       "      <td>0.210897</td>\n",
       "      <td>0.210897</td>\n",
       "      <td>0.172538</td>\n",
       "      <td>0.182744</td>\n",
       "    </tr>\n",
       "    <tr>\n",
       "      <th>2</th>\n",
       "      <td>0.261204</td>\n",
       "      <td>0.210897</td>\n",
       "      <td>1.000000</td>\n",
       "      <td>0.224009</td>\n",
       "      <td>0.217129</td>\n",
       "      <td>0.240253</td>\n",
       "    </tr>\n",
       "    <tr>\n",
       "      <th>3</th>\n",
       "      <td>0.190744</td>\n",
       "      <td>0.210897</td>\n",
       "      <td>0.224009</td>\n",
       "      <td>1.000000</td>\n",
       "      <td>0.179129</td>\n",
       "      <td>0.190744</td>\n",
       "    </tr>\n",
       "    <tr>\n",
       "      <th>4</th>\n",
       "      <td>0.186605</td>\n",
       "      <td>0.172538</td>\n",
       "      <td>0.217129</td>\n",
       "      <td>0.179129</td>\n",
       "      <td>1.000000</td>\n",
       "      <td>0.186605</td>\n",
       "    </tr>\n",
       "    <tr>\n",
       "      <th>5</th>\n",
       "      <td>0.200000</td>\n",
       "      <td>0.182744</td>\n",
       "      <td>0.240253</td>\n",
       "      <td>0.190744</td>\n",
       "      <td>0.186605</td>\n",
       "      <td>1.000000</td>\n",
       "    </tr>\n",
       "  </tbody>\n",
       "</table>\n",
       "</div>"
      ],
      "text/plain": [
       "          0         1         2         3         4         5\n",
       "0  1.000000  0.182744  0.261204  0.190744  0.186605  0.200000\n",
       "1  0.182744  1.000000  0.210897  0.210897  0.172538  0.182744\n",
       "2  0.261204  0.210897  1.000000  0.224009  0.217129  0.240253\n",
       "3  0.190744  0.210897  0.224009  1.000000  0.179129  0.190744\n",
       "4  0.186605  0.172538  0.217129  0.179129  1.000000  0.186605\n",
       "5  0.200000  0.182744  0.240253  0.190744  0.186605  1.000000"
      ]
     },
     "execution_count": 237,
     "metadata": {},
     "output_type": "execute_result"
    }
   ],
   "source": [
    "#matriz de similitud euclideana entre documentos\n",
    "pd.DataFrame(l2_similarity_matrix(tf.toarray()))"
   ]
  },
  {
   "cell_type": "markdown",
   "metadata": {},
   "source": [
    "Se observa que una gran cantidad de vectores ortogonales bajo similitud coseno.\n",
    "Bajo similitud euclideana casi todos los documentos son casi igual de similares.\n",
    "\n",
    " - Notar que el documento 2 y 4 tienen una alta similitud, esto se debe a la coincidencia de una palabra (Bío) a pesar de que hablan de temas completamente distintos.\n",
    "\n",
    "- En documentos más largos como el contenido de la noticia es más fácil que los vectores no sean ortogonales ya que la probabilidad de encontrar palabras que se repiten en ambos documentos es mayor."
   ]
  },
  {
   "cell_type": "code",
   "execution_count": 238,
   "metadata": {},
   "outputs": [
    {
     "data": {
      "text/plain": [
       "(6, 3623)"
      ]
     },
     "execution_count": 238,
     "metadata": {},
     "output_type": "execute_result"
    }
   ],
   "source": [
    "#Obtener vector de los documentos\n",
    "tfidf = tfidf_vectorizer.transform(docs_list)\n",
    "tfidf.shape #4 documentos y 3623 columnas (tamaño del vocabulario)"
   ]
  },
  {
   "cell_type": "code",
   "execution_count": 239,
   "metadata": {},
   "outputs": [
    {
     "data": {
      "text/html": [
       "<div>\n",
       "<style scoped>\n",
       "    .dataframe tbody tr th:only-of-type {\n",
       "        vertical-align: middle;\n",
       "    }\n",
       "\n",
       "    .dataframe tbody tr th {\n",
       "        vertical-align: top;\n",
       "    }\n",
       "\n",
       "    .dataframe thead th {\n",
       "        text-align: right;\n",
       "    }\n",
       "</style>\n",
       "<table border=\"1\" class=\"dataframe\">\n",
       "  <thead>\n",
       "    <tr style=\"text-align: right;\">\n",
       "      <th></th>\n",
       "      <th>0</th>\n",
       "      <th>1</th>\n",
       "      <th>2</th>\n",
       "      <th>3</th>\n",
       "      <th>4</th>\n",
       "      <th>5</th>\n",
       "    </tr>\n",
       "  </thead>\n",
       "  <tbody>\n",
       "    <tr>\n",
       "      <th>0</th>\n",
       "      <td>1.000000</td>\n",
       "      <td>0.000000</td>\n",
       "      <td>0.254179</td>\n",
       "      <td>0.000000</td>\n",
       "      <td>0.0</td>\n",
       "      <td>0.0</td>\n",
       "    </tr>\n",
       "    <tr>\n",
       "      <th>1</th>\n",
       "      <td>0.000000</td>\n",
       "      <td>1.000000</td>\n",
       "      <td>0.000000</td>\n",
       "      <td>0.293212</td>\n",
       "      <td>0.0</td>\n",
       "      <td>0.0</td>\n",
       "    </tr>\n",
       "    <tr>\n",
       "      <th>2</th>\n",
       "      <td>0.254179</td>\n",
       "      <td>0.000000</td>\n",
       "      <td>1.000000</td>\n",
       "      <td>0.000000</td>\n",
       "      <td>0.0</td>\n",
       "      <td>0.0</td>\n",
       "    </tr>\n",
       "    <tr>\n",
       "      <th>3</th>\n",
       "      <td>0.000000</td>\n",
       "      <td>0.293212</td>\n",
       "      <td>0.000000</td>\n",
       "      <td>1.000000</td>\n",
       "      <td>0.0</td>\n",
       "      <td>0.0</td>\n",
       "    </tr>\n",
       "    <tr>\n",
       "      <th>4</th>\n",
       "      <td>0.000000</td>\n",
       "      <td>0.000000</td>\n",
       "      <td>0.000000</td>\n",
       "      <td>0.000000</td>\n",
       "      <td>1.0</td>\n",
       "      <td>0.0</td>\n",
       "    </tr>\n",
       "    <tr>\n",
       "      <th>5</th>\n",
       "      <td>0.000000</td>\n",
       "      <td>0.000000</td>\n",
       "      <td>0.000000</td>\n",
       "      <td>0.000000</td>\n",
       "      <td>0.0</td>\n",
       "      <td>1.0</td>\n",
       "    </tr>\n",
       "  </tbody>\n",
       "</table>\n",
       "</div>"
      ],
      "text/plain": [
       "          0         1         2         3    4    5\n",
       "0  1.000000  0.000000  0.254179  0.000000  0.0  0.0\n",
       "1  0.000000  1.000000  0.000000  0.293212  0.0  0.0\n",
       "2  0.254179  0.000000  1.000000  0.000000  0.0  0.0\n",
       "3  0.000000  0.293212  0.000000  1.000000  0.0  0.0\n",
       "4  0.000000  0.000000  0.000000  0.000000  1.0  0.0\n",
       "5  0.000000  0.000000  0.000000  0.000000  0.0  1.0"
      ]
     },
     "execution_count": 239,
     "metadata": {},
     "output_type": "execute_result"
    }
   ],
   "source": [
    "#matriz de similitud coseno entre documentos\n",
    "pd.DataFrame(cos_matrix(tfidf.toarray()))"
   ]
  },
  {
   "cell_type": "code",
   "execution_count": 240,
   "metadata": {},
   "outputs": [
    {
     "data": {
      "text/html": [
       "<div>\n",
       "<style scoped>\n",
       "    .dataframe tbody tr th:only-of-type {\n",
       "        vertical-align: middle;\n",
       "    }\n",
       "\n",
       "    .dataframe tbody tr th {\n",
       "        vertical-align: top;\n",
       "    }\n",
       "\n",
       "    .dataframe thead th {\n",
       "        text-align: right;\n",
       "    }\n",
       "</style>\n",
       "<table border=\"1\" class=\"dataframe\">\n",
       "  <thead>\n",
       "    <tr style=\"text-align: right;\">\n",
       "      <th></th>\n",
       "      <th>0</th>\n",
       "      <th>1</th>\n",
       "      <th>2</th>\n",
       "      <th>3</th>\n",
       "      <th>4</th>\n",
       "      <th>5</th>\n",
       "    </tr>\n",
       "  </thead>\n",
       "  <tbody>\n",
       "    <tr>\n",
       "      <th>0</th>\n",
       "      <td>1.000000</td>\n",
       "      <td>0.414214</td>\n",
       "      <td>0.450181</td>\n",
       "      <td>0.414214</td>\n",
       "      <td>0.414214</td>\n",
       "      <td>0.414214</td>\n",
       "    </tr>\n",
       "    <tr>\n",
       "      <th>1</th>\n",
       "      <td>0.414214</td>\n",
       "      <td>1.000000</td>\n",
       "      <td>0.414214</td>\n",
       "      <td>0.456842</td>\n",
       "      <td>0.414214</td>\n",
       "      <td>0.414214</td>\n",
       "    </tr>\n",
       "    <tr>\n",
       "      <th>2</th>\n",
       "      <td>0.450181</td>\n",
       "      <td>0.414214</td>\n",
       "      <td>1.000000</td>\n",
       "      <td>0.414214</td>\n",
       "      <td>0.414214</td>\n",
       "      <td>0.414214</td>\n",
       "    </tr>\n",
       "    <tr>\n",
       "      <th>3</th>\n",
       "      <td>0.414214</td>\n",
       "      <td>0.456842</td>\n",
       "      <td>0.414214</td>\n",
       "      <td>1.000000</td>\n",
       "      <td>0.414214</td>\n",
       "      <td>0.414214</td>\n",
       "    </tr>\n",
       "    <tr>\n",
       "      <th>4</th>\n",
       "      <td>0.414214</td>\n",
       "      <td>0.414214</td>\n",
       "      <td>0.414214</td>\n",
       "      <td>0.414214</td>\n",
       "      <td>1.000000</td>\n",
       "      <td>0.414214</td>\n",
       "    </tr>\n",
       "    <tr>\n",
       "      <th>5</th>\n",
       "      <td>0.414214</td>\n",
       "      <td>0.414214</td>\n",
       "      <td>0.414214</td>\n",
       "      <td>0.414214</td>\n",
       "      <td>0.414214</td>\n",
       "      <td>1.000000</td>\n",
       "    </tr>\n",
       "  </tbody>\n",
       "</table>\n",
       "</div>"
      ],
      "text/plain": [
       "          0         1         2         3         4         5\n",
       "0  1.000000  0.414214  0.450181  0.414214  0.414214  0.414214\n",
       "1  0.414214  1.000000  0.414214  0.456842  0.414214  0.414214\n",
       "2  0.450181  0.414214  1.000000  0.414214  0.414214  0.414214\n",
       "3  0.414214  0.456842  0.414214  1.000000  0.414214  0.414214\n",
       "4  0.414214  0.414214  0.414214  0.414214  1.000000  0.414214\n",
       "5  0.414214  0.414214  0.414214  0.414214  0.414214  1.000000"
      ]
     },
     "execution_count": 240,
     "metadata": {},
     "output_type": "execute_result"
    }
   ],
   "source": [
    "#matriz de similitud euclideana entre documentos\n",
    "pd.DataFrame(l2_similarity_matrix(tfidf.toarray()))"
   ]
  },
  {
   "cell_type": "markdown",
   "metadata": {},
   "source": [
    "Se observa que una gran cantidad de vectores ortogonales bajo similitud coseno.\n",
    "Bajo similitud euclideana casi todos los documentos son casi igual de similares."
   ]
  },
  {
   "cell_type": "markdown",
   "metadata": {},
   "source": [
    "## 3. Word Embeddings\n",
    "\n",
    "Los \\textit{Words Embedding} basados en predicción son principalmente arquitecturas de redes neuronales que $\"$aprenden$\"$ la representación subyacente de las palabra, capturan la $\"$semántica$\"$ de las palabras en una representación vectorial densa de baja dimensión y a partir de estos vectores se puede construir representaciones vectoriales de un texto (conjunto de palabras). \n",
    "\n",
    "- Para esta implementación se utilizarón los embedding obtenidos utilizando el algoritmo FasText sobre el corpus Spanish Billion Word Corpus.\n",
    "\n",
    "- Los emebeddings utilizados codifican la semántica de las palabras en un vector denso de dimensión 300.\n",
    "\n",
    "Link de descarga:\n",
    "https://github.com/dccuchile/spanish-word-embeddings\n"
   ]
  },
  {
   "cell_type": "markdown",
   "metadata": {},
   "source": [
    "- Existen dos formas de cargar los vectores, primero es cargar todos los vectores desde el archivo binario (.bin) en su formato nativo de FastText. Esta opción es más demandante en recursos (tiempo y memoria), pero es mucho más versatil por ejemplo para obtener vectores para palabras que no se ecuentran en el vocabulario.\n"
   ]
  },
  {
   "cell_type": "code",
   "execution_count": 7,
   "metadata": {},
   "outputs": [],
   "source": [
    "wordvectors_file = 'fasttext-sbwc.bin'\n",
    "model = FastText.load_fasttext_format(wordvectors_file)\n",
    "wordvectors = model.wv"
   ]
  },
  {
   "cell_type": "markdown",
   "metadata": {},
   "source": [
    "- La segunda forma, mucho más rápida, es cargar sólo una parte de los vectores. Para esto usamos el formato nativo de word2vec y cargamos una cantidad fija de vectores (se pueden cargar vectores generados por diversos métodos como FastText)."
   ]
  },
  {
   "cell_type": "code",
   "execution_count": 612,
   "metadata": {},
   "outputs": [],
   "source": [
    "# #Cargar vectores\n",
    "# wordvectors_file_vec = 'fasttext-sbwc.3.6.e20.vec'\n",
    "# cantidad = 100000 #cantidad de vectores a cargar\n",
    "# wordvectors = KeyedVectors.load_word2vec_format(wordvectors_file_vec, limit=cantidad)"
   ]
  },
  {
   "cell_type": "markdown",
   "metadata": {},
   "source": [
    "### 3.1 Similitud entre palabras\n",
    "\n",
    "Los word embeddings entregan representaciones vectoriales de las palabras, permitiendonos tener nociones de distancia entre estas, así podemos utilizar distancias tales como l1, l2 o la similitud coseno."
   ]
  },
  {
   "cell_type": "code",
   "execution_count": 244,
   "metadata": {
    "scrolled": true
   },
   "outputs": [
    {
     "data": {
      "text/plain": [
       "array([-2.57698685e-01, -3.05227446e-03, -4.21362191e-01, -1.02369852e-01,\n",
       "       -3.46166380e-02, -2.10825473e-01, -3.21935192e-02,  2.97198325e-01,\n",
       "       -2.24466085e-01, -7.13609084e-02, -5.35109222e-01, -2.18910053e-01,\n",
       "        6.13557883e-02, -7.37681240e-02,  1.66193143e-01,  5.66283846e-03,\n",
       "        2.42169306e-01, -2.58466631e-01,  1.29880279e-01,  4.64084484e-02,\n",
       "       -1.74548998e-01,  1.19527444e-01, -4.90019657e-02, -3.98389623e-02,\n",
       "       -1.80941708e-02, -3.97182196e-01,  2.72530526e-01, -4.55783486e-01,\n",
       "       -2.92190552e-01, -1.25448585e-01,  2.52285451e-01,  2.43016239e-02,\n",
       "       -2.83539504e-01,  2.52966404e-01, -6.71533525e-01, -8.53631459e-03,\n",
       "       -1.80770695e-01, -2.17426032e-01,  4.13519889e-01,  1.93564758e-01,\n",
       "       -4.64920029e-02, -7.48625547e-02, -1.04175456e-01,  1.51321843e-01,\n",
       "       -1.63956642e-01,  3.44364345e-01,  2.10140347e-02,  3.74083638e-01,\n",
       "        1.77878901e-01, -1.13907032e-01,  2.15061188e-01,  2.48354688e-01,\n",
       "       -2.50446528e-01,  2.42998987e-01, -3.95878792e-01, -1.84523135e-01,\n",
       "        1.83368623e-01, -2.19871178e-01,  2.56217897e-01, -1.79908216e-01,\n",
       "       -3.58314589e-02,  3.20654720e-01,  2.43356396e-02,  2.59848326e-01,\n",
       "        1.40522629e-01,  1.97743744e-01, -2.88981140e-01,  1.91611633e-01,\n",
       "        2.69845933e-01, -2.73582131e-01, -2.21724823e-01, -1.42782897e-01,\n",
       "       -8.94562826e-02, -6.72877654e-02, -1.30527494e-02, -4.37235057e-01,\n",
       "       -3.50289345e-02, -8.16535503e-02,  8.24208278e-03, -3.21450323e-01,\n",
       "       -5.41507080e-02,  2.65192352e-02,  6.80478406e-04, -6.36258423e-02,\n",
       "       -4.02969062e-01, -1.71301197e-02,  5.15731191e-03,  6.08816929e-02,\n",
       "       -3.90555635e-02, -3.86818796e-02,  3.52130085e-01,  2.63299346e-01,\n",
       "       -1.34541735e-01,  1.81610912e-01,  1.99263036e-01,  2.40852404e-02,\n",
       "       -1.23985531e-02, -2.57786959e-01,  1.26862124e-01, -1.26699477e-01,\n",
       "        9.78356376e-02,  1.62845135e-01, -6.08527586e-02, -1.52092859e-01,\n",
       "       -2.18188778e-01,  6.70004413e-02, -7.22326860e-02,  3.00470769e-01,\n",
       "        2.26396129e-01, -1.68284729e-01,  3.22683185e-01,  5.78723438e-02,\n",
       "       -1.61878735e-01, -7.74301365e-02, -1.23675250e-01, -9.15845260e-02,\n",
       "       -4.41506058e-01, -5.83332330e-02, -2.66260713e-01,  1.51505157e-01,\n",
       "       -3.09677292e-02,  7.03528710e-03,  1.63556755e-01, -2.90285259e-01,\n",
       "       -4.49149132e-01, -4.69902642e-02,  3.07009295e-02,  1.58704594e-01,\n",
       "       -5.72274625e-01,  2.64889076e-02,  7.68284276e-02,  4.66146439e-01,\n",
       "        3.81326280e-03,  1.29417509e-01,  2.15579003e-01,  6.35949448e-02,\n",
       "       -1.25163898e-03, -1.28252998e-01,  1.41517147e-01, -1.77838892e-01,\n",
       "       -2.21174676e-02, -2.68740863e-01, -2.56729275e-01, -2.52407730e-01,\n",
       "       -2.05854580e-01,  9.96097997e-02, -2.95379639e-01, -1.73140287e-01,\n",
       "       -3.29260230e-02, -2.69511968e-01,  7.71685913e-02,  2.27815937e-02,\n",
       "       -7.93250799e-02,  4.78501916e-02, -3.26312631e-02, -2.59182621e-02,\n",
       "       -8.39939564e-02,  2.03049377e-01,  7.45728537e-02, -3.84948134e-01,\n",
       "       -9.20298100e-02,  1.46215349e-01, -5.24856001e-02, -2.37643614e-01,\n",
       "        8.27697515e-02, -1.93184823e-01,  2.23535985e-01, -5.32045774e-02,\n",
       "        1.23053677e-01,  1.16957270e-01, -1.27268448e-01, -2.42101103e-01,\n",
       "        1.35357693e-01,  1.78293452e-01, -7.05460533e-02, -3.54823232e-01,\n",
       "       -1.08659528e-01, -1.05896927e-01, -3.94884199e-01, -1.70587286e-01,\n",
       "       -3.93573195e-01, -1.36836961e-01, -3.16231255e-03,  2.94997215e-01,\n",
       "       -3.63513157e-02, -3.98617357e-01, -3.65841746e-01, -4.42191064e-01,\n",
       "        6.25079498e-02, -1.65527001e-01,  2.54553169e-01,  1.21333279e-01,\n",
       "       -9.88774449e-02, -2.44696662e-01, -1.93551764e-01,  1.33313343e-01,\n",
       "       -1.12733282e-02,  1.25368387e-01,  5.64334616e-02,  4.66231108e-02,\n",
       "        2.07211241e-01, -2.38970801e-01, -1.02349058e-01,  3.23908418e-01,\n",
       "        2.37058802e-03,  2.29223855e-02, -9.47464764e-01,  1.48450315e-01,\n",
       "        1.99434459e-01,  1.73077341e-02,  2.97222286e-01, -1.12546057e-01,\n",
       "        7.14073181e-02,  2.36425936e-01,  4.80925702e-02,  4.15485233e-01,\n",
       "       -1.93249986e-01,  1.97833598e-01,  3.10844690e-01,  3.74073870e-02,\n",
       "        2.82907158e-01, -5.56428850e-01,  3.00281823e-01, -2.02569515e-01,\n",
       "        6.79074705e-01, -1.27562627e-01, -2.92227000e-01,  7.82291070e-02,\n",
       "        7.05204019e-03, -3.52689803e-01, -3.50417107e-01,  3.83436084e-01,\n",
       "        5.37474334e-01,  1.36693940e-01, -1.65779069e-01, -1.34623256e-02,\n",
       "        1.64187208e-01, -4.79138196e-01, -2.94965535e-01, -2.21847463e-02,\n",
       "       -7.42308795e-02, -7.41903335e-02,  2.90042102e-01,  2.33772501e-01,\n",
       "       -6.94658011e-02, -2.19140857e-01,  2.47019574e-01,  1.12857610e-01,\n",
       "        8.24507847e-02,  4.58491683e-01,  9.79953557e-02,  2.04366550e-01,\n",
       "       -3.63795161e-01, -1.32517844e-01, -2.50017256e-01, -1.13448776e-01,\n",
       "       -1.32127687e-01, -1.11828916e-01,  1.93255663e-01,  3.50826420e-02,\n",
       "        1.12903327e-01,  1.42016247e-01, -2.87530664e-02, -1.08053043e-01,\n",
       "       -2.21095279e-01,  7.34635293e-02, -2.37303033e-01, -2.58557163e-02,\n",
       "        2.29002967e-01,  6.65448308e-01,  1.42079398e-01, -2.30385333e-01,\n",
       "        1.49209887e-01,  8.54193866e-02, -1.56611010e-01, -1.11882083e-01,\n",
       "       -2.40528196e-01,  4.78662431e-01, -2.28638634e-01,  5.80676831e-02,\n",
       "        2.44466811e-01, -1.81428939e-01,  4.53154266e-01, -9.01895314e-02,\n",
       "       -1.15775904e-02,  2.80117184e-01,  2.04313755e-01,  1.51891515e-01,\n",
       "        1.54419512e-01, -1.89048737e-01,  2.11499378e-01, -4.59542900e-01,\n",
       "        1.46798611e-01,  2.16582879e-01, -1.28398761e-01, -3.69048566e-01,\n",
       "        2.32463300e-01, -2.94692218e-01,  3.15910764e-02,  6.09345660e-02],\n",
       "      dtype=float32)"
      ]
     },
     "execution_count": 244,
     "metadata": {},
     "output_type": "execute_result"
    }
   ],
   "source": [
    "reina = wordvectors['reina']\n",
    "reina"
   ]
  },
  {
   "cell_type": "code",
   "execution_count": 245,
   "metadata": {},
   "outputs": [
    {
     "data": {
      "text/plain": [
       "0.6821936"
      ]
     },
     "execution_count": 245,
     "metadata": {},
     "output_type": "execute_result"
    }
   ],
   "source": [
    "#similitud entre vectores\n",
    "cos(wordvectors['reina'], wordvectors['rey'])"
   ]
  },
  {
   "cell_type": "code",
   "execution_count": 246,
   "metadata": {},
   "outputs": [
    {
     "data": {
      "text/plain": [
       "0.5953886"
      ]
     },
     "execution_count": 246,
     "metadata": {},
     "output_type": "execute_result"
    }
   ],
   "source": [
    "cos(wordvectors['mujer'], wordvectors['hombre'])"
   ]
  },
  {
   "cell_type": "code",
   "execution_count": 247,
   "metadata": {},
   "outputs": [
    {
     "data": {
      "text/plain": [
       "0.7273405"
      ]
     },
     "execution_count": 247,
     "metadata": {},
     "output_type": "execute_result"
    }
   ],
   "source": [
    "cos(wordvectors['perro'], wordvectors['gato'])"
   ]
  },
  {
   "cell_type": "code",
   "execution_count": 257,
   "metadata": {},
   "outputs": [
    {
     "data": {
      "text/plain": [
       "0.7661157"
      ]
     },
     "execution_count": 257,
     "metadata": {},
     "output_type": "execute_result"
    }
   ],
   "source": [
    "cos(wordvectors['jugar'], wordvectors['jugaría'])"
   ]
  },
  {
   "cell_type": "code",
   "execution_count": 260,
   "metadata": {},
   "outputs": [
    {
     "data": {
      "text/plain": [
       "0.7047347"
      ]
     },
     "execution_count": 260,
     "metadata": {},
     "output_type": "execute_result"
    }
   ],
   "source": [
    "cos(wordvectors['cantar'], wordvectors['cantaría'])"
   ]
  },
  {
   "cell_type": "code",
   "execution_count": 261,
   "metadata": {},
   "outputs": [
    {
     "data": {
      "text/plain": [
       "0.4480109"
      ]
     },
     "execution_count": 261,
     "metadata": {},
     "output_type": "execute_result"
    }
   ],
   "source": [
    "cos(wordvectors['cantar'], wordvectors['jugar'])"
   ]
  },
  {
   "cell_type": "markdown",
   "metadata": {},
   "source": [
    "#### Búsqueda por analogías\n",
    "\n",
    "3CosMul: Medida de similitud utilizada para responder preguntas de analogías\n",
    "\n",
    "En analogías se tiene un conjunto $b^{*}$, $b$ (ej:reina, rey) y $a^{*}$, $a$ (ej:mujer, hombre), la intuición es que \n",
    "$b^{*}-b$ es similar a $a^{*}-a$ y que la operación $b-a+a^{*}$ debe dar un vector similar a $b^{*}$, entonces, el objetivo en busqueda de analogías es encontrar la palabra $b^{*}$ que máximiza una medida de similitud. La médida de similitud con más exito en esta tarea es 3Cosmul:\n",
    "\n",
    "\\begin{equation*}\n",
    "\\underset{b^{*}\\in V}{\\text{arg max}}\\frac{cos(b^{*}, b)cos(b^{*}, a^{*})}{cos(b^{*}, a)+\\epsilon)} \n",
    "\\end{equation*}\n",
    "\n",
    "donde $\\epsilon$=0.0001 y es usado para prevenir división la división por cero. 3CosMul requiere que todas las similitudes sean no negativas, para lo cual transforma la similitud coseno a rango [0, 1], usando $\\overline{cos(x,y)} = \\frac{cos(x,y)+1}{2}$.\n",
    "\n",
    "<img src='img/w2vec_analogy.png' width=500 heigth=500>\n"
   ]
  },
  {
   "cell_type": "code",
   "execution_count": 19,
   "metadata": {},
   "outputs": [],
   "source": [
    "def norm_cos(x,y):\n",
    "    return (cos(x,y)+1)/2\n",
    "\n",
    "def cos_mul(b, a_, a, topn):\n",
    "    \"\"\" \n",
    "    3CosMul: Medida de similitud utilizada para responder preguntas de analogías\n",
    "    \n",
    "    En analogías se tiene un conjunto b_, b (ej:reina, rey) y a_, a (ej:mujer, hombre), la intuición es que \n",
    "    b_-b es similar a a_-a y que la operación b-a+a_ debe dar un vector similar a b_, en busqueda de analogías \n",
    "    se busca la palabra b_ que máximiza 3CosMul.\n",
    "    \n",
    "    Entrega los n_tops resultados más similares como una lista de tuplas:\n",
    "    \n",
    "    Ejemplo::\n",
    "    \n",
    "    >>> cos_mul('rey', 'mujer', 'hombre', 5)\n",
    "\n",
    "        [('reina', 0.9140047562223514),\n",
    "         ('rey', 0.9061936251090417),\n",
    "         ('infanta', 0.8581019619488603),\n",
    "         ('berenguela', 0.8469323337883055),\n",
    "         ('princesa', 0.8443721928290459)]\n",
    "\n",
    "    \"\"\"\n",
    "   \n",
    "    #Conjunto de palabras donde se realizará la query\n",
    "    words_list = set(wordvectors.index2word)\n",
    "    words_list = words_list.difference({b, a_, a}) #eliminar palabras usadas en la query de la búsqueda\n",
    "    \n",
    "    \n",
    "    #vectores de las palabras de la query\n",
    "    b = wordvectors[b]\n",
    "    a_ = wordvectors[a_]\n",
    "    a = wordvectors[a]\n",
    "    \n",
    "    epsilon  = 0.0001 #para evitar divisiones por cero\n",
    "    \n",
    "    similarities_dict = {}\n",
    "    for word in words_list:\n",
    "        b_ = wordvectors[word] #vector de la palabra\n",
    "        #guardar similitud\n",
    "        similarities_dict[word] = norm_cos(b_, b)*norm_cos(b_, a_)/(norm_cos(b_, a)+epsilon)\n",
    "    #ordenar diccionario por similitud y entregar los n resultados más similares\n",
    "    tops = sorted(similarities_dict.items(), key=operator.itemgetter(1), reverse = True)[:topn]   \n",
    "    return tops"
   ]
  },
  {
   "cell_type": "code",
   "execution_count": 262,
   "metadata": {},
   "outputs": [
    {
     "data": {
      "text/plain": [
       "[('reina', 0.9140044452635799),\n",
       " ('infanta', 0.8581010861951421),\n",
       " ('berenguela', 0.8469311264119546),\n",
       " ('princesa', 0.84437190578192),\n",
       " ('consorte', 0.8354707016195237)]"
      ]
     },
     "execution_count": 262,
     "metadata": {},
     "output_type": "execute_result"
    }
   ],
   "source": [
    "b = 'rey'\n",
    "a_ ='mujer'\n",
    "a = 'hombre'\n",
    "cos_mul(b, a_, a, 5)"
   ]
  },
  {
   "cell_type": "code",
   "execution_count": 24,
   "metadata": {},
   "outputs": [
    {
     "data": {
      "text/plain": [
       "[('reina', 0.914152979850769),\n",
       " ('infanta', 0.8582400679588318),\n",
       " ('berenguela', 0.8470717668533325),\n",
       " ('princesa', 0.8445038199424744),\n",
       " ('consorte', 0.8355995416641235),\n",
       " ('ranavalona', 0.8260708451271057),\n",
       " ('emperatriz', 0.8247671723365784),\n",
       " ('regente', 0.8239890336990356),\n",
       " ('infantas', 0.810472846031189),\n",
       " ('adelgunda', 0.8082677721977234)]"
      ]
     },
     "execution_count": 24,
     "metadata": {},
     "output_type": "execute_result"
    }
   ],
   "source": [
    "#implementación de gensim\n",
    "wordvectors.most_similar_cosmul(positive=['rey','mujer'],negative=['hombre'])"
   ]
  },
  {
   "cell_type": "code",
   "execution_count": 22,
   "metadata": {},
   "outputs": [
    {
     "data": {
      "text/plain": [
       "[('actriz', 0.9687132835388184),\n",
       " ('compositora', 0.8557142019271851),\n",
       " ('actríz', 0.8530595302581787),\n",
       " ('cantante', 0.848200261592865),\n",
       " ('actrices', 0.8459416627883911),\n",
       " ('exactriz', 0.8435853123664856),\n",
       " ('dramaturga', 0.8354865908622742),\n",
       " ('presentadora', 0.8346391320228577),\n",
       " ('bailarina', 0.8301040530204773),\n",
       " ('coprotagonista', 0.8284390568733215)]"
      ]
     },
     "execution_count": 22,
     "metadata": {},
     "output_type": "execute_result"
    }
   ],
   "source": [
    "wordvectors.most_similar_cosmul(positive=['actor','mujer'],negative=['hombre'])"
   ]
  },
  {
   "cell_type": "code",
   "execution_count": 23,
   "metadata": {},
   "outputs": [
    {
     "data": {
      "text/plain": [
       "[('juega', 0.9270391464233398),\n",
       " ('jugaré', 0.8999035954475403),\n",
       " ('juegue', 0.8958004117012024),\n",
       " ('jugando', 0.883209228515625),\n",
       " ('jugará', 0.8695147037506104),\n",
       " ('juegan', 0.8680771589279175),\n",
       " ('jugarás', 0.8679772615432739),\n",
       " ('jugaría', 0.8661564588546753),\n",
       " ('jugado', 0.8658621311187744),\n",
       " ('jugaria', 0.8629751205444336)]"
      ]
     },
     "execution_count": 23,
     "metadata": {},
     "output_type": "execute_result"
    }
   ],
   "source": [
    "wordvectors.most_similar_cosmul(positive=['jugar','canta'],negative=['cantar'])"
   ]
  },
  {
   "cell_type": "code",
   "execution_count": 25,
   "metadata": {},
   "outputs": [
    {
     "data": {
      "text/plain": [
       "[('caracas', 0.9048649072647095),\n",
       " ('barinas', 0.8718462586402893),\n",
       " ('cojedes', 0.85147625207901),\n",
       " ('guanare', 0.8507247567176819),\n",
       " ('barquisimeto', 0.8451411724090576),\n",
       " ('caraballeda', 0.8443132638931274),\n",
       " ('aragua', 0.8427073955535889),\n",
       " ('maracaibo', 0.8378208875656128),\n",
       " ('miranda', 0.8358795046806335),\n",
       " ('zulia', 0.8357462286949158)]"
      ]
     },
     "execution_count": 25,
     "metadata": {},
     "output_type": "execute_result"
    }
   ],
   "source": [
    "wordvectors.most_similar_cosmul(positive=['santiago','venezuela'],negative=['chile'])"
   ]
  },
  {
   "cell_type": "markdown",
   "metadata": {},
   "source": [
    "#### Visualización de Words Embedding usando PCA"
   ]
  },
  {
   "cell_type": "code",
   "execution_count": 58,
   "metadata": {},
   "outputs": [
    {
     "name": "stderr",
     "output_type": "stream",
     "text": [
      "C:\\Users\\diego\\Anaconda3\\lib\\site-packages\\ipykernel_launcher.py:1: DeprecationWarning: Call to deprecated `__getitem__` (Method will be removed in 4.0.0, use self.wv.__getitem__() instead).\n",
      "  \"\"\"Entry point for launching an IPython kernel.\n"
     ]
    },
    {
     "data": {
      "text/plain": [
       "PCA(copy=True, iterated_power='auto', n_components=2, random_state=None,\n",
       "    svd_solver='auto', tol=0.0, whiten=False)"
      ]
     },
     "execution_count": 58,
     "metadata": {},
     "output_type": "execute_result"
    }
   ],
   "source": [
    "X = model[model.wv.vocab]\n",
    "print(X.shape)\n",
    "pca = PCA(n_components=2)\n",
    "pca.fit(X)"
   ]
  },
  {
   "cell_type": "code",
   "execution_count": 63,
   "metadata": {},
   "outputs": [
    {
     "data": {
      "image/png": "[encoded data removed]",
      "text/plain": [
       "<Figure size 432x288 with 1 Axes>"
      ]
     },
     "metadata": {
      "needs_background": "light"
     },
     "output_type": "display_data"
    }
   ],
   "source": [
    "words = ['santiago', 'caracas', 'venezuela', 'chile']\n",
    "words_to_transform = np.array([wordvectors[word] for word in words])\n",
    "words_transformed = pca.transform(words_to_transform)\n",
    "\n",
    "\n",
    "plt.scatter(words_transformed[:, 0], words_transformed[:, 1])\n",
    "for i, word in enumerate(words):\n",
    "    plt.annotate(word, xy = (words_transformed[i, 0], words_transformed[i, 1]))\n",
    "plt.show()"
   ]
  },
  {
   "cell_type": "code",
   "execution_count": 64,
   "metadata": {},
   "outputs": [
    {
     "data": {
      "image/png": "[encoded data removed]",
      "text/plain": [
       "<Figure size 432x288 with 1 Axes>"
      ]
     },
     "metadata": {
      "needs_background": "light"
     },
     "output_type": "display_data"
    }
   ],
   "source": [
    "words = ['jugar', 'cantar', 'jugaría', 'cantaría']\n",
    "words_to_transform = np.array([wordvectors[word] for word in words])\n",
    "words_transformed = pca.transform(words_to_transform)\n",
    "\n",
    "\n",
    "plt.scatter(words_transformed[:, 0], words_transformed[:, 1])\n",
    "for i, word in enumerate(words):\n",
    "    plt.annotate(word, xy = (words_transformed[i, 0], words_transformed[i, 1]))\n",
    "plt.show()"
   ]
  },
  {
   "cell_type": "code",
   "execution_count": 264,
   "metadata": {},
   "outputs": [
    {
     "data": {
      "image/png": "[encoded data removed]",
      "text/plain": [
       "<Figure size 432x288 with 1 Axes>"
      ]
     },
     "metadata": {
      "needs_background": "light"
     },
     "output_type": "display_data"
    }
   ],
   "source": [
    "words = ['abril', 'mayo', 'septiembre', 'julio', 'lunes', 'miércoles', 'viernes', 'martes']\n",
    "words_to_transform = np.array([wordvectors[word] for word in words])\n",
    "words_transformed = pca.transform(words_to_transform)\n",
    "\n",
    "\n",
    "plt.scatter(words_transformed[:, 0], words_transformed[:, 1])\n",
    "for i, word in enumerate(words):\n",
    "    plt.annotate(word, xy = (words_transformed[i, 0], words_transformed[i, 1]))\n",
    "plt.show()"
   ]
  },
  {
   "cell_type": "markdown",
   "metadata": {},
   "source": [
    "#### Búsqueda de términos excluidos\n",
    "\n",
    "Busca la palabra que está más lejos al resto de las palabras, para esto calcula la similitud coseno promedio de cada palabra versus el resto, la palabra con menor similitud promedio es el output."
   ]
  },
  {
   "cell_type": "code",
   "execution_count": 14,
   "metadata": {},
   "outputs": [
    {
     "name": "stderr",
     "output_type": "stream",
     "text": [
      "C:\\Users\\diego\\Anaconda3\\lib\\site-packages\\gensim\\models\\keyedvectors.py:730: FutureWarning: arrays to stack must be passed as a \"sequence\" type such as list or tuple. Support for non-sequence iterables such as generators is deprecated as of NumPy 1.16 and will raise an error in the future.\n",
      "  vectors = vstack(self.word_vec(word, use_norm=True) for word in used_words).astype(REAL)\n"
     ]
    },
    {
     "data": {
      "text/plain": [
       "'chile'"
      ]
     },
     "execution_count": 14,
     "metadata": {},
     "output_type": "execute_result"
    }
   ],
   "source": [
    "wordvectors.doesnt_match(['blanco','azul','rojo','chile'])"
   ]
  },
  {
   "cell_type": "code",
   "execution_count": 15,
   "metadata": {},
   "outputs": [
    {
     "data": {
      "text/plain": [
       "'martes'"
      ]
     },
     "execution_count": 15,
     "metadata": {},
     "output_type": "execute_result"
    }
   ],
   "source": [
    "wordvectors.doesnt_match(['abril', 'mayo', 'septiembre', 'martes', 'julio'])"
   ]
  },
  {
   "cell_type": "code",
   "execution_count": 16,
   "metadata": {},
   "outputs": [
    {
     "data": {
      "text/plain": [
       "'paris'"
      ]
     },
     "execution_count": 16,
     "metadata": {},
     "output_type": "execute_result"
    }
   ],
   "source": [
    "wordvectors.doesnt_match(['santiago', 'paris', 'talca', 'concepcion'])"
   ]
  },
  {
   "cell_type": "markdown",
   "metadata": {},
   "source": [
    "### 3.2 Similitud entre textos\n",
    "\n",
    "La similitud entre textos es una tarea más complicada que la similitud entre palabras, si bien se han entrenado redes neuronales con el objetivo de aprender directamente el vectore de una frase (phrase embedding), este no funciona muy bien, solo funciona en corpus grandes de frases cortas, además que son poco generalizables a diferencia de los word embedding."
   ]
  },
  {
   "cell_type": "markdown",
   "metadata": {},
   "source": [
    "#### Agregación\n",
    "\n",
    "Una forma sencilla de obtener una representación vectorial de un documento a partir de los vectores de las palabras que lo conforman es agregarlos, por ejemplo, a partir del promedio. \n",
    "\n",
    "\n",
    "\\begin{equation*}\n",
    "V_{d}= \\sum_{i=1}^{n}v_{i}\n",
    "\\end{equation*}\n",
    "\n",
    "donde $v_{i}$ el vector de la palabra $i$ del documento $d$ y $V_{d}$ es el vector del documento (phrase vector).\n",
    "\n",
    "\n",
    "El problema de esto es que la agregación tienede a suavizar los vectores y la semántica se empieza a perder sobre todo en documentos con un gran número de palabras."
   ]
  },
  {
   "cell_type": "code",
   "execution_count": 571,
   "metadata": {},
   "outputs": [],
   "source": [
    "def vector_agregation(doc, vocabulary=None):\n",
    "    \"\"\"\n",
    "    Input: str, documento.\n",
    "    Output: np.array, Vector promedio de los vectores de palabras.\n",
    "    \n",
    "    \"\"\"\n",
    "    #tokenizar el documento\n",
    "    bog =  tokenizer(doc, stopwords_remove=True, vocabulary=vocabulary)\n",
    "    #matriz con los vectores, solo se obtienen vectores de palabras que están en el vocabulario\n",
    "    words_vectors = np.array([wordvectors[word] for word in bog ])\n",
    "    return words_vectors.mean(axis=0)\n",
    "\n",
    "def corpus_matrix(corpus, vocabulary=None):\n",
    "    matrix = np.array([vector_agregation(doc, vocabulary) for doc in corpus])\n",
    "    return matrix"
   ]
  },
  {
   "cell_type": "code",
   "execution_count": 560,
   "metadata": {},
   "outputs": [
    {
     "data": {
      "text/plain": [
       "['Empresarios admiten que inmigración ha provocado impacto en los salarios y en cifras de desempleo',\n",
       " 'Desocupación en el Bío Bío baja a 6,7%: administración pública y salud generaron nuevos empleos',\n",
       " 'Desempleo se mantiene por sobre el 7%',\n",
       " 'Habla director de Compin Bío Bío que se autoaprobó licencia: afirma que no se percató que era suya',\n",
       " 'Hombre de 65 años inventó aviso de bomba en un avión por insólita razón: quería cita con una azafata',\n",
       " 'Profesor desvinculado tras pedir leer a Lemebel será indemnizado: No puedo volver a Independencia']"
      ]
     },
     "execution_count": 560,
     "metadata": {},
     "output_type": "execute_result"
    }
   ],
   "source": [
    "docs_list"
   ]
  },
  {
   "cell_type": "code",
   "execution_count": 561,
   "metadata": {},
   "outputs": [
    {
     "data": {
      "text/html": [
       "<div>\n",
       "<style scoped>\n",
       "    .dataframe tbody tr th:only-of-type {\n",
       "        vertical-align: middle;\n",
       "    }\n",
       "\n",
       "    .dataframe tbody tr th {\n",
       "        vertical-align: top;\n",
       "    }\n",
       "\n",
       "    .dataframe thead th {\n",
       "        text-align: right;\n",
       "    }\n",
       "</style>\n",
       "<table border=\"1\" class=\"dataframe\">\n",
       "  <thead>\n",
       "    <tr style=\"text-align: right;\">\n",
       "      <th></th>\n",
       "      <th>0</th>\n",
       "      <th>1</th>\n",
       "      <th>2</th>\n",
       "      <th>3</th>\n",
       "      <th>4</th>\n",
       "      <th>5</th>\n",
       "    </tr>\n",
       "  </thead>\n",
       "  <tbody>\n",
       "    <tr>\n",
       "      <th>0</th>\n",
       "      <td>1.000000</td>\n",
       "      <td>0.676903</td>\n",
       "      <td>0.738754</td>\n",
       "      <td>0.444896</td>\n",
       "      <td>0.485055</td>\n",
       "      <td>0.484614</td>\n",
       "    </tr>\n",
       "    <tr>\n",
       "      <th>1</th>\n",
       "      <td>0.676903</td>\n",
       "      <td>1.000000</td>\n",
       "      <td>0.611990</td>\n",
       "      <td>0.558161</td>\n",
       "      <td>0.389183</td>\n",
       "      <td>0.431275</td>\n",
       "    </tr>\n",
       "    <tr>\n",
       "      <th>2</th>\n",
       "      <td>0.738754</td>\n",
       "      <td>0.611990</td>\n",
       "      <td>1.000000</td>\n",
       "      <td>0.344407</td>\n",
       "      <td>0.329750</td>\n",
       "      <td>0.374123</td>\n",
       "    </tr>\n",
       "    <tr>\n",
       "      <th>3</th>\n",
       "      <td>0.444896</td>\n",
       "      <td>0.558161</td>\n",
       "      <td>0.344407</td>\n",
       "      <td>1.000000</td>\n",
       "      <td>0.498772</td>\n",
       "      <td>0.614822</td>\n",
       "    </tr>\n",
       "    <tr>\n",
       "      <th>4</th>\n",
       "      <td>0.485055</td>\n",
       "      <td>0.389183</td>\n",
       "      <td>0.329750</td>\n",
       "      <td>0.498772</td>\n",
       "      <td>1.000000</td>\n",
       "      <td>0.650855</td>\n",
       "    </tr>\n",
       "    <tr>\n",
       "      <th>5</th>\n",
       "      <td>0.484614</td>\n",
       "      <td>0.431275</td>\n",
       "      <td>0.374123</td>\n",
       "      <td>0.614822</td>\n",
       "      <td>0.650855</td>\n",
       "      <td>1.000000</td>\n",
       "    </tr>\n",
       "  </tbody>\n",
       "</table>\n",
       "</div>"
      ],
      "text/plain": [
       "          0         1         2         3         4         5\n",
       "0  1.000000  0.676903  0.738754  0.444896  0.485055  0.484614\n",
       "1  0.676903  1.000000  0.611990  0.558161  0.389183  0.431275\n",
       "2  0.738754  0.611990  1.000000  0.344407  0.329750  0.374123\n",
       "3  0.444896  0.558161  0.344407  1.000000  0.498772  0.614822\n",
       "4  0.485055  0.389183  0.329750  0.498772  1.000000  0.650855\n",
       "5  0.484614  0.431275  0.374123  0.614822  0.650855  1.000000"
      ]
     },
     "execution_count": 561,
     "metadata": {},
     "output_type": "execute_result"
    }
   ],
   "source": [
    "pd.DataFrame(cos_matrix(corpus_matrix(docs_list)))"
   ]
  },
  {
   "cell_type": "code",
   "execution_count": 562,
   "metadata": {},
   "outputs": [
    {
     "data": {
      "text/html": [
       "<div>\n",
       "<style scoped>\n",
       "    .dataframe tbody tr th:only-of-type {\n",
       "        vertical-align: middle;\n",
       "    }\n",
       "\n",
       "    .dataframe tbody tr th {\n",
       "        vertical-align: top;\n",
       "    }\n",
       "\n",
       "    .dataframe thead th {\n",
       "        text-align: right;\n",
       "    }\n",
       "</style>\n",
       "<table border=\"1\" class=\"dataframe\">\n",
       "  <thead>\n",
       "    <tr style=\"text-align: right;\">\n",
       "      <th></th>\n",
       "      <th>0</th>\n",
       "      <th>1</th>\n",
       "      <th>2</th>\n",
       "      <th>3</th>\n",
       "      <th>4</th>\n",
       "      <th>5</th>\n",
       "    </tr>\n",
       "  </thead>\n",
       "  <tbody>\n",
       "    <tr>\n",
       "      <th>0</th>\n",
       "      <td>1.000000</td>\n",
       "      <td>0.361452</td>\n",
       "      <td>0.327760</td>\n",
       "      <td>0.303738</td>\n",
       "      <td>0.317443</td>\n",
       "      <td>0.300799</td>\n",
       "    </tr>\n",
       "    <tr>\n",
       "      <th>1</th>\n",
       "      <td>0.361452</td>\n",
       "      <td>1.000000</td>\n",
       "      <td>0.293338</td>\n",
       "      <td>0.347691</td>\n",
       "      <td>0.320648</td>\n",
       "      <td>0.305161</td>\n",
       "    </tr>\n",
       "    <tr>\n",
       "      <th>2</th>\n",
       "      <td>0.327760</td>\n",
       "      <td>0.293338</td>\n",
       "      <td>1.000000</td>\n",
       "      <td>0.249655</td>\n",
       "      <td>0.250963</td>\n",
       "      <td>0.248093</td>\n",
       "    </tr>\n",
       "    <tr>\n",
       "      <th>3</th>\n",
       "      <td>0.303738</td>\n",
       "      <td>0.347691</td>\n",
       "      <td>0.249655</td>\n",
       "      <td>1.000000</td>\n",
       "      <td>0.343468</td>\n",
       "      <td>0.347995</td>\n",
       "    </tr>\n",
       "    <tr>\n",
       "      <th>4</th>\n",
       "      <td>0.317443</td>\n",
       "      <td>0.320648</td>\n",
       "      <td>0.250963</td>\n",
       "      <td>0.343468</td>\n",
       "      <td>1.000000</td>\n",
       "      <td>0.364465</td>\n",
       "    </tr>\n",
       "    <tr>\n",
       "      <th>5</th>\n",
       "      <td>0.300799</td>\n",
       "      <td>0.305161</td>\n",
       "      <td>0.248093</td>\n",
       "      <td>0.347995</td>\n",
       "      <td>0.364465</td>\n",
       "      <td>1.000000</td>\n",
       "    </tr>\n",
       "  </tbody>\n",
       "</table>\n",
       "</div>"
      ],
      "text/plain": [
       "          0         1         2         3         4         5\n",
       "0  1.000000  0.361452  0.327760  0.303738  0.317443  0.300799\n",
       "1  0.361452  1.000000  0.293338  0.347691  0.320648  0.305161\n",
       "2  0.327760  0.293338  1.000000  0.249655  0.250963  0.248093\n",
       "3  0.303738  0.347691  0.249655  1.000000  0.343468  0.347995\n",
       "4  0.317443  0.320648  0.250963  0.343468  1.000000  0.364465\n",
       "5  0.300799  0.305161  0.248093  0.347995  0.364465  1.000000"
      ]
     },
     "execution_count": 562,
     "metadata": {},
     "output_type": "execute_result"
    }
   ],
   "source": [
    "pd.DataFrame(l2_similarity_matrix(corpus_matrix(docs_list)))"
   ]
  },
  {
   "cell_type": "markdown",
   "metadata": {},
   "source": [
    "asdlasdsad\n",
    "as\n",
    "das\n",
    "d\n",
    "sad\n",
    "sad\n",
    "sad\n"
   ]
  },
  {
   "cell_type": "markdown",
   "metadata": {},
   "source": [
    "#### Word Mover's Distance\n",
    "\n",
    "La representación vectorial de documentos no es una tarea resulta a diferencia de las palabras, soluciones como agregación no funciona tan bien debido a que se pierde semántica y no es robusta a la cantidad de palabras, la solución a esto es utilizar medidas de distancias o similitud más elaboradas\n",
    "\n",
    "Word Mover's Distance (WMD) permite medir similitud (o disimilitud) entre documentos, utiliza dos ideas, la representación bag-of-words de un documento y word embedding.\n",
    "\n",
    "WMD busca minimizar el costo de transformar un documento a otro, para esto modelo el problema como un problema de flujo a costo mínimo (MCF).\n",
    "\n",
    "\\begin{equation*}\n",
    "\\begin{array}\n",
    "& & \\underset{T}{\\text{minimize}}\n",
    "& & \\sum_{i=1}^{m}\\sum_{j=1}^{n} c_{ij}T_{ij} \\\\\n",
    "& \\text{subject to}\n",
    "& & \\sum_{j=1}^{m}T_{ij}= d_{i} \\; i=1, \\ldots, m\\\\\n",
    "& & &\\sum_{i=1}^{n}T_{ij}= d_{j}^{´} \\; j=1, \\ldots, n\\\\\n",
    "& & & T_{ij} \\geq 0,\\; i = 1, \\ldots, m, \\; j=1, \\ldots n.\\\\\n",
    "\\end{array}\n",
    "\\end{equation*}\n",
    "\n",
    "Donde $T_{ij}$ es el flujo que va de la palabra $i$ del documento $d$ a la palabra $j$ del documento $d^{´}$, $d_{i}$ es el peso que tiene la palabra $i$ en la representación bag-of-words del documento $d$ (frecuencia normalizada por el número de palabras), $c_{ij}$ es el costo de mover una unidad de flujo por el arco $(i,j)$, el costo entre palabras se mide como la distancia 'l1' o 'l2' entre los embedding de dichas palabras. La primera restricción indica que el flujo que se mueve de una palabra $i$ del documento $d$ a todas las palabras del documento $d^{´}$ debe sumar su peso, la segunda restricción significa que el flujo que se mueve de una palabra $j$ del documento $d^{'}$ a todas las palabras del documento $d$ debe sumar su peso.\n",
    "\n",
    "\n",
    "\n",
    "<img src='img/wmd-obama.png' width=500, heigth=500>"
   ]
  },
  {
   "cell_type": "code",
   "execution_count": 294,
   "metadata": {},
   "outputs": [],
   "source": [
    "def wmd_matrix(docs_list):\n",
    "    wmd_matrix = np.zeros((len(docs_list), len(docs_list))) #matriz que guardará las distancias\n",
    "    bow = [tokenizer(doc, stopwords_remove=True) for doc in docs_list]   #lista con la representación bag-of-words de los docs\n",
    "    for i in range(len(docs_list)):\n",
    "        for j in range(len(docs_list)):\n",
    "            wmd_matrix[i,j] = wordvectors.wmdistance(bow[i], bow[j])\n",
    "    return wmd_matrix\n",
    "\n",
    "def wmd_sim_matrix(docs_list):\n",
    "    return 1/(1+ wmd_matrix(docs_list))"
   ]
  },
  {
   "cell_type": "code",
   "execution_count": 454,
   "metadata": {},
   "outputs": [
    {
     "data": {
      "text/plain": [
       "['Empresarios admiten que inmigración ha provocado impacto en los salarios y en cifras de desempleo',\n",
       " 'Desocupación en el Bío Bío baja a 6,7%: administración pública y salud generaron nuevos empleos',\n",
       " 'Desempleo se mantiene por sobre el 7%',\n",
       " 'Habla director de Compin Bío Bío que se autoaprobó licencia: afirma que no se percató que era suya',\n",
       " 'Hombre de 65 años inventó aviso de bomba en un avión por insólita razón: quería cita con una azafata',\n",
       " 'Profesor desvinculado tras pedir leer a Lemebel será indemnizado: No puedo volver a Independencia']"
      ]
     },
     "execution_count": 454,
     "metadata": {},
     "output_type": "execute_result"
    }
   ],
   "source": [
    "docs_list"
   ]
  },
  {
   "cell_type": "code",
   "execution_count": 298,
   "metadata": {},
   "outputs": [
    {
     "data": {
      "text/html": [
       "<div>\n",
       "<style scoped>\n",
       "    .dataframe tbody tr th:only-of-type {\n",
       "        vertical-align: middle;\n",
       "    }\n",
       "\n",
       "    .dataframe tbody tr th {\n",
       "        vertical-align: top;\n",
       "    }\n",
       "\n",
       "    .dataframe thead th {\n",
       "        text-align: right;\n",
       "    }\n",
       "</style>\n",
       "<table border=\"1\" class=\"dataframe\">\n",
       "  <thead>\n",
       "    <tr style=\"text-align: right;\">\n",
       "      <th></th>\n",
       "      <th>0</th>\n",
       "      <th>1</th>\n",
       "      <th>2</th>\n",
       "      <th>3</th>\n",
       "      <th>4</th>\n",
       "      <th>5</th>\n",
       "    </tr>\n",
       "  </thead>\n",
       "  <tbody>\n",
       "    <tr>\n",
       "      <th>0</th>\n",
       "      <td>0.000000</td>\n",
       "      <td>4.830216</td>\n",
       "      <td>3.841213</td>\n",
       "      <td>5.674107</td>\n",
       "      <td>4.923857</td>\n",
       "      <td>4.887952</td>\n",
       "    </tr>\n",
       "    <tr>\n",
       "      <th>1</th>\n",
       "      <td>4.830216</td>\n",
       "      <td>0.000000</td>\n",
       "      <td>4.938733</td>\n",
       "      <td>4.059509</td>\n",
       "      <td>5.381330</td>\n",
       "      <td>5.334730</td>\n",
       "    </tr>\n",
       "    <tr>\n",
       "      <th>2</th>\n",
       "      <td>3.841213</td>\n",
       "      <td>4.938733</td>\n",
       "      <td>0.000000</td>\n",
       "      <td>5.686099</td>\n",
       "      <td>5.033984</td>\n",
       "      <td>4.971366</td>\n",
       "    </tr>\n",
       "    <tr>\n",
       "      <th>3</th>\n",
       "      <td>5.674107</td>\n",
       "      <td>4.059509</td>\n",
       "      <td>5.686099</td>\n",
       "      <td>0.000000</td>\n",
       "      <td>5.441930</td>\n",
       "      <td>5.375846</td>\n",
       "    </tr>\n",
       "    <tr>\n",
       "      <th>4</th>\n",
       "      <td>4.923857</td>\n",
       "      <td>5.381330</td>\n",
       "      <td>5.033984</td>\n",
       "      <td>5.441930</td>\n",
       "      <td>0.000000</td>\n",
       "      <td>4.585185</td>\n",
       "    </tr>\n",
       "    <tr>\n",
       "      <th>5</th>\n",
       "      <td>4.887952</td>\n",
       "      <td>5.334730</td>\n",
       "      <td>4.971366</td>\n",
       "      <td>5.375846</td>\n",
       "      <td>4.585185</td>\n",
       "      <td>0.000000</td>\n",
       "    </tr>\n",
       "  </tbody>\n",
       "</table>\n",
       "</div>"
      ],
      "text/plain": [
       "          0         1         2         3         4         5\n",
       "0  0.000000  4.830216  3.841213  5.674107  4.923857  4.887952\n",
       "1  4.830216  0.000000  4.938733  4.059509  5.381330  5.334730\n",
       "2  3.841213  4.938733  0.000000  5.686099  5.033984  4.971366\n",
       "3  5.674107  4.059509  5.686099  0.000000  5.441930  5.375846\n",
       "4  4.923857  5.381330  5.033984  5.441930  0.000000  4.585185\n",
       "5  4.887952  5.334730  4.971366  5.375846  4.585185  0.000000"
      ]
     },
     "execution_count": 298,
     "metadata": {},
     "output_type": "execute_result"
    }
   ],
   "source": [
    "pd.DataFrame(wmd_matrix(docs_list))"
   ]
  },
  {
   "cell_type": "code",
   "execution_count": 299,
   "metadata": {},
   "outputs": [
    {
     "data": {
      "text/html": [
       "<div>\n",
       "<style scoped>\n",
       "    .dataframe tbody tr th:only-of-type {\n",
       "        vertical-align: middle;\n",
       "    }\n",
       "\n",
       "    .dataframe tbody tr th {\n",
       "        vertical-align: top;\n",
       "    }\n",
       "\n",
       "    .dataframe thead th {\n",
       "        text-align: right;\n",
       "    }\n",
       "</style>\n",
       "<table border=\"1\" class=\"dataframe\">\n",
       "  <thead>\n",
       "    <tr style=\"text-align: right;\">\n",
       "      <th></th>\n",
       "      <th>0</th>\n",
       "      <th>1</th>\n",
       "      <th>2</th>\n",
       "      <th>3</th>\n",
       "      <th>4</th>\n",
       "      <th>5</th>\n",
       "    </tr>\n",
       "  </thead>\n",
       "  <tbody>\n",
       "    <tr>\n",
       "      <th>0</th>\n",
       "      <td>1.000000</td>\n",
       "      <td>0.171520</td>\n",
       "      <td>0.206560</td>\n",
       "      <td>0.149833</td>\n",
       "      <td>0.168809</td>\n",
       "      <td>0.169838</td>\n",
       "    </tr>\n",
       "    <tr>\n",
       "      <th>1</th>\n",
       "      <td>0.171520</td>\n",
       "      <td>1.000000</td>\n",
       "      <td>0.168386</td>\n",
       "      <td>0.197648</td>\n",
       "      <td>0.156707</td>\n",
       "      <td>0.157860</td>\n",
       "    </tr>\n",
       "    <tr>\n",
       "      <th>2</th>\n",
       "      <td>0.206560</td>\n",
       "      <td>0.168386</td>\n",
       "      <td>1.000000</td>\n",
       "      <td>0.149564</td>\n",
       "      <td>0.165728</td>\n",
       "      <td>0.167466</td>\n",
       "    </tr>\n",
       "    <tr>\n",
       "      <th>3</th>\n",
       "      <td>0.149833</td>\n",
       "      <td>0.197648</td>\n",
       "      <td>0.149564</td>\n",
       "      <td>1.000000</td>\n",
       "      <td>0.155233</td>\n",
       "      <td>0.156842</td>\n",
       "    </tr>\n",
       "    <tr>\n",
       "      <th>4</th>\n",
       "      <td>0.168809</td>\n",
       "      <td>0.156707</td>\n",
       "      <td>0.165728</td>\n",
       "      <td>0.155233</td>\n",
       "      <td>1.000000</td>\n",
       "      <td>0.179045</td>\n",
       "    </tr>\n",
       "    <tr>\n",
       "      <th>5</th>\n",
       "      <td>0.169838</td>\n",
       "      <td>0.157860</td>\n",
       "      <td>0.167466</td>\n",
       "      <td>0.156842</td>\n",
       "      <td>0.179045</td>\n",
       "      <td>1.000000</td>\n",
       "    </tr>\n",
       "  </tbody>\n",
       "</table>\n",
       "</div>"
      ],
      "text/plain": [
       "          0         1         2         3         4         5\n",
       "0  1.000000  0.171520  0.206560  0.149833  0.168809  0.169838\n",
       "1  0.171520  1.000000  0.168386  0.197648  0.156707  0.157860\n",
       "2  0.206560  0.168386  1.000000  0.149564  0.165728  0.167466\n",
       "3  0.149833  0.197648  0.149564  1.000000  0.155233  0.156842\n",
       "4  0.168809  0.156707  0.165728  0.155233  1.000000  0.179045\n",
       "5  0.169838  0.157860  0.167466  0.156842  0.179045  1.000000"
      ]
     },
     "execution_count": 299,
     "metadata": {},
     "output_type": "execute_result"
    }
   ],
   "source": [
    "pd.DataFrame(wmd_sim_matrix(docs_list))"
   ]
  },
  {
   "cell_type": "markdown",
   "metadata": {},
   "source": [
    "## 4. K-Nearest Neighbors\n",
    "\n",
    "Para evaluar la calidad de una técnica de recuperación de información se suele recurrir a aprendizaje supervisado y la tarea escogida es clasificación. En este caso contamos con noticias etiquetadas, entonces, un buen método de recuperación de información dada una noticia como query debiese retornar dentro de las $k$ noticias más similares noticias de la misma categoría.\n",
    "\n",
    "K-Nearest Neighbors es un modelo de clasificación el cual etiqueta una observación utilizando como input la etiqueta de las $k$ observaciones más cercanas que pertenecen al conjunto de entrenamiento, por ejemplo, si tomamos una noticia del conjunto de test y el número de vecinos a buscar es $k=10$ y el resultado de la búsqueda dió 8 noticias de la categoría Economía y 2 noticias de la categoría Nacional, entonces, la etiqueta para esta noticia es Economía.\n",
    "\n",
    "Cada método de recuperación de información se diferencia en el cálculo de una medida de similitud (o disimilitud) entre observaciones, por tanto, un mejor método de recuperación de información debiese tener un KNN con mejores métricas de desempeño.\n",
    "\n",
    "<img src='img/knn_example.png'>"
   ]
  },
  {
   "cell_type": "markdown",
   "metadata": {},
   "source": [
    "### 4.1 KNN - TFIDF"
   ]
  },
  {
   "cell_type": "code",
   "execution_count": 647,
   "metadata": {},
   "outputs": [],
   "source": [
    "#Creamos los objetos necesarios para el flujo de entrenamiento\n",
    "clf_knn = KNeighborsClassifier(n_neighbors=20, metric='minkowski', p=2) #objeto clasificador\n",
    "tfidf_clf_knn = Pipeline([('vect', tfidf_vectorizer), ('clf', clf_knn)])#objeto pipeline"
   ]
  },
  {
   "cell_type": "code",
   "execution_count": 648,
   "metadata": {},
   "outputs": [
    {
     "data": {
      "text/plain": [
       "Pipeline(memory=None,\n",
       "         steps=[('vect',\n",
       "                 TfidfVectorizer(analyzer='word', binary=False,\n",
       "                                 decode_error='strict',\n",
       "                                 dtype=<class 'numpy.float64'>,\n",
       "                                 encoding='utf-8', input='content',\n",
       "                                 lowercase=True, max_df=0.8, max_features=None,\n",
       "                                 min_df=5, ngram_range=(1, 1), norm='l2',\n",
       "                                 preprocessor=None, smooth_idf=True,\n",
       "                                 stop_words=None, strip_accents=None,\n",
       "                                 sublinear_tf=False,\n",
       "                                 token_pattern='(?u)\\\\b\\\\w\\\\w+\\\\b',\n",
       "                                 tokenizer=<function <lambda> at 0x000002061B6B01E0>,\n",
       "                                 use_idf=True, vocabulary=None)),\n",
       "                ('clf',\n",
       "                 KNeighborsClassifier(algorithm='auto', leaf_size=30,\n",
       "                                      metric='minkowski', metric_params=None,\n",
       "                                      n_jobs=None, n_neighbors=20, p=2,\n",
       "                                      weights='uniform'))],\n",
       "         verbose=False)"
      ]
     },
     "execution_count": 648,
     "metadata": {},
     "output_type": "execute_result"
    }
   ],
   "source": [
    "#entrenamiento\n",
    "tfidf_clf_knn.fit(X_train, y_train)"
   ]
  },
  {
   "cell_type": "code",
   "execution_count": 649,
   "metadata": {},
   "outputs": [
    {
     "name": "stdout",
     "output_type": "stream",
     "text": [
      "               precision    recall  f1-score   support\n",
      "\n",
      "     Economia       0.80      0.90      0.85        40\n",
      "Internacional       0.84      0.80      0.82        40\n",
      "     Nacional       0.79      0.75      0.77        40\n",
      "      Opinion       0.78      0.70      0.74        40\n",
      "     Sociedad       0.84      0.90      0.87        40\n",
      "\n",
      "     accuracy                           0.81       200\n",
      "    macro avg       0.81      0.81      0.81       200\n",
      " weighted avg       0.81      0.81      0.81       200\n",
      "\n",
      "f1-score 0.8082228796108464 \n",
      "\n",
      "Normalized confusion matrix\n"
     ]
    },
    {
     "data": {
      "image/png": "[encoded data removed]",
      "text/plain": [
       "<Figure size 576x576 with 2 Axes>"
      ]
     },
     "metadata": {
      "needs_background": "light"
     },
     "output_type": "display_data"
    }
   ],
   "source": [
    "#test\n",
    "y_predicted = tfidf_clf_knn.predict(X_test)\n",
    "cm = confusion_matrix(y_test, y_predicted)\n",
    "class_report = classification_report(y_test, y_predicted) \n",
    "print(class_report)\n",
    "f1 = f1_score(y_test, y_predicted, average='macro') \n",
    "print('f1-score', f1, '\\n')\n",
    "plot_confusion_matrix(cm, [*tfidf_clf_knn.classes_], normalize=True) "
   ]
  },
  {
   "cell_type": "markdown",
   "metadata": {},
   "source": [
    "KNN con TF funciona pésimo y es debido a que las variables no estan normalizadas (solo frecuencia) y la distancia euclideana es bastante sensible a ese fenómeno, por tanto, es recomendable usar TF-IDF."
   ]
  },
  {
   "cell_type": "markdown",
   "metadata": {},
   "source": [
    "### 4.2 KNN-Words Embedding-Vectors Agregation"
   ]
  },
  {
   "cell_type": "code",
   "execution_count": 650,
   "metadata": {},
   "outputs": [],
   "source": [
    "args = {\"stopwords_remove\": True}\n",
    "tf_vectorizer = CountVectorizer(analyzer='word', tokenizer=lambda text: tokenizer(text, **args),\n",
    "                               max_df = 0.8, min_df = 5)\n",
    "tf_vectorizer.fit(X_train, X_test)\n",
    "vocabulary = [*tf_vectorizer.vocabulary_.keys()]"
   ]
  },
  {
   "cell_type": "code",
   "execution_count": 651,
   "metadata": {},
   "outputs": [
    {
     "data": {
      "text/plain": [
       "KNeighborsClassifier(algorithm='auto', leaf_size=30, metric='minkowski',\n",
       "                     metric_params=None, n_jobs=None, n_neighbors=10, p=2,\n",
       "                     weights='uniform')"
      ]
     },
     "execution_count": 651,
     "metadata": {},
     "output_type": "execute_result"
    }
   ],
   "source": [
    "V_train  = corpus_matrix([*X_train])\n",
    "V_test = corpus_matrix([*X_test])\n",
    "va_clf_knn = KNeighborsClassifier(n_neighbors=10, metric='minkowski', p=2)\n",
    "#entrenamiento\n",
    "va_clf_knn.fit(V_train, y_train)"
   ]
  },
  {
   "cell_type": "code",
   "execution_count": 652,
   "metadata": {},
   "outputs": [
    {
     "name": "stdout",
     "output_type": "stream",
     "text": [
      "               precision    recall  f1-score   support\n",
      "\n",
      "     Economia       0.85      0.85      0.85        40\n",
      "Internacional       0.94      0.85      0.89        40\n",
      "     Nacional       0.82      0.70      0.76        40\n",
      "      Opinion       0.67      0.78      0.72        40\n",
      "     Sociedad       0.84      0.93      0.88        40\n",
      "\n",
      "     accuracy                           0.82       200\n",
      "    macro avg       0.83      0.82      0.82       200\n",
      " weighted avg       0.83      0.82      0.82       200\n",
      "\n",
      "f1-score 0.820675242474508 \n",
      "\n",
      "Normalized confusion matrix\n"
     ]
    },
    {
     "data": {
      "image/png": "[encoded data removed]",
      "text/plain": [
       "<Figure size 576x576 with 2 Axes>"
      ]
     },
     "metadata": {
      "needs_background": "light"
     },
     "output_type": "display_data"
    }
   ],
   "source": [
    "#test\n",
    "y_predicted = va_clf_knn.predict(V_test)\n",
    "cm = confusion_matrix(y_test, y_predicted)\n",
    "class_report = classification_report(y_test, y_predicted) \n",
    "print(class_report)\n",
    "f1 = f1_score(y_test, y_predicted, average='macro') \n",
    "print('f1-score', f1, '\\n')\n",
    "plot_confusion_matrix(cm, [*va_clf_knn.classes_], normalize=True) "
   ]
  },
  {
   "cell_type": "markdown",
   "metadata": {},
   "source": [
    "### 4.3 KNN-Word Move's Distance"
   ]
  },
  {
   "cell_type": "code",
   "execution_count": 686,
   "metadata": {},
   "outputs": [],
   "source": [
    "class KNN_WMD_Classifer():\n",
    "    def __init__(self, n_neighbors=5, vocabulary=None):\n",
    "        self.n_neighbors = n_neighbors\n",
    "        self.vocabulary = vocabulary\n",
    "    #Guardar datos de entrenamientos\n",
    "    def fit(self, X_train, y_train):\n",
    "        #corpus de train tokenizado\n",
    "        self.X_train = [tokenizer(doc, stopwords_remove=True, vocabulary=self.vocabulary) for doc in X_train] \n",
    "        self.y_train = [*y_train]\n",
    "\n",
    "    def predict(self, X_test):\n",
    "        #corpus de test tokenizado\n",
    "        self.X_test = [tokenizer(doc, stopwords_remove=True, vocabulary=self.vocabulary) for doc in X_test] \n",
    "       \n",
    "        y_predict = []\n",
    "        for i in range(len(self.X_test)):\n",
    "            #Inicialización\n",
    "            distance_vector = np.zeros(len(self.X_train))\n",
    "            #Calcular las distancias de cada documento de test con todos los documentos de train\n",
    "            for j in range(len(self.X_train)):\n",
    "                distance = wordvectors.wmdistance(self.X_test[i], self.X_train[j])\n",
    "                distance_vector[j] = distance\n",
    "            #Cálcular los k-vecinos\n",
    "            knn_argvector = distance_vector.argsort()[:self.n_neighbors]\n",
    "            knn_classes = [self.y_train[i] for i in knn_argvector]\n",
    "            #Cálcular la etiqueta y guardar\n",
    "            count_dict = count_unique_element_in_list(knn_classes)\n",
    "            majority_class = sorted(count_dict.items(), key=operator.itemgetter(1), reverse = True)[0][0]\n",
    "            y_predict.append(majority_class)\n",
    "        return y_predict\n",
    "    \n",
    "\n",
    "    \n",
    "def count_unique_element_in_list(list_to_count):\n",
    "    count_dict = {}\n",
    "    for elem in list_to_count:\n",
    "        if elem in count_dict.keys():\n",
    "            count_dict[elem]+=1\n",
    "        else:\n",
    "            count_dict[elem]=1\n",
    "    return count_dict      "
   ]
  },
  {
   "cell_type": "markdown",
   "metadata": {},
   "source": [
    "https://vene.ro/blog/word-movers-distance-in-python.html"
   ]
  },
  {
   "cell_type": "code",
   "execution_count": null,
   "metadata": {},
   "outputs": [],
   "source": [
    "ti = time()\n",
    "#Objeto clasificador\n",
    "wmd_clf_knn = KNN_WMD_Classifer(n_neighbors=10, vocabulary=vocabulary)\n",
    "#Entrenamiento\n",
    "wmd_clf_knn.fit(X_train,y_train)\n",
    "#Predicción\n",
    "y_predicted = wmd_clf_knn.predict(X_test)\n",
    "tf=time()\n",
    "print(tf-ti)"
   ]
  },
  {
   "cell_type": "code",
   "execution_count": null,
   "metadata": {},
   "outputs": [],
   "source": [
    "#Evaluación\n",
    "cm = confusion_matrix(y_test, y_predicted)\n",
    "class_report = classification_report(y_test, y_predicted) \n",
    "print(class_report)\n",
    "f1 = f1_score(y_test, y_predicted, average='macro') \n",
    "print('f1-score', f1, '\\n')\n",
    "plot_confusion_matrix(cm, [*tfidf_clf_knn.classes_], normalize=True) "
   ]
  },
  {
   "cell_type": "code",
   "execution_count": 693,
   "metadata": {},
   "outputs": [
    {
     "data": {
      "text/plain": [
       "4.666666666666667"
      ]
     },
     "execution_count": 693,
     "metadata": {},
     "output_type": "execute_result"
    }
   ],
   "source": [
    "(84*200/3600)"
   ]
  },
  {
   "cell_type": "markdown",
   "metadata": {},
   "source": [
    "# Topic Modeling\n",
    "\n",
    "El modelamiento de tópicos, es una herramienta estadística que busca encontrar los temas presentes en un conjunto de documentos (corpus), permitiendo organizar, buscar, indexar, explorar y comprender grandes colecciones de documentos.\\\\\n",
    "\n",
    "\n",
    "En este sentido, los temas se pueden definir como ``un patrón repetitivo de términos co-currentes en un corpus''. Por ejemplo, se tiene el siguiente tópico, representado por sus cuatro palabras más probables, ``salud'', ``médico'', ``paciente'', ``hospital'', estas palabras sugieren el siguiente nombre para el tema: ``Atención médica‘’.En los modelos convencionales de tópicos:\n",
    "1. Las palabras dentro de un documento y los documentos son tratados como intercambiables.\n",
    "2. La mayoría de estos fijan el número de tópicos y lo  mantienen así a lo largo del corpus completo.\n",
    "\n",
    "\n",
    "## 1. Latent Dirichlet Allocation\n",
    " \n",
    "Sean  *K* tópicos, $\\beta_{1:K}$ son distribuciones de probabilidad sobre un vocabulario fijo, dibujadas por una $Dirichlet(\\eta)$. Para cada documento $d$ del corpus $D$ se asume que es dibujado por el siguiente proceso generativo:\n",
    "\n",
    "\n",
    "1. Escoger la mezcla de tópicos $\\theta_{d}$ de una distribución sobre un $(K− 1)-simplex$, tal como una $Dirichlet(\\alpha)$.\n",
    "2. Para cada palabra:\n",
    "    - Escoger la asignación del tópico $z\\sim Mult(\\theta_{d})$\n",
    "    - Escoger una palabra $w \\sim Mult(\\beta_{z})$\n",
    "\n",
    "\n",
    "<img src='img/lda_graphical_model.png'>\n",
    "\n",
    " \n",
    "### Ejemplo de output\n",
    "### Revisar Murphy Mixture Models\n",
    "### K-means\n",
    " \n",
    "Blei, D. M., Ng, A. Y., and Jordan, M. I. (2003). Latent dirichlet allocation. Journal of machine Learning research, 3(Jan):993–1022."
   ]
  },
  {
   "cell_type": "code",
   "execution_count": null,
   "metadata": {},
   "outputs": [],
   "source": [
    "#Creamos el diccionario a partir de los textos procesados en el formato que necesita LDA en gensim\n",
    "dictionary = Dictionary(newcorpus)\n",
    "\n",
    "#Creamos el corpus para darle al modelo (segun el formato de esta libreria)\n",
    "#El corpus contiene una representacion numerica de los textos, un texto es representada por una lista de tuplas\n",
    "#donde el primer elemento de la tupla es la id de la palabra y el segundo es su frecuencia de aparición en el texto.\n",
    "\n",
    "\n",
    "corpus = [dictionary.doc2bow(text) for text in newcorpus]\n",
    "\n",
    "#guardamos el diccionario y el corpus\n",
    "dictionary.save('dictionary.dict')\n",
    "MmCorpus.serialize('corpus.mm', corpus)"
   ]
  },
  {
   "cell_type": "code",
   "execution_count": null,
   "metadata": {},
   "outputs": [],
   "source": [
    "print('Primer elemento del diccionario o bolsa de palabras:', dictionary[0])\n",
    "print('Representación del corpus en el formato que requiere la librería: \\n', corpus[0:2] )"
   ]
  },
  {
   "cell_type": "code",
   "execution_count": null,
   "metadata": {},
   "outputs": [],
   "source": [
    "Lda_k_5=LdaModel(corpus=corpus, id2word=dictionary, num_topics=5) \n",
    "Lda_k_5.save('Lda_k_5.model') # guardamos el modelo"
   ]
  },
  {
   "cell_type": "markdown",
   "metadata": {},
   "source": [
    "## Visualización LDA\n",
    "\n",
    "Las visualizaciones en modelamiento de tópicos nos ayudan a responder tres preguntas:\n",
    "\n",
    "1. **¿Cuál es el significado de cada tópico?**\n",
    "2. **¿Cuán predominante es cada tópico?**\n",
    "3. **¿Cómo se relacionan los tópicos entre sí?**\n",
    "\n",
    "\n",
    "\n",
    "Sievert, C., & Shirley, K. (2014), desarrollaron una herramienta de visualización para responder estas preguntas. La herramienta a través de una visualización espacial responde la pregunta 2 y 3.  \n",
    "\n",
    "Además para responder la pregunta 1 incorporan un gráfico de barras a la derecha del gráfico espacial que muestra las palabras más relevantes del tópico seleccionado dado un parámetro $\\lambda$ entre 0 y 1,  entonces, la relevancia de la palabra w en el tópico $k$ dado $\\lambda$ esta dada a  través de la siguiente formula:\n",
    "\\begin{equation*}\n",
    "r(w,k|\\lambda) = \\lambda log(\\phi_{k,w})+(1-\\lambda)log(\\frac{\\phi_{k,w}}{p_{w}}), \\lambda \\in [0,1]$$\n",
    "\\end{equation*}\n",
    "Donde $\\phi_{k,w}$ es la probabilidad de que el término $w$ sea generado por el tópico $k$, $p_{w}$ es la probabilidad de el término $w$ en el corpus.\\\\  \n",
    "\n",
    "\n",
    "\\footnote{Sievert, C., & Shirley, K. (2014). LDAvis: A method for visualizing and interpreting topics. In Proceedings of the workshop on interactive language learning, visualization, and interfaces (pp. 63-70).} \n",
    "\n",
    "\\href{http://nbviewer.jupyter.org/github/bmabey/hacker_news_topic_modelling/blob/master/HN\\%20Topic\\%20Model\\%20Talk.ipynb#topic=3&lambda=0.46&term=}{ \\texttt{Click aquí: LDAvis example}}\n",
    "  "
   ]
  },
  {
   "cell_type": "code",
   "execution_count": null,
   "metadata": {},
   "outputs": [],
   "source": [
    "#Preparar los datos para generarar la visualización de LDA\n",
    "lda_display = pyLDAvis.gensim.prepare(Lda_k_5, corpus, dictionary, sort_topics=True, R=30)"
   ]
  },
  {
   "cell_type": "code",
   "execution_count": null,
   "metadata": {},
   "outputs": [],
   "source": []
  },
  {
   "cell_type": "code",
   "execution_count": null,
   "metadata": {},
   "outputs": [],
   "source": []
  },
  {
   "cell_type": "code",
   "execution_count": null,
   "metadata": {},
   "outputs": [],
   "source": []
  },
  {
   "cell_type": "code",
   "execution_count": null,
   "metadata": {},
   "outputs": [],
   "source": []
  }
 ],
 "metadata": {
  "kernelspec": {
   "display_name": "Python 3",
   "language": "python",
   "name": "python3"
  },
  "language_info": {
   "codemirror_mode": {
    "name": "ipython",
    "version": 3
   },
   "file_extension": ".py",
   "mimetype": "text/x-python",
   "name": "python",
   "nbconvert_exporter": "python",
   "pygments_lexer": "ipython3",
   "version": "3.7.3"
  },
  "latex_envs": {
   "LaTeX_envs_menu_present": true,
   "autoclose": false,
   "autocomplete": true,
   "bibliofile": "biblio.bib",
   "cite_by": "apalike",
   "current_citInitial": 1,
   "eqLabelWithNumbers": true,
   "eqNumInitial": 1,
   "hotkeys": {
    "equation": "Ctrl-E",
    "itemize": "Ctrl-I"
   },
   "labels_anchors": false,
   "latex_user_defs": false,
   "report_style_numbering": false,
   "user_envs_cfg": false
  }
 },
 "nbformat": 4,
 "nbformat_minor": 2
}
